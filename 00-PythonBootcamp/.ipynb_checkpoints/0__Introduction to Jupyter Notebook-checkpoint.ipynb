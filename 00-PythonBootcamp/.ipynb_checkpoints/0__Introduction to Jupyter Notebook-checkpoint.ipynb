{
 "cells": [
  {
   "cell_type": "markdown",
   "id": "6bdcad16",
   "metadata": {},
   "source": [
    "# Introduction to Python and Jupyter Notebooks"
   ]
  },
  {
   "cell_type": "markdown",
   "id": "2cbbe1f8",
   "metadata": {},
   "source": [
    "Jupyter notebooks have two types of cells. Cells that contain documentation are called `Markdown Cells`. The name is derived from the simple formatting language used in the cells. It's useful to understand the `cell pulldown` shown in the graphic below. Occasionally, a cell will end up in the wrong mode and you may need to restore it to the right state:"
   ]
  },
  {
   "cell_type": "markdown",
   "id": "7c60ca6e",
   "metadata": {},
   "source": [
    "<figure>\n",
    "   <img src=\"./images/C1W1L1_Markdown.PNG\"  alt='missing' width=\"300\"  >\n",
    "<figure/>"
   ]
  },
  {
   "cell_type": "markdown",
   "id": "1a4ca1fa",
   "metadata": {},
   "source": [
    "The other type of cell is the `code cell` where you will write your code:"
   ]
  },
  {
   "cell_type": "code",
   "execution_count": null,
   "id": "58c16cd9",
   "metadata": {},
   "outputs": [],
   "source": [
    "#This is  a 'Code' Cell\n",
    "print(\"This is  code cell\")"
   ]
  },
  {
   "cell_type": "markdown",
   "id": "91899899-eaf8-407b-bf53-322c8f78b8d1",
   "metadata": {},
   "source": [
    "Watch this video (16 min) later for a short intro to Jupyter Notebook\n",
    "https://www.youtube.com/watch?v=2eg0nm-vbUQ&ab_channel=JapaElite"
   ]
  },
  {
   "cell_type": "markdown",
   "id": "e778fb4a-9bd8-4039-9cb4-d9235d787dfa",
   "metadata": {},
   "source": [
    "100 words - What you have leaned from this video or any other video on intro to Jupyter Notebook?"
   ]
  },
  {
   "cell_type": "markdown",
   "id": "0e888456-a612-4f37-b930-0f97887ee9ae",
   "metadata": {},
   "source": [
    "**ANSWER HERE:**  I've learned that it's an interactive computing environment ideal for data analysis, machine learning, and scientific research. It supports various programming languages, with Python being the most common. Notebooks are divided into cells, where you can write and execute code, display outputs, and create rich text using Markdown. This format is especially useful for combining code with documentation and visualizations in a single document. Jupyter's flexibility and user-friendly interface make it a powerful tool for both beginners and experienced developers in conducting and sharing research."
   ]
  },
  {
   "cell_type": "markdown",
   "id": "86089e23",
   "metadata": {},
   "source": [
    "You can write your code in the code cells. \n",
    "To run the code, select the cell and either\n",
    "- hold the shift-key down and hit 'enter' or 'return'\n",
    "- click the 'run' arrow above\n",
    "<figure>\n",
    "    <img src=\"./images/C1W1L1_Run.PNG\"  width=\"300\"  >\n",
    "<figure/>\n",
    "\n",
    " "
   ]
  },
  {
   "cell_type": "markdown",
   "id": "669ee906-8166-4a5f-bab6-aacee9b5575a",
   "metadata": {},
   "source": [
    "Ex_1. Create a new 'Markdown Line' below this line and type \"# This is heading 1\" - Use play icon to run the cell"
   ]
  },
  {
   "cell_type": "code",
   "execution_count": 6,
   "id": "bf011dd5",
   "metadata": {},
   "outputs": [],
   "source": [
    "# This is heading 1"
   ]
  },
  {
   "cell_type": "markdown",
   "id": "e9d8e358-a9a9-4012-9ca3-18193931e97c",
   "metadata": {},
   "source": [
    "Ex_2. Create a new 'Markdown Line' below this line and type \"## This is heading 2\""
   ]
  },
  {
   "cell_type": "markdown",
   "id": "c80e5121",
   "metadata": {},
   "source": [
    "## This is heading 2"
   ]
  },
  {
   "cell_type": "markdown",
   "id": "8cef8a9a-4b29-4cdf-a6d8-21fa9665e78e",
   "metadata": {},
   "source": [
    "Ex_3. Create a new 'Markdown Line' below this line and type \"### This is heading 3\""
   ]
  },
  {
   "cell_type": "markdown",
   "id": "09fdb1b5",
   "metadata": {},
   "source": [
    "### This is heading 3"
   ]
  },
  {
   "cell_type": "markdown",
   "id": "bfe317b7",
   "metadata": {},
   "source": [
    "### Print statement\n",
    "Print statements will generally use the python f-string style.  \n",
    "\n",
    "<figure>\n",
    "   <img src=\"./images/Print Function.PNG\"  alt='missing' width=\"700\"  >\n",
    "<figure/>"
   ]
  },
  {
   "cell_type": "code",
   "execution_count": 7,
   "id": "e9d2d430",
   "metadata": {},
   "outputs": [
    {
     "name": "stdout",
     "output_type": "stream",
     "text": [
      "f strings allow you to embed variables right in the strings!\n"
     ]
    }
   ],
   "source": [
    "# print statements - Run this cell\n",
    "variable = \"right in the strings!\"\n",
    "print(f\"f strings allow you to embed variables {variable}\")"
   ]
  },
  {
   "cell_type": "markdown",
   "id": "0c216ab1-277e-414c-b7b7-6eb7aac0fe2f",
   "metadata": {},
   "source": [
    "What does this mean \"f strings allow you to embed variables\"? \n",
    "\n",
    "**ANS:** \"F-strings\" in Python allow you to directly embed variables and expressions inside a string by prefixing the string with an f or F. This makes it easy to create formatted strings by including variables within curly braces {} inside the string."
   ]
  },
  {
   "cell_type": "markdown",
   "id": "cbac3a9b-d869-41e1-8c64-a3d1372c5ced",
   "metadata": {},
   "source": [
    "Type this in a code line => `print(\"Hello\", \"how are you?\")`"
   ]
  },
  {
   "cell_type": "code",
   "execution_count": 8,
   "id": "c79aef6f-b9f9-4c3c-bd36-c6409b2b2edc",
   "metadata": {},
   "outputs": [
    {
     "name": "stdout",
     "output_type": "stream",
     "text": [
      "Hello how are you?\n"
     ]
    }
   ],
   "source": [
    "print(\"Hello\", \"how are you?\")"
   ]
  },
  {
   "cell_type": "markdown",
   "id": "24b41bab-82f7-45d4-93f3-3b9e8dcd6ae7",
   "metadata": {},
   "source": [
    "Try this in one Code cell =>\n",
    "\n",
    "`x = (\"apple\", \"banana\", \"cherry\")`\n",
    "\n",
    "`print(x)`"
   ]
  },
  {
   "cell_type": "code",
   "execution_count": 9,
   "id": "5964043e-4173-442d-aee9-7223e81b6185",
   "metadata": {},
   "outputs": [
    {
     "name": "stdout",
     "output_type": "stream",
     "text": [
      "('apple', 'banana', 'cherry')\n"
     ]
    }
   ],
   "source": [
    "x = (\"apple\", \"banana\", \"cherry\")\n",
    "\n",
    "print(x)"
   ]
  },
  {
   "cell_type": "markdown",
   "id": "4f5d3b55-914e-42e6-b871-85201354384a",
   "metadata": {},
   "source": [
    "Run this code => `print(\"Hello\", \"how are you?\", sep=\"---\")`"
   ]
  },
  {
   "cell_type": "code",
   "execution_count": 10,
   "id": "132cbc11-7e82-4b65-998e-6eb6019889b7",
   "metadata": {},
   "outputs": [
    {
     "name": "stdout",
     "output_type": "stream",
     "text": [
      "Hello---how are you?\n"
     ]
    }
   ],
   "source": [
    "print(\"Hello\", \"how are you?\", sep=\"---\")"
   ]
  },
  {
   "cell_type": "markdown",
   "id": "e718894c-60f2-433c-908f-547af390a1c3",
   "metadata": {},
   "source": [
    "Ask ChatGPT about the application of 'end' in print function and learn what it does. "
   ]
  },
  {
   "cell_type": "markdown",
   "id": "21770a88-d059-42c7-9354-fc17963d3af0",
   "metadata": {},
   "source": [
    "**ANS:** The end parameter in Python's print function specifies what is printed at the end of the output, instead of the default newline character (`\\n`). By default, each print function call ends with a newline, causing the next output to appear on a new line. However, you can change this behavior by setting the end parameter to a different string."
   ]
  },
  {
   "cell_type": "markdown",
   "id": "d85dca11-fb4e-4e84-a799-a40c75167faa",
   "metadata": {},
   "source": [
    "Write a code below to show us that you know how it works."
   ]
  },
  {
   "cell_type": "code",
   "execution_count": 14,
   "id": "e78bdd14-32db-483b-8e2d-8d2d05376193",
   "metadata": {},
   "outputs": [
    {
     "name": "stdout",
     "output_type": "stream",
     "text": [
      "Hello World!\n"
     ]
    }
   ],
   "source": [
    "print(\"Hello\", end=\" \")\n",
    "print(\"World!\")\n"
   ]
  },
  {
   "cell_type": "markdown",
   "id": "f64d6f63-2236-4e25-a27a-337b82fd9389",
   "metadata": {},
   "source": [
    "Make four food type in different strings and then print it while separating them by ; and end it with &\n",
    "a='Salad' ..."
   ]
  },
  {
   "cell_type": "code",
   "execution_count": 13,
   "id": "5016a2d9-836b-4927-b8b0-dab8a5e6f3e5",
   "metadata": {},
   "outputs": [
    {
     "name": "stdout",
     "output_type": "stream",
     "text": [
      "Biryani ; Mandi ; كنافة ; Shawarma & a Fattoush Salad"
     ]
    }
   ],
   "source": [
    "print(\"Biryani\", \"Mandi\", \"كنافة\", \"Shawarma\", sep=' ; ', end=' & a Fattoush Salad')"
   ]
  },
  {
   "cell_type": "markdown",
   "id": "6979d13b-37cf-44a1-97ce-b51361eb4b97",
   "metadata": {},
   "source": [
    "___"
   ]
  }
 ],
 "metadata": {
  "kernelspec": {
   "display_name": "Python 3 (ipykernel)",
   "language": "python",
   "name": "python3"
  },
  "language_info": {
   "codemirror_mode": {
    "name": "ipython",
    "version": 3
   },
   "file_extension": ".py",
   "mimetype": "text/x-python",
   "name": "python",
   "nbconvert_exporter": "python",
   "pygments_lexer": "ipython3",
   "version": "3.11.5"
  }
 },
 "nbformat": 4,
 "nbformat_minor": 5
}
