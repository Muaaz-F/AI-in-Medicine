{
 "cells": [
  {
   "cell_type": "markdown",
   "id": "988cfd49-e706-47c6-afbc-b039bd679cd3",
   "metadata": {},
   "source": [
    "# NumPy \n",
    "\n",
    "Python is the programming language we will be using in this course. It has a set of numeric data types and arithmetic operations. NumPy is a library that extends the base capabilities of python to add a richer data set including more numeric types, vectors, matrices, and many matrix functions. NumPy and python work together fairly seamlessly. Python arithmetic operators work on NumPy data types and many NumPy functions will accept python data types.\n",
    "\n",
    "NumPy is a powerful linear algebra library for Python. What makes it so important is that almost all of the libraries in the <a href='https://pydata.org/'>PyData</a> ecosystem (pandas, scipy, scikit-learn, etc.) rely on NumPy as one of their main building blocks. Plus we will use it to generate data for our analysis examples later on!\n",
    "\n",
    "NumPy is also incredibly fast, as it has bindings to C libraries. For more info on why you would want to use arrays instead of lists, check out this great [StackOverflow post](http://stackoverflow.com/questions/993984/why-numpy-instead-of-python-lists).\n",
    "Refer to [Numpy's official documentation on various installation instructions.](https://www.scipy.org/install.html)\n",
    "\n",
    "You can import numpy as \"ANYTHING YOU LIKE\""
   ]
  },
  {
   "cell_type": "code",
   "execution_count": 1,
   "id": "96cc9c23-ea9f-4cb8-9b01-b8a8b93094ac",
   "metadata": {},
   "outputs": [],
   "source": [
    "import numpy as np     # it is an unofficial standard to use np for numpy"
   ]
  },
  {
   "cell_type": "markdown",
   "id": "777b2fd1-4d57-4783-9618-3a54790de2d8",
   "metadata": {},
   "source": [
    "### NumPy Arrays\n",
    "\n",
    "# 3 Vectors\n",
    "## 3.1 Abstract\n",
    "<img align=\"right\" src=\"./images/C1_W2_Lab04_Vectors.PNG\" style=\"width:340px;\" >Vectors, as you will use them in this course, are ordered arrays of numbers. In notation, vectors are denoted with lower case bold letters such as $\\mathbf{x}$.  The elements of a vector are all the same type. A vector does not, for example, contain both characters and numbers. The number of elements in the array is often referred to as the *dimension* though mathematicians may prefer *rank*. The vector shown has a dimension of $n$. The elements of a vector can be referenced with an index. In math settings, indexes typically run from 1 to n. In computer science and these labs, indexing will typically run from 0 to n-1.  In notation, elements of a vector, when referenced individually will indicate the index in a subscript, for example, the $0^{th}$ element, of the vector $\\mathbf{x}$ is $x_0$. Note, the x is not bold in this case.  \n",
    "\n",
    "## 3.2 NumPy Arrays\n",
    "\n",
    "NumPy's basic data structure is an indexable, n-dimensional *array* containing elements of the same type (`dtype`). Right away, you may notice we have overloaded the term 'dimension'. Above, it was the number of elements in the vector, here, dimension refers to the number of indexes of an array. A one-dimensional or 1-D array has one index. In Course 1, we will represent vectors as NumPy 1-D arrays. \n",
    "\n",
    " - 1-D array, shape (n,): n elements indexed [0] through [n-1]\n",
    "\n",
    "\n",
    "\n",
    "NumPy arrays are the main way we will use NumPy throughout the course. NumPy arrays essentially come in two flavors: vectors and matrices. Vectors are strictly 1-dimensional (1D) arrays and matrices are 2D (but you should note a matrix can still have only one row or one column).\n",
    "\n",
    "We first create a list by running this code => my_list = [1,2,3]"
   ]
  },
  {
   "cell_type": "code",
   "execution_count": 2,
   "id": "ba3c53ea-5805-4287-8fae-52e071448a4f",
   "metadata": {},
   "outputs": [],
   "source": [
    "my_list = [1, 2, 3]"
   ]
  },
  {
   "cell_type": "markdown",
   "id": "66a7c2b0-0277-4116-b077-dc62946437f4",
   "metadata": {},
   "source": [
    "Then, type this in a Code cell => `np.array(my_list)`\n",
    "\n",
    "-You are using array function in np Library"
   ]
  },
  {
   "cell_type": "code",
   "execution_count": 3,
   "id": "05b47b50-f261-4ecc-9265-765ebea5e87f",
   "metadata": {},
   "outputs": [
    {
     "data": {
      "text/plain": [
       "array([1, 2, 3])"
      ]
     },
     "execution_count": 3,
     "metadata": {},
     "output_type": "execute_result"
    }
   ],
   "source": [
    "np.array(my_list)"
   ]
  },
  {
   "cell_type": "markdown",
   "id": "cbdfd344-38ab-4745-a057-8f84c0a3b677",
   "metadata": {},
   "source": [
    "#### Matrices\n",
    "Matrices, are two dimensional arrays. The elements of a matrix are all of the same type. In notation, matrices are denoted with capitol, bold letter such as $\\mathbf{X}$. In this and other labs, `m` is often the number of rows and `n` the number of columns. The elements of a matrix can be referenced with a two dimensional index. In math settings, numbers in the index typically run from 1 to n. In computer science and these labs, indexing will run from 0 to n-1.  \n",
    "<figure>\n",
    "    <center> <img src=\"./images/C1_W2_Lab04_Matrices.PNG\"  alt='missing'  width=900><center/>\n",
    "    <figcaption> Generic Matrix Notation, 1st index is row, 2nd is column </figcaption>\n",
    "<figure/>"
   ]
  },
  {
   "cell_type": "markdown",
   "id": "89be0a35-9447-42db-bd3d-61188155dfb5",
   "metadata": {},
   "source": [
    "NumPy's basic data structure is an indexable, n-dimensional *array* containing elements of the same type (`dtype`). These were described earlier. Matrices have a two-dimensional (2-D) index [m,n]."
   ]
  },
  {
   "cell_type": "markdown",
   "id": "3a69052a-17f1-4d90-ace8-abc7828717b2",
   "metadata": {},
   "source": [
    "Create a Matrix using this syntax => my_matrix = [[1,2,3],[4,5,6],[7,8,9]]"
   ]
  },
  {
   "cell_type": "markdown",
   "id": "26700fd2-f9a3-4c3b-8f24-15dc2f42d908",
   "metadata": {},
   "source": []
  },
  {
   "cell_type": "markdown",
   "id": "0ad88b16-af41-400a-ae8b-d23847bfa3b4",
   "metadata": {},
   "source": [
    "Then, convert it to a Numpy matrix using this `array` function.\n",
    "After typing in `np.` use TAB to look at available functions"
   ]
  },
  {
   "cell_type": "code",
   "execution_count": 4,
   "id": "9d545404-00c4-4962-9f48-38dd1e94d2a0",
   "metadata": {},
   "outputs": [],
   "source": [
    "my_matrix = [[1, 2, 3], [4, 5, 6], [7, 8, 9]]"
   ]
  },
  {
   "cell_type": "code",
   "execution_count": 5,
   "id": "7b123327",
   "metadata": {},
   "outputs": [
    {
     "data": {
      "text/plain": [
       "array([[1, 2, 3],\n",
       "       [4, 5, 6],\n",
       "       [7, 8, 9]])"
      ]
     },
     "execution_count": 5,
     "metadata": {},
     "output_type": "execute_result"
    }
   ],
   "source": [
    "np.array(my_matrix)"
   ]
  },
  {
   "cell_type": "markdown",
   "id": "3e6c0632-000f-46b1-9afa-85452942adaf",
   "metadata": {},
   "source": [
    "Or you can use built-in methods to generate arrays"
   ]
  },
  {
   "cell_type": "markdown",
   "id": "2902e5fa-a46b-4393-b585-62a8dcaf0fb9",
   "metadata": {},
   "source": [
    "### arange\n",
    "\n",
    "Return evenly spaced values within a given interval. [[reference1](https://numpy.org/doc/stable/reference/generated/numpy.arange.html)]\n",
    "[[reference2](https://docs.scipy.org/doc/numpy-1.15.0/reference/generated/numpy.arange.html)]"
   ]
  },
  {
   "cell_type": "markdown",
   "id": "c58ee2c5-91fd-4eea-8f5c-7860b02185a8",
   "metadata": {},
   "source": [
    "type in => `np.arange(0,10)`"
   ]
  },
  {
   "cell_type": "code",
   "execution_count": 6,
   "id": "f0dd98f5-acea-4257-969a-7023ff9445cc",
   "metadata": {},
   "outputs": [
    {
     "data": {
      "text/plain": [
       "array([0, 1, 2, 3, 4, 5, 6, 7, 8, 9])"
      ]
     },
     "execution_count": 6,
     "metadata": {},
     "output_type": "execute_result"
    }
   ],
   "source": [
    "np.arange(0,10)"
   ]
  },
  {
   "cell_type": "markdown",
   "id": "2f01cba3-d0de-4b21-9d9e-e5a0182b139b",
   "metadata": {},
   "source": [
    "Use `arrange` function to generate an array between 12 to 37 where the interval is 3 - make sure data type is `int`, use this after comma (dtype=int)\n",
    "\n",
    "Use references or SHIFT+TAB for help"
   ]
  },
  {
   "cell_type": "code",
   "execution_count": 7,
   "id": "687503a3-d06d-407f-a024-7f7ee2e58aef",
   "metadata": {},
   "outputs": [
    {
     "data": {
      "text/plain": [
       "array([12, 15, 18, 21, 24, 27, 30, 33, 36])"
      ]
     },
     "execution_count": 7,
     "metadata": {},
     "output_type": "execute_result"
    }
   ],
   "source": [
    "np.arange(12, 37, 3, dtype = int)"
   ]
  },
  {
   "cell_type": "markdown",
   "id": "2b81a3ae-590f-4b72-8bd7-a49cb09dbda9",
   "metadata": {},
   "source": [
    "Create an array with the name of the file as your name. It must contain numbers between 9 to 32 with 5 interval. Make sure datatype is float. USE TAB after typing in `dtype=` \n",
    "\n",
    "Remember to print the result in the next line within the same Code Cell"
   ]
  },
  {
   "cell_type": "code",
   "execution_count": 8,
   "id": "f84f632a-59ea-4582-9983-c3774c61d1ca",
   "metadata": {},
   "outputs": [],
   "source": [
    "muaaz = np.arange(9, 32, 5, dtype = float)"
   ]
  },
  {
   "cell_type": "code",
   "execution_count": 9,
   "id": "a47e5251",
   "metadata": {},
   "outputs": [
    {
     "data": {
      "text/plain": [
       "array([ 9., 14., 19., 24., 29.])"
      ]
     },
     "execution_count": 9,
     "metadata": {},
     "output_type": "execute_result"
    }
   ],
   "source": [
    "muaaz"
   ]
  },
  {
   "cell_type": "markdown",
   "id": "2e02c88c-0d01-4921-9055-b56ca5f369f9",
   "metadata": {},
   "source": [
    "### zeros and ones\n",
    "\n",
    "Generate arrays of zeros or ones. [[reference](https://numpy.org/doc/stable/reference/generated/numpy.zeros.html)]"
   ]
  },
  {
   "cell_type": "markdown",
   "id": "48e1cbc0-0cb3-4067-8f02-045950cacf70",
   "metadata": {},
   "source": [
    "Run this code => `np.zeros(4)`"
   ]
  },
  {
   "cell_type": "code",
   "execution_count": 10,
   "id": "82f5d0d4-3024-4ab2-bc8c-b3000804d1bf",
   "metadata": {},
   "outputs": [
    {
     "data": {
      "text/plain": [
       "array([0., 0., 0., 0.])"
      ]
     },
     "execution_count": 10,
     "metadata": {},
     "output_type": "execute_result"
    }
   ],
   "source": [
    "np.zeros(4)"
   ]
  },
  {
   "cell_type": "markdown",
   "id": "bc2d7e02-8900-4265-b87c-34e3ee5ffbf7",
   "metadata": {},
   "source": [
    "Create a ZERO matrix by running this => `np.zeros((5,5))`"
   ]
  },
  {
   "cell_type": "code",
   "execution_count": 11,
   "id": "e55cd264-e693-484e-bddd-c2f37cef8c76",
   "metadata": {},
   "outputs": [
    {
     "data": {
      "text/plain": [
       "array([[0., 0., 0., 0., 0.],\n",
       "       [0., 0., 0., 0., 0.],\n",
       "       [0., 0., 0., 0., 0.],\n",
       "       [0., 0., 0., 0., 0.],\n",
       "       [0., 0., 0., 0., 0.]])"
      ]
     },
     "execution_count": 11,
     "metadata": {},
     "output_type": "execute_result"
    }
   ],
   "source": [
    "np.zeros((5,5))"
   ]
  },
  {
   "cell_type": "markdown",
   "id": "dc0f074d-a250-438f-8a6a-9d3c0442cf12",
   "metadata": {},
   "source": [
    "Use `ones` function to create this array [1., 1., 1.]"
   ]
  },
  {
   "cell_type": "code",
   "execution_count": 12,
   "id": "4378e6fa-e665-4c2b-bb23-e6b12b55c115",
   "metadata": {},
   "outputs": [
    {
     "data": {
      "text/plain": [
       "array([1., 1., 1.])"
      ]
     },
     "execution_count": 12,
     "metadata": {},
     "output_type": "execute_result"
    }
   ],
   "source": [
    "np.ones(3)"
   ]
  },
  {
   "cell_type": "markdown",
   "id": "03f2b331-f5bd-431c-8a55-8717e4895547",
   "metadata": {},
   "source": [
    "Create this matrix [[1., 1., 1., 1.],\n",
    "                    [1., 1., 1., 1.],\n",
    "                    [1., 1., 1., 1.]])"
   ]
  },
  {
   "cell_type": "code",
   "execution_count": 13,
   "id": "1b1d7557-6e1a-4ead-b47b-61478dcbc6da",
   "metadata": {},
   "outputs": [
    {
     "data": {
      "text/plain": [
       "array([[1., 1., 1., 1.],\n",
       "       [1., 1., 1., 1.],\n",
       "       [1., 1., 1., 1.],\n",
       "       [1., 1., 1., 1.]])"
      ]
     },
     "execution_count": 13,
     "metadata": {},
     "output_type": "execute_result"
    }
   ],
   "source": [
    "np.ones((4,4))"
   ]
  },
  {
   "cell_type": "markdown",
   "id": "0fb3c665-d2b3-4543-8c57-5a0b4ce59f64",
   "metadata": {},
   "source": [
    "### linspace \n",
    "Return evenly spaced numbers over a specified interval. [[reference](https://www.numpy.org/devdocs/reference/generated/numpy.linspace.html)]"
   ]
  },
  {
   "cell_type": "markdown",
   "id": "d3739e5c-c73b-4b29-a48b-f84d7bedca39",
   "metadata": {},
   "source": [
    "Use linespace function to run this => `np.linspace(0,10,3)`"
   ]
  },
  {
   "cell_type": "code",
   "execution_count": 14,
   "id": "d90d37c1-da97-47dd-b57f-0a9258611f42",
   "metadata": {},
   "outputs": [
    {
     "data": {
      "text/plain": [
       "array([ 0.,  5., 10.])"
      ]
     },
     "execution_count": 14,
     "metadata": {},
     "output_type": "execute_result"
    }
   ],
   "source": [
    "np.linspace(0, 10, 3)"
   ]
  },
  {
   "cell_type": "markdown",
   "id": "cbb719c1-3de3-4cfb-9e5b-0047ca0a0adb",
   "metadata": {},
   "source": [
    "Use linespace to create 20 numbers between 0 and 5"
   ]
  },
  {
   "cell_type": "code",
   "execution_count": 15,
   "id": "2cdd4b35-6a09-401d-8666-3e9428c8e0a9",
   "metadata": {},
   "outputs": [
    {
     "data": {
      "text/plain": [
       "array([0.        , 0.26315789, 0.52631579, 0.78947368, 1.05263158,\n",
       "       1.31578947, 1.57894737, 1.84210526, 2.10526316, 2.36842105,\n",
       "       2.63157895, 2.89473684, 3.15789474, 3.42105263, 3.68421053,\n",
       "       3.94736842, 4.21052632, 4.47368421, 4.73684211, 5.        ])"
      ]
     },
     "execution_count": 15,
     "metadata": {},
     "output_type": "execute_result"
    }
   ],
   "source": [
    "np.linspace(0, 5, 20)"
   ]
  },
  {
   "cell_type": "markdown",
   "id": "1ba2573f-f74d-49ad-abd6-f7ec1102809e",
   "metadata": {},
   "source": [
    "Use linespace to create 21 numbers between 0 and 5"
   ]
  },
  {
   "cell_type": "code",
   "execution_count": 16,
   "id": "98af86e5-926c-415f-811a-af91209c218b",
   "metadata": {},
   "outputs": [
    {
     "data": {
      "text/plain": [
       "array([0.  , 0.25, 0.5 , 0.75, 1.  , 1.25, 1.5 , 1.75, 2.  , 2.25, 2.5 ,\n",
       "       2.75, 3.  , 3.25, 3.5 , 3.75, 4.  , 4.25, 4.5 , 4.75, 5.  ])"
      ]
     },
     "execution_count": 16,
     "metadata": {},
     "output_type": "execute_result"
    }
   ],
   "source": [
    "np.linspace(0, 5, 21)"
   ]
  },
  {
   "cell_type": "markdown",
   "id": "5d152e96-8fd2-44e3-a14a-fb7f1efb78c7",
   "metadata": {},
   "source": [
    "### eye\n",
    "\n",
    "Creates an identity matrix [[reference](https://docs.scipy.org/doc/numpy-1.15.0/reference/generated/numpy.eye.html)] - Run this and print `aa` => `aa = np.eye(4)`"
   ]
  },
  {
   "cell_type": "code",
   "execution_count": 17,
   "id": "2f2b6773-e379-4a61-a336-babe39c390f5",
   "metadata": {},
   "outputs": [],
   "source": [
    "aa = np.eye(4)"
   ]
  },
  {
   "cell_type": "code",
   "execution_count": 18,
   "id": "8cadbe8e",
   "metadata": {},
   "outputs": [
    {
     "data": {
      "text/plain": [
       "array([[1., 0., 0., 0.],\n",
       "       [0., 1., 0., 0.],\n",
       "       [0., 0., 1., 0.],\n",
       "       [0., 0., 0., 1.]])"
      ]
     },
     "execution_count": 18,
     "metadata": {},
     "output_type": "execute_result"
    }
   ],
   "source": [
    "aa"
   ]
  },
  {
   "cell_type": "markdown",
   "id": "f5568b90-af90-47be-a73b-ed9c7104d545",
   "metadata": {},
   "source": [
    "### rand\n",
    "Creates an array of the given shape and populates it with random samples from a uniform distribution over ``[0, 1)``. [[reference](https://docs.scipy.org/doc/numpy-1.15.0/reference/generated/numpy.random.rand.html)]"
   ]
  },
  {
   "cell_type": "markdown",
   "id": "025f9282-17fa-4bf7-bc2e-0dd712441670",
   "metadata": {},
   "source": [
    "Type in this code => `np.random.rand(2)`"
   ]
  },
  {
   "cell_type": "code",
   "execution_count": 19,
   "id": "3a28baf1-dad1-4633-b19b-85d5f19b6c3a",
   "metadata": {},
   "outputs": [
    {
     "data": {
      "text/plain": [
       "array([0.27344025, 0.74308375])"
      ]
     },
     "execution_count": 19,
     "metadata": {},
     "output_type": "execute_result"
    }
   ],
   "source": [
    "np.random.rand(2)"
   ]
  },
  {
   "cell_type": "markdown",
   "id": "51d15611-78c7-4304-9052-c033ed06289f",
   "metadata": {},
   "source": [
    "Now use `rand` function under `random` to generate a two dimensional array with size of 5 and 5. "
   ]
  },
  {
   "cell_type": "code",
   "execution_count": 20,
   "id": "db9315f7-aaf6-4f12-a6a9-ae509f83fdbf",
   "metadata": {},
   "outputs": [
    {
     "data": {
      "text/plain": [
       "array([[0.3713087 , 0.45047308, 0.28976947, 0.41856436, 0.56607572],\n",
       "       [0.26923255, 0.03413799, 0.16982337, 0.02759227, 0.5085412 ],\n",
       "       [0.8147814 , 0.37037066, 0.85213853, 0.0787489 , 0.37046819],\n",
       "       [0.99939596, 0.54523147, 0.55848907, 0.85175667, 0.78854491],\n",
       "       [0.61994639, 0.55895788, 0.75153165, 0.795346  , 0.22628119]])"
      ]
     },
     "execution_count": 20,
     "metadata": {},
     "output_type": "execute_result"
    }
   ],
   "source": [
    "np.random.rand(5,5)"
   ]
  },
  {
   "cell_type": "markdown",
   "id": "29879678-1e3a-480a-a933-db98b3d5a4c0",
   "metadata": {},
   "source": [
    "### randn\n",
    "\n",
    "Returns a sample (or samples) from the \"standard normal\" distribution [σ = 1]. Unlike **rand** which is uniform, values closer to zero are more likely to appear. [[reference](https://docs.scipy.org/doc/numpy-1.15.0/reference/generated/numpy.random.randn.html)]"
   ]
  },
  {
   "cell_type": "markdown",
   "id": "c27e7124-670e-4ef1-b879-6097e8cb8ea7",
   "metadata": {},
   "source": [
    "Run this code => `Normal_Distribution_Array = np.random.randn(100)`"
   ]
  },
  {
   "cell_type": "code",
   "execution_count": 21,
   "id": "04072060-8630-4034-aea8-ace713d3686c",
   "metadata": {},
   "outputs": [],
   "source": [
    "Normal_Distribution_Array = np.random.randn(100)"
   ]
  },
  {
   "cell_type": "code",
   "execution_count": 22,
   "id": "d8e964c4",
   "metadata": {},
   "outputs": [
    {
     "data": {
      "text/plain": [
       "array([ 0.22628476,  0.46829221,  0.62654447,  1.03265924,  0.20927255,\n",
       "        0.82632801, -0.38126994,  0.35907562,  0.11956619, -1.30679678,\n",
       "        0.21102366, -0.51544931, -0.79772136,  1.29894451, -1.10570774,\n",
       "       -1.59826783, -0.25946734, -1.38804054, -0.12219926, -1.75808705,\n",
       "        0.24906607, -1.04296758,  0.46934334, -1.38662628, -0.760305  ,\n",
       "        0.03691618,  1.15204916,  2.09312227, -1.09589315, -1.86898092,\n",
       "        1.29280599,  1.35315724, -1.91584876, -0.64462655,  1.65129002,\n",
       "        0.32114093,  1.83521802, -0.15401726, -0.07136745,  0.66683662,\n",
       "        0.18378214, -3.37894785, -0.8365616 , -0.18513948,  0.28551426,\n",
       "        2.6860645 , -0.08956124,  0.43247263, -0.35858094, -1.00375201,\n",
       "       -1.30303652, -0.74533884,  0.30424063,  0.78386908, -0.65138063,\n",
       "        1.34895634, -0.06256232, -0.08753033, -0.05720935,  1.20596013,\n",
       "        0.09094437,  0.60343679, -0.98108185,  0.33970473,  0.01168952,\n",
       "        1.42102067,  0.82742452,  1.13481688,  0.51534534,  2.73645473,\n",
       "       -0.52732617, -1.03615545,  0.2092986 ,  1.68106305,  1.26004668,\n",
       "        1.47249453,  0.35361957, -0.44976229, -0.70239361, -0.14351994,\n",
       "       -0.63052198, -0.05309171, -0.20958384,  0.02381368,  0.09216664,\n",
       "        0.47215187, -0.47729017,  0.94360313, -0.26296954, -0.9484157 ,\n",
       "        1.60669143,  1.943002  , -0.97461239, -0.67497806,  0.19270152,\n",
       "        2.45753907, -1.61821543, -1.01778706,  0.94181038,  1.35526894])"
      ]
     },
     "execution_count": 22,
     "metadata": {},
     "output_type": "execute_result"
    }
   ],
   "source": [
    "Normal_Distribution_Array"
   ]
  },
  {
   "cell_type": "markdown",
   "id": "b29a82cc-0f28-4ec9-ba3c-092981703ed2",
   "metadata": {},
   "source": [
    "Now we want to see how this random array that we generated is distributed. Run the following two lines of code\n",
    "\n",
    "`from matplotlib import pyplot as plt`\n",
    "<br> `plt.hist(Normal_Distribution_Array)`"
   ]
  },
  {
   "cell_type": "code",
   "execution_count": 23,
   "id": "e73f7ede-d7fd-4baf-ae01-3076bb1175f9",
   "metadata": {},
   "outputs": [],
   "source": [
    "from matplotlib import pyplot as plt"
   ]
  },
  {
   "cell_type": "code",
   "execution_count": 24,
   "id": "cb4cd435",
   "metadata": {},
   "outputs": [
    {
     "data": {
      "text/plain": [
       "(array([ 1.,  0.,  5., 13., 15., 27., 16., 14.,  6.,  3.]),\n",
       " array([-3.37894785, -2.76740759, -2.15586733, -1.54432707, -0.93278681,\n",
       "        -0.32124656,  0.2902937 ,  0.90183396,  1.51337422,  2.12491447,\n",
       "         2.73645473]),\n",
       " <BarContainer object of 10 artists>)"
      ]
     },
     "execution_count": 24,
     "metadata": {},
     "output_type": "execute_result"
    },
    {
     "data": {
      "image/png": "[encoded data removed]",
      "text/plain": [
       "<Figure size 640x480 with 1 Axes>"
      ]
     },
     "metadata": {},
     "output_type": "display_data"
    }
   ],
   "source": [
    "plt.hist(Normal_Distribution_Array)"
   ]
  },
  {
   "cell_type": "markdown",
   "id": "46ddfa3c-5e95-454f-b2c7-f6de72ba0431",
   "metadata": {},
   "source": [
    "Now rewrite it, make it 5000 numbers, and then plot the histogram in one Code cell"
   ]
  },
  {
   "cell_type": "code",
   "execution_count": 25,
   "id": "5bb16732-f28f-4867-81ac-980341cae990",
   "metadata": {},
   "outputs": [
    {
     "data": {
      "text/plain": [
       "(array([  19.,   77.,  344.,  797., 1341., 1243.,  807.,  294.,   67.,\n",
       "          11.]),\n",
       " array([-3.50632775, -2.80364057, -2.1009534 , -1.39826622, -0.69557904,\n",
       "         0.00710814,  0.70979531,  1.41248249,  2.11516967,  2.81785685,\n",
       "         3.52054402]),\n",
       " <BarContainer object of 10 artists>)"
      ]
     },
     "execution_count": 25,
     "metadata": {},
     "output_type": "execute_result"
    },
    {
     "data": {
      "image/png": "[encoded data removed]",
      "text/plain": [
       "<Figure size 640x480 with 1 Axes>"
      ]
     },
     "metadata": {},
     "output_type": "display_data"
    }
   ],
   "source": [
    "Normal_Distribution_Array2 = np.random.randn(5000)\n",
    "plt.hist(Normal_Distribution_Array2)"
   ]
  },
  {
   "cell_type": "markdown",
   "id": "9532d816-4dcf-4ae3-b9a5-70d94fe9444d",
   "metadata": {},
   "source": [
    "Now use the `rand` function to create an array of 1000 randome numbers. Then plot the histogram to explain to me the difference. All in one Code cell."
   ]
  },
  {
   "cell_type": "code",
   "execution_count": 26,
   "id": "d1ebb126-c855-49b0-a5a8-6ccf32166a29",
   "metadata": {},
   "outputs": [
    {
     "data": {
      "text/plain": [
       "(array([ 89., 110.,  80., 116., 105., 107.,  87., 100., 104., 102.]),\n",
       " array([1.54385229e-04, 9.99840430e-02, 1.99813701e-01, 2.99643358e-01,\n",
       "        3.99473016e-01, 4.99302674e-01, 5.99132332e-01, 6.98961989e-01,\n",
       "        7.98791647e-01, 8.98621305e-01, 9.98450962e-01]),\n",
       " <BarContainer object of 10 artists>)"
      ]
     },
     "execution_count": 26,
     "metadata": {},
     "output_type": "execute_result"
    },
    {
     "data": {
      "image/png": "[encoded data removed]",
      "text/plain": [
       "<Figure size 640x480 with 1 Axes>"
      ]
     },
     "metadata": {},
     "output_type": "display_data"
    }
   ],
   "source": [
    "random_array = np.random.rand(1000)\n",
    "plt.hist(random_array)"
   ]
  },
  {
   "cell_type": "code",
   "execution_count": null,
   "id": "6233fde4",
   "metadata": {},
   "outputs": [],
   "source": []
  },
  {
   "cell_type": "markdown",
   "id": "37742896",
   "metadata": {},
   "source": [
    "`randn` generates datapoints that follows a gaussian or a normal distribution, whereas the `rand` generates datapoints randomly that does not necessarily follows a a specific distribution."
   ]
  },
  {
   "cell_type": "markdown",
   "id": "eb1b2e9b-005f-4ac7-a6ce-efc4f7a6db10",
   "metadata": {},
   "source": [
    "### randint\n",
    "Returns random integers from `low` (inclusive) to `high` (exclusive).  [[reference](https://docs.scipy.org/doc/numpy-1.15.0/reference/generated/numpy.random.randint.html)]"
   ]
  },
  {
   "cell_type": "markdown",
   "id": "319b0994-229b-4247-94f6-bec803bd4037",
   "metadata": {},
   "source": [
    "Run this code => `np.random.randint(1,100)`"
   ]
  },
  {
   "cell_type": "code",
   "execution_count": 27,
   "id": "34451f21-19b7-4651-95ac-37d78d404a3c",
   "metadata": {},
   "outputs": [
    {
     "data": {
      "text/plain": [
       "33"
      ]
     },
     "execution_count": 27,
     "metadata": {},
     "output_type": "execute_result"
    }
   ],
   "source": [
    "np.random.randint(1,100)"
   ]
  },
  {
   "cell_type": "markdown",
   "id": "574ee722-2a10-4179-aab3-ee701ad3bfbe",
   "metadata": {},
   "source": [
    "Now generate 15 random number between 2-56, Use SHIFT+TAB for help"
   ]
  },
  {
   "cell_type": "code",
   "execution_count": 28,
   "id": "2139c0c6-8f1a-46ff-bc04-215509e6be12",
   "metadata": {},
   "outputs": [
    {
     "data": {
      "text/plain": [
       "array([ 9, 10, 43, 20, 54, 21, 54, 50, 29,  4, 41, 11, 34, 55, 39])"
      ]
     },
     "execution_count": 28,
     "metadata": {},
     "output_type": "execute_result"
    }
   ],
   "source": [
    "np.random.randint(2, 56, 15)"
   ]
  },
  {
   "cell_type": "markdown",
   "id": "338a460f-02e4-4a2e-ab14-3352f76e3d6f",
   "metadata": {},
   "source": [
    "### seed\n",
    "Can be used to set the random state, so that the same \"random\" results can be reproduced. [[reference](https://docs.scipy.org/doc/numpy-1.15.0/reference/generated/numpy.random.seed.html)]"
   ]
  },
  {
   "cell_type": "markdown",
   "id": "10567f71-e991-43b4-aa08-f68bdae9c83e",
   "metadata": {},
   "source": [
    "Run this => `np.random.rand(4)`"
   ]
  },
  {
   "cell_type": "code",
   "execution_count": 29,
   "id": "ec984b3b-ae46-47c8-81fc-9e5a01e8fbcd",
   "metadata": {},
   "outputs": [
    {
     "data": {
      "text/plain": [
       "array([0.74848506, 0.33291288, 0.45700153, 0.80902282])"
      ]
     },
     "execution_count": 29,
     "metadata": {},
     "output_type": "execute_result"
    }
   ],
   "source": [
    "np.random.rand(4)"
   ]
  },
  {
   "cell_type": "markdown",
   "id": "2906e5a8-6add-41d7-a380-b6a900d74455",
   "metadata": {},
   "source": [
    "Run the same code again"
   ]
  },
  {
   "cell_type": "code",
   "execution_count": 30,
   "id": "5cb964ac-3a2c-4e99-a2b3-0ae322ebd419",
   "metadata": {},
   "outputs": [
    {
     "data": {
      "text/plain": [
       "array([0.22513687, 0.16395057, 0.01353933, 0.99849908])"
      ]
     },
     "execution_count": 30,
     "metadata": {},
     "output_type": "execute_result"
    }
   ],
   "source": [
    "np.random.rand(4)"
   ]
  },
  {
   "cell_type": "markdown",
   "id": "b6f2efa2-a4a4-45d9-818a-0c9c3274c0d6",
   "metadata": {},
   "source": [
    "Now run this: \n",
    "\n",
    "`np.random.seed(42)`\n",
    "<br> `np.random.rand(4)`"
   ]
  },
  {
   "cell_type": "code",
   "execution_count": 31,
   "id": "995b938b-9d54-4c1e-89bf-d52e423bfe52",
   "metadata": {},
   "outputs": [],
   "source": [
    "np.random.seed(42)"
   ]
  },
  {
   "cell_type": "code",
   "execution_count": 32,
   "id": "9fb1011e",
   "metadata": {},
   "outputs": [
    {
     "data": {
      "text/plain": [
       "array([0.37454012, 0.95071431, 0.73199394, 0.59865848])"
      ]
     },
     "execution_count": 32,
     "metadata": {},
     "output_type": "execute_result"
    }
   ],
   "source": [
    "np.random.rand(4)"
   ]
  },
  {
   "cell_type": "markdown",
   "id": "cb5da16d-59e7-4764-9452-146feb4e641e",
   "metadata": {},
   "source": [
    "Run the same code again"
   ]
  },
  {
   "cell_type": "code",
   "execution_count": 33,
   "id": "663aa9e7-9a36-4574-a72f-25760c77940d",
   "metadata": {},
   "outputs": [
    {
     "data": {
      "text/plain": [
       "array([0.15601864, 0.15599452, 0.05808361, 0.86617615])"
      ]
     },
     "execution_count": 33,
     "metadata": {},
     "output_type": "execute_result"
    }
   ],
   "source": [
    "np.random.rand(4)"
   ]
  },
  {
   "cell_type": "markdown",
   "id": "88b2366b-9589-4f86-95bf-ca1f5afec2dc",
   "metadata": {},
   "source": [
    "____"
   ]
  },
  {
   "cell_type": "markdown",
   "id": "6deae515-a2b5-416b-b2a5-b137a81d3568",
   "metadata": {},
   "source": [
    "### Array Attributes and Methods for an array"
   ]
  },
  {
   "cell_type": "markdown",
   "id": "83711401-75e8-4f73-92de-7857ba490d40",
   "metadata": {},
   "source": [
    "Type in => `my_array = np.arange(20)` and `my_random_array = np.random.randint(0,50,10)`"
   ]
  },
  {
   "cell_type": "code",
   "execution_count": 34,
   "id": "9d02c0d7-8310-42f5-92c2-10ab2b551488",
   "metadata": {},
   "outputs": [],
   "source": [
    "my_array = np.arange(20)"
   ]
  },
  {
   "cell_type": "code",
   "execution_count": 35,
   "id": "2be527f1",
   "metadata": {},
   "outputs": [],
   "source": [
    "my_random_array = np.random.randint(0,50,10)"
   ]
  },
  {
   "cell_type": "markdown",
   "id": "8baf84d4-9fca-400b-adad-30558598361f",
   "metadata": {},
   "source": [
    "## Reshape\n",
    "Returns an array containing the same data with a new shape. [[reference](https://docs.scipy.org/doc/numpy-1.15.0/reference/generated/numpy.reshape.html)]\n",
    "\n",
    "Use Tab after dot to see accessible functionalities"
   ]
  },
  {
   "cell_type": "markdown",
   "id": "379a9586-cdab-4ad0-9c24-8fcb874b533e",
   "metadata": {},
   "source": [
    "Type in `my_array.reshape(4,5)`"
   ]
  },
  {
   "cell_type": "code",
   "execution_count": 36,
   "id": "0f886775",
   "metadata": {},
   "outputs": [
    {
     "data": {
      "text/plain": [
       "array([[ 0,  1,  2,  3,  4],\n",
       "       [ 5,  6,  7,  8,  9],\n",
       "       [10, 11, 12, 13, 14],\n",
       "       [15, 16, 17, 18, 19]])"
      ]
     },
     "execution_count": 36,
     "metadata": {},
     "output_type": "execute_result"
    }
   ],
   "source": [
    "my_array.reshape(4,5)"
   ]
  },
  {
   "cell_type": "markdown",
   "id": "d8a6fff0-c8c4-4916-a34f-e77967512eb3",
   "metadata": {},
   "source": [
    "### max, min, argmax, argmin\n",
    "\n",
    "These are useful methods for finding max or min values. Or to find their index locations using argmin or argmax"
   ]
  },
  {
   "cell_type": "code",
   "execution_count": 37,
   "id": "0b13a979-b8bc-4ec6-90c1-5f87217b8a0f",
   "metadata": {},
   "outputs": [
    {
     "data": {
      "text/plain": [
       "array([35, 39, 23,  2, 21,  1, 23, 43, 29, 37])"
      ]
     },
     "execution_count": 37,
     "metadata": {},
     "output_type": "execute_result"
    }
   ],
   "source": [
    "my_random_array"
   ]
  },
  {
   "cell_type": "markdown",
   "id": "d9f3d082-35b9-4086-910a-ac84c056deb8",
   "metadata": {},
   "source": [
    "Find the maximum of my_random_array"
   ]
  },
  {
   "cell_type": "code",
   "execution_count": 38,
   "id": "73645bb7-5f03-4d37-8741-f5067a3d30ac",
   "metadata": {},
   "outputs": [
    {
     "data": {
      "text/plain": [
       "43"
      ]
     },
     "execution_count": 38,
     "metadata": {},
     "output_type": "execute_result"
    }
   ],
   "source": [
    "np.max(my_random_array)"
   ]
  },
  {
   "cell_type": "markdown",
   "id": "9447debf-b19b-4a21-b540-ec886cb2a4ac",
   "metadata": {},
   "source": [
    "Returns the indices of the maximum values"
   ]
  },
  {
   "cell_type": "code",
   "execution_count": 39,
   "id": "1607cd0e-3f53-42f0-aea1-cf7032118616",
   "metadata": {},
   "outputs": [
    {
     "data": {
      "text/plain": [
       "(array([7], dtype=int64),)"
      ]
     },
     "execution_count": 39,
     "metadata": {},
     "output_type": "execute_result"
    }
   ],
   "source": [
    "np.where(my_random_array == np.max(my_random_array))"
   ]
  },
  {
   "cell_type": "markdown",
   "id": "0e0f85d3-b532-4dd0-99af-174748e52445",
   "metadata": {},
   "source": [
    "Find the minimum of my_random_array"
   ]
  },
  {
   "cell_type": "code",
   "execution_count": 40,
   "id": "8a4edfc9-d5af-41b3-9938-c2c6e9b1de09",
   "metadata": {},
   "outputs": [
    {
     "data": {
      "text/plain": [
       "1"
      ]
     },
     "execution_count": 40,
     "metadata": {},
     "output_type": "execute_result"
    }
   ],
   "source": [
    "np.min(my_random_array)"
   ]
  },
  {
   "cell_type": "markdown",
   "id": "243f4ca6-45e0-4c0b-95f9-8cc2bff6f0f7",
   "metadata": {},
   "source": [
    "Returns the indices of the minimum values"
   ]
  },
  {
   "cell_type": "code",
   "execution_count": 41,
   "id": "92690436-3a0b-4fb8-b515-a1db4d35c9a9",
   "metadata": {},
   "outputs": [
    {
     "data": {
      "text/plain": [
       "(array([5], dtype=int64),)"
      ]
     },
     "execution_count": 41,
     "metadata": {},
     "output_type": "execute_result"
    }
   ],
   "source": [
    "np.where(my_random_array == np.min(my_random_array))"
   ]
  },
  {
   "cell_type": "markdown",
   "id": "f145dd3a-fe72-4c2d-a338-7a16f001671d",
   "metadata": {},
   "source": [
    "## Shape\n",
    "\n",
    "Shape is an attribute that arrays have (not a method):  [[reference](https://docs.scipy.org/doc/numpy-1.15.0/reference/generated/numpy.ndarray.shape.html)]"
   ]
  },
  {
   "cell_type": "markdown",
   "id": "47ce9697-02a0-4617-875c-aea83d99d072",
   "metadata": {},
   "source": [
    "use `shape` function to see how nympy output vector size of `my_array`"
   ]
  },
  {
   "cell_type": "code",
   "execution_count": 42,
   "id": "f31fffa5-3f65-44f7-bd2f-422c387a72bc",
   "metadata": {},
   "outputs": [
    {
     "data": {
      "text/plain": [
       "(20,)"
      ]
     },
     "execution_count": 42,
     "metadata": {},
     "output_type": "execute_result"
    }
   ],
   "source": [
    "my_array.shape"
   ]
  },
  {
   "cell_type": "markdown",
   "id": "93cd8a78-57ca-49ac-a371-cf7825ca364d",
   "metadata": {},
   "source": [
    "Now run this code => `my_array.reshape(1,20)`. Notice the two sets of brackets"
   ]
  },
  {
   "cell_type": "code",
   "execution_count": 43,
   "id": "7ae43609-2c18-4e4c-b92c-ef18f7aa3cf3",
   "metadata": {},
   "outputs": [
    {
     "data": {
      "text/plain": [
       "array([[ 0,  1,  2,  3,  4,  5,  6,  7,  8,  9, 10, 11, 12, 13, 14, 15,\n",
       "        16, 17, 18, 19]])"
      ]
     },
     "execution_count": 43,
     "metadata": {},
     "output_type": "execute_result"
    }
   ],
   "source": [
    "my_array.reshape(1, 20)"
   ]
  },
  {
   "cell_type": "markdown",
   "id": "656557fa-be3c-421f-b649-d76316e21df0",
   "metadata": {},
   "source": [
    "Store this result in `new_array`"
   ]
  },
  {
   "cell_type": "code",
   "execution_count": 44,
   "id": "a0a169fc-6eb9-4095-b6a6-d8ab6bfa80e0",
   "metadata": {},
   "outputs": [],
   "source": [
    "new_array = my_array.reshape(1, 20)"
   ]
  },
  {
   "cell_type": "markdown",
   "id": "aeef4c01-8ed0-4003-8b6c-ebd4131c8b99",
   "metadata": {},
   "source": [
    "Then inquiry about its size using `shape` function"
   ]
  },
  {
   "cell_type": "code",
   "execution_count": 45,
   "id": "071e8325-f813-46fc-9111-4560508b0a5b",
   "metadata": {},
   "outputs": [
    {
     "data": {
      "text/plain": [
       "(1, 20)"
      ]
     },
     "execution_count": 45,
     "metadata": {},
     "output_type": "execute_result"
    }
   ],
   "source": [
    "new_array.shape"
   ]
  },
  {
   "cell_type": "markdown",
   "id": "ef1ce67f-76d7-4388-95e2-541674e8d28e",
   "metadata": {},
   "source": [
    "How about using `my_array.reshape(1,20).shape`. Pretty cool, right!"
   ]
  },
  {
   "cell_type": "code",
   "execution_count": 46,
   "id": "a7250e14-b817-4fa5-9af0-d7ef11ee7293",
   "metadata": {},
   "outputs": [
    {
     "data": {
      "text/plain": [
       "(1, 20)"
      ]
     },
     "execution_count": 46,
     "metadata": {},
     "output_type": "execute_result"
    }
   ],
   "source": [
    "my_array.reshape(1,20).shape"
   ]
  },
  {
   "cell_type": "markdown",
   "id": "dc1df232-c676-4c67-a6bf-1266719a7aae",
   "metadata": {},
   "source": [
    "Now reshape it like this `(25,1)`"
   ]
  },
  {
   "cell_type": "code",
   "execution_count": 47,
   "id": "bb9fc109-1ef1-40e2-8202-a0d42ae7ecd4",
   "metadata": {},
   "outputs": [
    {
     "ename": "ValueError",
     "evalue": "cannot reshape array of size 20 into shape (25,1)",
     "output_type": "error",
     "traceback": [
      "\u001b[1;31m---------------------------------------------------------------------------\u001b[0m",
      "\u001b[1;31mValueError\u001b[0m                                Traceback (most recent call last)",
      "Cell \u001b[1;32mIn[47], line 1\u001b[0m\n\u001b[1;32m----> 1\u001b[0m my_array\u001b[38;5;241m.\u001b[39mreshape(\u001b[38;5;241m25\u001b[39m,\u001b[38;5;241m1\u001b[39m)\u001b[38;5;241m.\u001b[39mshape\n",
      "\u001b[1;31mValueError\u001b[0m: cannot reshape array of size 20 into shape (25,1)"
     ]
    }
   ],
   "source": [
    "my_array.reshape(25,1).shape"
   ]
  },
  {
   "cell_type": "markdown",
   "id": "a8537644-da68-4ca3-8635-83e82ba02d35",
   "metadata": {},
   "source": [
    "Check the size"
   ]
  },
  {
   "cell_type": "code",
   "execution_count": 48,
   "id": "f05a7a18-c2e2-4a50-a385-71b5bb1167bc",
   "metadata": {},
   "outputs": [
    {
     "data": {
      "text/plain": [
       "(20,)"
      ]
     },
     "execution_count": 48,
     "metadata": {},
     "output_type": "execute_result"
    }
   ],
   "source": [
    "my_array.shape"
   ]
  },
  {
   "cell_type": "markdown",
   "id": "411dba55-2e3f-4fe2-bd8e-495c61fcd308",
   "metadata": {},
   "source": [
    "### dtype\n",
    "\n",
    "You can also grab the data type of the object in the array: [[reference](https://docs.scipy.org/doc/numpy-1.15.0/reference/generated/numpy.ndarray.dtype.html)]"
   ]
  },
  {
   "cell_type": "markdown",
   "id": "8019eabe-2152-4a16-802d-cd8c3a766273",
   "metadata": {},
   "source": [
    "Run => `my_array.dtype`"
   ]
  },
  {
   "cell_type": "code",
   "execution_count": 49,
   "id": "0587835b-2901-46c8-a814-92c92fbc55ed",
   "metadata": {},
   "outputs": [
    {
     "data": {
      "text/plain": [
       "dtype('int32')"
      ]
     },
     "execution_count": 49,
     "metadata": {},
     "output_type": "execute_result"
    }
   ],
   "source": [
    "my_array.dtype"
   ]
  },
  {
   "cell_type": "markdown",
   "id": "92b63438-a6fe-429c-88d2-ca20812f9abc",
   "metadata": {},
   "source": [
    "Run this code and see the result \n",
    "\n",
    "`arr2 = np.array([1.2, 3.4, 5.6])`\n",
    "<br> `arr2.dtype`"
   ]
  },
  {
   "cell_type": "code",
   "execution_count": 50,
   "id": "946d2d5b-1df5-427d-8ba9-8672f909e69e",
   "metadata": {},
   "outputs": [
    {
     "data": {
      "text/plain": [
       "dtype('float64')"
      ]
     },
     "execution_count": 50,
     "metadata": {},
     "output_type": "execute_result"
    }
   ],
   "source": [
    "arr2 = np.array([1.2, 3.4, 5.6])\n",
    "arr2.dtype"
   ]
  },
  {
   "cell_type": "markdown",
   "id": "043e4ec2-4f54-4493-9573-69bb2f5e5bfb",
   "metadata": {},
   "source": [
    "_________"
   ]
  },
  {
   "cell_type": "markdown",
   "id": "6eb6f828-c4a1-4788-9ddb-cb9880b4b0ee",
   "metadata": {},
   "source": [
    "## NumPy Indexing and Selection\n",
    "We now discuss how to select elements or groups of elements from an array.\n",
    "\n",
    "Elements of vectors can be accessed via indexing and slicing. NumPy provides a very complete set of indexing and slicing capabilities. We will explore only the basics needed for the course here. Reference [Slicing and Indexing](https://NumPy.org/doc/stable/reference/arrays.indexing.html) for more details.  \n",
    "<br>\n",
    "**Indexing** means referring to *an element* of an array by its position within the array.  \n",
    "**Slicing** means getting a *subset* of elements from an array based on their indices.  \n",
    "<br>\n",
    "NumPy starts indexing at zero so the 3rd element of an vector $\\mathbf{a}$ is `a[2]`.\n"
   ]
  },
  {
   "cell_type": "markdown",
   "id": "859d1876-7a51-4bc6-96a3-8306e8a455a0",
   "metadata": {},
   "source": [
    "Get a value at an index => `my_array[8]`"
   ]
  },
  {
   "cell_type": "code",
   "execution_count": 51,
   "id": "ee638052-0db5-4506-8946-ac8776caa559",
   "metadata": {},
   "outputs": [
    {
     "data": {
      "text/plain": [
       "8"
      ]
     },
     "execution_count": 51,
     "metadata": {},
     "output_type": "execute_result"
    }
   ],
   "source": [
    "my_array[8]"
   ]
  },
  {
   "cell_type": "markdown",
   "id": "88386d31-cfea-4443-955f-46a5ec89667c",
   "metadata": {},
   "source": [
    "Get values in a range => `my_array[0:5]`"
   ]
  },
  {
   "cell_type": "code",
   "execution_count": 52,
   "id": "b17991a7-2bb7-4c62-9c93-692830680ef3",
   "metadata": {},
   "outputs": [
    {
     "data": {
      "text/plain": [
       "array([0, 1, 2, 3, 4])"
      ]
     },
     "execution_count": 52,
     "metadata": {},
     "output_type": "execute_result"
    }
   ],
   "source": [
    "my_array[0:5]"
   ]
  },
  {
   "cell_type": "markdown",
   "id": "10cef067-54fe-4936-a216-97db511faf0a",
   "metadata": {},
   "source": [
    "Get the value between 3-8 range"
   ]
  },
  {
   "cell_type": "code",
   "execution_count": 53,
   "id": "3c2ba5cc-e849-4e9a-9385-c83899c6d217",
   "metadata": {},
   "outputs": [
    {
     "data": {
      "text/plain": [
       "array([3, 4, 5, 6, 7])"
      ]
     },
     "execution_count": 53,
     "metadata": {},
     "output_type": "execute_result"
    }
   ],
   "source": [
    "my_array[3:8]"
   ]
  },
  {
   "cell_type": "code",
   "execution_count": 54,
   "id": "d9413fed",
   "metadata": {},
   "outputs": [
    {
     "data": {
      "text/plain": [
       "array([ 0,  1,  2,  3,  4,  5,  6,  7,  8,  9, 10, 11, 12, 13, 14, 15, 16,\n",
       "       17, 18, 19])"
      ]
     },
     "execution_count": 54,
     "metadata": {},
     "output_type": "execute_result"
    }
   ],
   "source": [
    "my_array"
   ]
  },
  {
   "cell_type": "markdown",
   "id": "9ec74ce1-6c4f-4851-b9fd-94fbffac04e2",
   "metadata": {},
   "source": [
    "## Broadcasting\n",
    "\n",
    "NumPy arrays differ from normal Python lists because of their ability to broadcast. With lists, you can only reassign parts of a list with new parts of the same size and shape. That is, if you wanted to replace the first 5 elements in a list with a new value, you would have to pass in a new 5 element list. With NumPy arrays, you can broadcast a single value across a larger set of values:"
   ]
  },
  {
   "cell_type": "markdown",
   "id": "bf256718-66ca-492c-8370-2fd001c77b81",
   "metadata": {},
   "source": [
    "Setting a value with index range (Broadcasting), run => `my_array[0:5]=100`\n",
    "<be> Now show my_array but typing in `my_array` and then running the code in the cell"
   ]
  },
  {
   "cell_type": "code",
   "execution_count": 55,
   "id": "d7ff462a-7294-4036-bd8d-10dcee75794a",
   "metadata": {},
   "outputs": [],
   "source": [
    "my_array[0:5] = 100"
   ]
  },
  {
   "cell_type": "code",
   "execution_count": 56,
   "id": "e8a3e58d",
   "metadata": {},
   "outputs": [
    {
     "data": {
      "text/plain": [
       "array([100, 100, 100, 100, 100,   5,   6,   7,   8,   9,  10,  11,  12,\n",
       "        13,  14,  15,  16,  17,  18,  19])"
      ]
     },
     "execution_count": 56,
     "metadata": {},
     "output_type": "execute_result"
    }
   ],
   "source": [
    "my_array"
   ]
  },
  {
   "cell_type": "markdown",
   "id": "98075c49-f456-4af8-80ce-fc356b87f8c8",
   "metadata": {},
   "source": [
    "Make a new array => `arr = np.arange(0,11)` and then show it"
   ]
  },
  {
   "cell_type": "code",
   "execution_count": 57,
   "id": "52a9377e-b230-4b08-8b44-48dc102ff153",
   "metadata": {},
   "outputs": [],
   "source": [
    "arr = np.arange(0, 11)"
   ]
  },
  {
   "cell_type": "code",
   "execution_count": 58,
   "id": "195d4d84",
   "metadata": {},
   "outputs": [
    {
     "data": {
      "text/plain": [
       "array([ 0,  1,  2,  3,  4,  5,  6,  7,  8,  9, 10])"
      ]
     },
     "execution_count": 58,
     "metadata": {},
     "output_type": "execute_result"
    }
   ],
   "source": [
    "arr"
   ]
  },
  {
   "cell_type": "markdown",
   "id": "8fa61783-38e3-4134-9469-b5fb07c3bbd7",
   "metadata": {},
   "source": [
    "Important notes on Slices - Create `slice_of_arr` from the first element to the 7th and then show it.-- Ans: array([0, 1, 2, 3, 4, 5])"
   ]
  },
  {
   "cell_type": "code",
   "execution_count": 59,
   "id": "ae940591-2fc9-4dc3-98f6-4d34aae1a26b",
   "metadata": {},
   "outputs": [],
   "source": [
    "slice_of_arr = arr[0:7]"
   ]
  },
  {
   "cell_type": "code",
   "execution_count": 60,
   "id": "30b10298",
   "metadata": {},
   "outputs": [
    {
     "data": {
      "text/plain": [
       "array([0, 1, 2, 3, 4, 5, 6])"
      ]
     },
     "execution_count": 60,
     "metadata": {},
     "output_type": "execute_result"
    }
   ],
   "source": [
    "slice_of_arr"
   ]
  },
  {
   "cell_type": "markdown",
   "id": "32033a33-836e-4361-88c4-31a8b388d3ff",
   "metadata": {},
   "source": [
    "Now change the value of Slice => `slice_of_arr[:]=99`, and show it again"
   ]
  },
  {
   "cell_type": "code",
   "execution_count": 61,
   "id": "ae899d54-7c5f-45a6-a9b9-2381ba71db10",
   "metadata": {},
   "outputs": [],
   "source": [
    "slice_of_arr[:] = 99"
   ]
  },
  {
   "cell_type": "code",
   "execution_count": 62,
   "id": "e061af12",
   "metadata": {},
   "outputs": [
    {
     "data": {
      "text/plain": [
       "array([99, 99, 99, 99, 99, 99, 99])"
      ]
     },
     "execution_count": 62,
     "metadata": {},
     "output_type": "execute_result"
    }
   ],
   "source": [
    "slice_of_arr"
   ]
  },
  {
   "cell_type": "markdown",
   "id": "c23af962-bbd1-4c3c-a97a-251236656a85",
   "metadata": {},
   "source": [
    "Now show the original array (`arr`) and note the changes also occur in our original array!"
   ]
  },
  {
   "cell_type": "code",
   "execution_count": 63,
   "id": "ff9e31cf-0688-4948-a846-e77e1fe7d7ec",
   "metadata": {},
   "outputs": [
    {
     "data": {
      "text/plain": [
       "array([99, 99, 99, 99, 99, 99, 99,  7,  8,  9, 10])"
      ]
     },
     "execution_count": 63,
     "metadata": {},
     "output_type": "execute_result"
    }
   ],
   "source": [
    "arr"
   ]
  },
  {
   "cell_type": "markdown",
   "id": "151e08d1-bb8e-4415-94ac-916e251eccf0",
   "metadata": {},
   "source": [
    "Data is not copied, it's a view of the original array! This avoids memory problems!"
   ]
  },
  {
   "cell_type": "markdown",
   "id": "cfe9db66-7b84-401f-baf8-152aea855189",
   "metadata": {},
   "source": [
    "To get a copy, need to be explicit, You need to use `copy` function => `arr_copy = arr.copy()` - Now show the `arr_copy`"
   ]
  },
  {
   "cell_type": "code",
   "execution_count": 64,
   "id": "22da249e-ad35-48b4-a700-1a7b418ed432",
   "metadata": {},
   "outputs": [],
   "source": [
    "arr_copy = arr.copy()"
   ]
  },
  {
   "cell_type": "code",
   "execution_count": 65,
   "id": "c6a29cbc",
   "metadata": {},
   "outputs": [
    {
     "data": {
      "text/plain": [
       "array([99, 99, 99, 99, 99, 99, 99,  7,  8,  9, 10])"
      ]
     },
     "execution_count": 65,
     "metadata": {},
     "output_type": "execute_result"
    }
   ],
   "source": [
    "arr_copy"
   ]
  },
  {
   "cell_type": "markdown",
   "id": "362b2590-b697-48bb-80db-6be98efe57b2",
   "metadata": {},
   "source": [
    "## Indexing a 2D array (matrices)\n",
    "\n",
    "The general format is **arr_2d[row][col]** or **arr_2d[row,col]**. I recommend using the comma notation for clarity."
   ]
  },
  {
   "cell_type": "markdown",
   "id": "9ade29bd-e295-4fa4-9417-a34039830d9b",
   "metadata": {},
   "source": [
    "Run this code => `arr_2d = np.array(([5,10,15],[20,25,30],[35,40,45]))`, and then show it"
   ]
  },
  {
   "cell_type": "code",
   "execution_count": 66,
   "id": "3e9bea6e-e5d8-47b3-a80c-44bb92ec7b81",
   "metadata": {},
   "outputs": [],
   "source": [
    "arr_2d = np.array(([5,10,15],[20,25,30],[35,40,45]))"
   ]
  },
  {
   "cell_type": "code",
   "execution_count": 67,
   "id": "3ed868b3",
   "metadata": {},
   "outputs": [
    {
     "data": {
      "text/plain": [
       "array([[ 5, 10, 15],\n",
       "       [20, 25, 30],\n",
       "       [35, 40, 45]])"
      ]
     },
     "execution_count": 67,
     "metadata": {},
     "output_type": "execute_result"
    }
   ],
   "source": [
    "arr_2d"
   ]
  },
  {
   "cell_type": "markdown",
   "id": "fa7d361f-8959-4d69-ab7b-2179162b970f",
   "metadata": {},
   "source": [
    "Now index the first row, you can use this syntax and figure out what X should be => `arr_2d[X]`"
   ]
  },
  {
   "cell_type": "code",
   "execution_count": 68,
   "id": "2bddf744-9fd2-45b1-8fa5-69d21015d3ea",
   "metadata": {},
   "outputs": [
    {
     "data": {
      "text/plain": [
       "array([ 5, 10, 15])"
      ]
     },
     "execution_count": 68,
     "metadata": {},
     "output_type": "execute_result"
    }
   ],
   "source": [
    "arr_2d[0]"
   ]
  },
  {
   "cell_type": "markdown",
   "id": "f6e640d2-2968-4ba5-aac2-e61e7bd9389e",
   "metadata": {},
   "source": [
    "Getting individual element value, show the value of 20 in `arr_2d` by using this format `arr_2d[X][Y]`"
   ]
  },
  {
   "cell_type": "code",
   "execution_count": 69,
   "id": "acdc6ec4-9377-4e13-be9b-e492e5d77521",
   "metadata": {},
   "outputs": [
    {
     "data": {
      "text/plain": [
       "20"
      ]
     },
     "execution_count": 69,
     "metadata": {},
     "output_type": "execute_result"
    }
   ],
   "source": [
    "arr_2d[1][0]"
   ]
  },
  {
   "cell_type": "markdown",
   "id": "8fb7c51c-fa79-4b0d-85ca-3c8e10f49cd9",
   "metadata": {},
   "source": [
    "Getting individual element value, show the value of 40 in `arr_2d` by using this format `arr_2d[X,Y]`"
   ]
  },
  {
   "cell_type": "code",
   "execution_count": 70,
   "id": "4e73e8c1-8420-4e73-8799-26347510c192",
   "metadata": {},
   "outputs": [
    {
     "data": {
      "text/plain": [
       "40"
      ]
     },
     "execution_count": 70,
     "metadata": {},
     "output_type": "execute_result"
    }
   ],
   "source": [
    "arr_2d[2][1]"
   ]
  },
  {
   "cell_type": "markdown",
   "id": "ee738938-e3a7-4cd8-b01b-e3f97efa5b2f",
   "metadata": {},
   "source": [
    "2D array slicing - Shape (2,2) from top right corner - figure out what X and Y should be => `arr_2d[:X,Y:]`"
   ]
  },
  {
   "cell_type": "code",
   "execution_count": 71,
   "id": "a2435116-febc-4d16-9d0d-4e9341f22271",
   "metadata": {},
   "outputs": [
    {
     "data": {
      "text/plain": [
       "array([[10, 15],\n",
       "       [25, 30]])"
      ]
     },
     "execution_count": 71,
     "metadata": {},
     "output_type": "execute_result"
    }
   ],
   "source": [
    "arr_2d[:2,1:]"
   ]
  },
  {
   "cell_type": "markdown",
   "id": "7422557f-8b96-4d61-9874-df58c9836ad0",
   "metadata": {},
   "source": [
    "Shape bottom row to show `array([35, 40, 45])` using this syntax => `arr_2d[X]`"
   ]
  },
  {
   "cell_type": "code",
   "execution_count": 73,
   "id": "11545bac-0b61-4691-9804-bd79bc285ef5",
   "metadata": {},
   "outputs": [
    {
     "data": {
      "text/plain": [
       "array([35, 40, 45])"
      ]
     },
     "execution_count": 73,
     "metadata": {},
     "output_type": "execute_result"
    }
   ],
   "source": [
    "arr_2d[-1]"
   ]
  },
  {
   "cell_type": "markdown",
   "id": "61a65d9c-b4df-4c49-8968-f9432f471e73",
   "metadata": {},
   "source": [
    "Shape bottom row using this syntax => `arr_2d[X,:]`"
   ]
  },
  {
   "cell_type": "code",
   "execution_count": 74,
   "id": "e0736d2d-6328-4290-a770-5cd24bd65200",
   "metadata": {},
   "outputs": [
    {
     "data": {
      "text/plain": [
       "array([35, 40, 45])"
      ]
     },
     "execution_count": 74,
     "metadata": {},
     "output_type": "execute_result"
    }
   ],
   "source": [
    "arr_2d[2,:]"
   ]
  },
  {
   "cell_type": "markdown",
   "id": "78dbcfd8-a52d-4077-bbe1-496b5de108c2",
   "metadata": {},
   "source": [
    "### More Indexing Help\n",
    "Indexing a 2D matrix can be a bit confusing at first, especially when you start to add in step size. Try google image searching *NumPy indexing* to find useful images, like this one:\n",
    "\n",
    "<figure>\n",
    "   <img src=\"./images/numpy_indexing.PNG\"  alt='missing' width=\"400\"  >\n",
    "<figure/>"
   ]
  },
  {
   "cell_type": "markdown",
   "id": "fb372d20-28d6-4fa0-9f14-a4b123abcb05",
   "metadata": {},
   "source": [
    "### Conditional Selection\n",
    "\n",
    "This is a very fundamental concept that will directly translate to pandas later on, make sure you understand this part! Let's briefly go over how to use brackets for selection based off of comparison operators."
   ]
  },
  {
   "cell_type": "markdown",
   "id": "dab1652c-4a04-40fe-8486-11fbdaf613a1",
   "metadata": {},
   "source": [
    "Creat `arr` array `array([ 1,  2,  3,  4,  5,  6,  7,  8,  9, 10])` with `arrange` function"
   ]
  },
  {
   "cell_type": "code",
   "execution_count": 75,
   "id": "67f850f9-8ef6-4a46-a035-610c5cc16e61",
   "metadata": {},
   "outputs": [
    {
     "name": "stdout",
     "output_type": "stream",
     "text": [
      "[ 1  2  3  4  5  6  7  8  9 10]\n"
     ]
    }
   ],
   "source": [
    "arr = np.arange(1, 11)\n",
    "print(arr)\n"
   ]
  },
  {
   "cell_type": "markdown",
   "id": "54c02b9c-f72d-4087-ac24-072943954041",
   "metadata": {},
   "source": [
    "Type in => `bool_arr = arr>4`"
   ]
  },
  {
   "cell_type": "code",
   "execution_count": 76,
   "id": "42f1bf67-1484-41c0-aaff-0cc839390e08",
   "metadata": {},
   "outputs": [],
   "source": [
    "bool_arr = arr>4"
   ]
  },
  {
   "cell_type": "code",
   "execution_count": 77,
   "id": "ad1ca710",
   "metadata": {},
   "outputs": [
    {
     "data": {
      "text/plain": [
       "array([False, False, False, False,  True,  True,  True,  True,  True,\n",
       "        True])"
      ]
     },
     "execution_count": 77,
     "metadata": {},
     "output_type": "execute_result"
    }
   ],
   "source": [
    "bool_arr"
   ]
  },
  {
   "cell_type": "markdown",
   "id": "5097b0f0-dacb-45dd-ae32-821453f26a78",
   "metadata": {},
   "source": [
    "Can we do this? => `arr[bool_arr]` -  what does it show?"
   ]
  },
  {
   "cell_type": "code",
   "execution_count": 78,
   "id": "34564908-fe09-4fd5-a5d4-311ad37eab01",
   "metadata": {},
   "outputs": [
    {
     "data": {
      "text/plain": [
       "array([ 5,  6,  7,  8,  9, 10])"
      ]
     },
     "execution_count": 78,
     "metadata": {},
     "output_type": "execute_result"
    }
   ],
   "source": [
    "arr[bool_arr]"
   ]
  },
  {
   "cell_type": "markdown",
   "id": "0230e9ea-de03-45ee-bcb7-44d56d96b48d",
   "metadata": {},
   "source": [
    "What about this one? => `arr[arr>2]`"
   ]
  },
  {
   "cell_type": "code",
   "execution_count": 79,
   "id": "6a6a0174-7003-46d8-b7df-835e7228bb2f",
   "metadata": {},
   "outputs": [
    {
     "data": {
      "text/plain": [
       "array([ 3,  4,  5,  6,  7,  8,  9, 10])"
      ]
     },
     "execution_count": 79,
     "metadata": {},
     "output_type": "execute_result"
    }
   ],
   "source": [
    "arr[arr>2]"
   ]
  },
  {
   "cell_type": "markdown",
   "id": "10c8677e-6c9c-4d3a-8855-688b00914ba5",
   "metadata": {},
   "source": [
    "How about this one? `x = 6` and `arr[arr>x]`"
   ]
  },
  {
   "cell_type": "code",
   "execution_count": 80,
   "id": "9ce33b82-3900-4a98-b15e-e5b01b2776f0",
   "metadata": {},
   "outputs": [
    {
     "data": {
      "text/plain": [
       "array([ 7,  8,  9, 10])"
      ]
     },
     "execution_count": 80,
     "metadata": {},
     "output_type": "execute_result"
    }
   ],
   "source": [
    "x = 6\n",
    "arr[arr>x]"
   ]
  },
  {
   "cell_type": "markdown",
   "id": "7d54b42d-a6dd-495f-8b2c-b7ae0dd669cc",
   "metadata": {},
   "source": [
    "### Arithmetic\n",
    "\n",
    "You can easily perform *array with array* arithmetic, or *scalar with array* arithmetic. Let's see some examples:"
   ]
  },
  {
   "cell_type": "markdown",
   "id": "4839cb85-17cf-4344-9b67-9f7d6f2e538f",
   "metadata": {},
   "source": [
    "Generate an array (`arr`) from 2-28 with the interval of 3"
   ]
  },
  {
   "cell_type": "code",
   "execution_count": 81,
   "id": "aa98c91c-eb20-4c2b-ad95-3bd8892c7cde",
   "metadata": {},
   "outputs": [
    {
     "name": "stdout",
     "output_type": "stream",
     "text": [
      "[ 2  5  8 11 14 17 20 23 26]\n"
     ]
    }
   ],
   "source": [
    "arr = np.arange(2, 29, 3)\n",
    "print(arr)\n"
   ]
  },
  {
   "cell_type": "markdown",
   "id": "38cfe26e-3457-4ffc-87a2-d771bb9882f9",
   "metadata": {},
   "source": [
    "Run this code => `arr + arr`"
   ]
  },
  {
   "cell_type": "code",
   "execution_count": 82,
   "id": "3f0dd114-7eeb-43b2-9631-1b949f6abff8",
   "metadata": {},
   "outputs": [
    {
     "data": {
      "text/plain": [
       "array([ 4, 10, 16, 22, 28, 34, 40, 46, 52])"
      ]
     },
     "execution_count": 82,
     "metadata": {},
     "output_type": "execute_result"
    }
   ],
   "source": [
    "arr + arr"
   ]
  },
  {
   "cell_type": "markdown",
   "id": "9919461b-66ac-4a78-a7c6-a1cee2760b76",
   "metadata": {},
   "source": [
    "Run this code => `arr * arr`"
   ]
  },
  {
   "cell_type": "code",
   "execution_count": 83,
   "id": "8f200a82-7420-4cbb-9941-40c67ece28c3",
   "metadata": {},
   "outputs": [
    {
     "data": {
      "text/plain": [
       "array([  4,  25,  64, 121, 196, 289, 400, 529, 676])"
      ]
     },
     "execution_count": 83,
     "metadata": {},
     "output_type": "execute_result"
    }
   ],
   "source": [
    "arr * arr"
   ]
  },
  {
   "cell_type": "markdown",
   "id": "7ff6a09b-8567-44d3-8368-279a60ebb08f",
   "metadata": {},
   "source": [
    "Run this code => `arr - arr`"
   ]
  },
  {
   "cell_type": "code",
   "execution_count": 84,
   "id": "4a7a2f45-71a1-4d61-a7e2-84128deda88b",
   "metadata": {},
   "outputs": [
    {
     "data": {
      "text/plain": [
       "array([0, 0, 0, 0, 0, 0, 0, 0, 0])"
      ]
     },
     "execution_count": 84,
     "metadata": {},
     "output_type": "execute_result"
    }
   ],
   "source": [
    "arr - arr"
   ]
  },
  {
   "cell_type": "markdown",
   "id": "87771a71-03ec-46e3-a134-4973e73029e4",
   "metadata": {},
   "source": [
    "Run this code => `arr/arr`\n",
    "<br>This will raise a Warning on division by zero, but not an error! It just fills the spot with nan."
   ]
  },
  {
   "cell_type": "code",
   "execution_count": 85,
   "id": "dd698b1e-28a4-4ca8-807d-9e2847228f9b",
   "metadata": {},
   "outputs": [
    {
     "data": {
      "text/plain": [
       "array([1., 1., 1., 1., 1., 1., 1., 1., 1.])"
      ]
     },
     "execution_count": 85,
     "metadata": {},
     "output_type": "execute_result"
    }
   ],
   "source": [
    "arr/arr"
   ]
  },
  {
   "cell_type": "markdown",
   "id": "55950cde-01c8-40c4-b698-1dc1ea5ee1f1",
   "metadata": {},
   "source": [
    "Run this code => `1/arr`\n",
    "<br> Also a warning (but not an error) relating to infinity"
   ]
  },
  {
   "cell_type": "code",
   "execution_count": 86,
   "id": "16a0ba51-7c76-47ae-bb05-67ac0aefb8da",
   "metadata": {},
   "outputs": [
    {
     "data": {
      "text/plain": [
       "array([0.5       , 0.2       , 0.125     , 0.09090909, 0.07142857,\n",
       "       0.05882353, 0.05      , 0.04347826, 0.03846154])"
      ]
     },
     "execution_count": 86,
     "metadata": {},
     "output_type": "execute_result"
    }
   ],
   "source": [
    "1/arr"
   ]
  },
  {
   "cell_type": "markdown",
   "id": "d7174537-7dec-4241-a7e1-e83fbf8e9e5c",
   "metadata": {},
   "source": [
    "Run this => `arr**3`"
   ]
  },
  {
   "cell_type": "code",
   "execution_count": 87,
   "id": "8c0d69a4-bdd6-47ae-888c-f82d234a94bc",
   "metadata": {},
   "outputs": [
    {
     "data": {
      "text/plain": [
       "array([    8,   125,   512,  1331,  2744,  4913,  8000, 12167, 17576],\n",
       "      dtype=int32)"
      ]
     },
     "execution_count": 87,
     "metadata": {},
     "output_type": "execute_result"
    }
   ],
   "source": [
    "arr**3"
   ]
  },
  {
   "cell_type": "markdown",
   "id": "8953034b-3241-4e69-92de-ea8dc107a75e",
   "metadata": {},
   "source": [
    "### Universal Array Functions\n",
    "NumPy comes with many [universal array functions](http://docs.scipy.org/doc/numpy/reference/ufuncs.html), or <em>ufuncs</em>, which are essentially just mathematical operations that can be applied across the array.<br>Let's show some common ones:"
   ]
  },
  {
   "cell_type": "markdown",
   "id": "e10ce65c-8e81-456d-b132-c038d497b8fe",
   "metadata": {},
   "source": [
    "Taking Square Roots- use `sqrt` function like this => `np.sqrt(arr)`"
   ]
  },
  {
   "cell_type": "code",
   "execution_count": 88,
   "id": "d9ad726a-7365-4c8d-9738-0f429030fa07",
   "metadata": {},
   "outputs": [
    {
     "data": {
      "text/plain": [
       "array([1.41421356, 2.23606798, 2.82842712, 3.31662479, 3.74165739,\n",
       "       4.12310563, 4.47213595, 4.79583152, 5.09901951])"
      ]
     },
     "execution_count": 88,
     "metadata": {},
     "output_type": "execute_result"
    }
   ],
   "source": [
    "np.sqrt(arr)"
   ]
  },
  {
   "cell_type": "markdown",
   "id": "e4401527-53c9-431f-8850-935b7f7453a4",
   "metadata": {},
   "source": [
    "Calculate exponential (e^) using `exp` function on `arr`"
   ]
  },
  {
   "cell_type": "code",
   "execution_count": 90,
   "id": "ab82eec0-c985-42b2-a434-8698df074c91",
   "metadata": {},
   "outputs": [
    {
     "data": {
      "text/plain": [
       "array([7.38905610e+00, 1.48413159e+02, 2.98095799e+03, 5.98741417e+04,\n",
       "       1.20260428e+06, 2.41549528e+07, 4.85165195e+08, 9.74480345e+09,\n",
       "       1.95729609e+11])"
      ]
     },
     "execution_count": 90,
     "metadata": {},
     "output_type": "execute_result"
    }
   ],
   "source": [
    "np.exp(arr)"
   ]
  },
  {
   "cell_type": "markdown",
   "id": "7f9e2cf1-0b59-4bbf-b491-ca7a1d8159be",
   "metadata": {},
   "source": [
    "Use `sin` function to do trigonometric (sine)"
   ]
  },
  {
   "cell_type": "code",
   "execution_count": 91,
   "id": "e25faf63-5f74-4759-8eb4-67c55fa1dc30",
   "metadata": {},
   "outputs": [
    {
     "data": {
      "text/plain": [
       "array([ 0.90929743, -0.95892427,  0.98935825, -0.99999021,  0.99060736,\n",
       "       -0.96139749,  0.91294525, -0.8462204 ,  0.76255845])"
      ]
     },
     "execution_count": 91,
     "metadata": {},
     "output_type": "execute_result"
    }
   ],
   "source": [
    "np.sin(arr)"
   ]
  },
  {
   "cell_type": "markdown",
   "id": "7d77bee2-36eb-4b04-ad71-f95fbf9778ba",
   "metadata": {},
   "source": [
    "Do natural Logarithm of `arr` using `log`"
   ]
  },
  {
   "cell_type": "code",
   "execution_count": 92,
   "id": "8ae57afe-6fe3-4d8b-8882-6815c587522d",
   "metadata": {},
   "outputs": [
    {
     "data": {
      "text/plain": [
       "array([0.69314718, 1.60943791, 2.07944154, 2.39789527, 2.63905733,\n",
       "       2.83321334, 2.99573227, 3.13549422, 3.25809654])"
      ]
     },
     "execution_count": 92,
     "metadata": {},
     "output_type": "execute_result"
    }
   ],
   "source": [
    "np.log(arr)"
   ]
  },
  {
   "cell_type": "markdown",
   "id": "ab8f071a-83bf-4a10-868a-3305744aef47",
   "metadata": {},
   "source": [
    "### Summary Statistics on Arrays\n",
    "NumPy also offers common summary statistics like <em>sum</em>, <em>mean</em> and <em>max</em>. You would call these as methods on an array."
   ]
  },
  {
   "cell_type": "markdown",
   "id": "086efb5d-68ca-470a-99a8-6afce18af435",
   "metadata": {},
   "source": [
    "Run `arr2 = np.arange(0,10)`"
   ]
  },
  {
   "cell_type": "code",
   "execution_count": 93,
   "id": "ced28533-87c5-4f5e-a39e-54df95a3225f",
   "metadata": {},
   "outputs": [],
   "source": [
    "arr2 = np.arange(0,10)"
   ]
  },
  {
   "cell_type": "markdown",
   "id": "bd889c99-ebc7-4071-aa6b-0e49cfb59da0",
   "metadata": {},
   "source": [
    "Use `sum` function on arr2"
   ]
  },
  {
   "cell_type": "code",
   "execution_count": 94,
   "id": "d8e73774-7f91-4088-b87c-87cd3ba297ae",
   "metadata": {},
   "outputs": [
    {
     "data": {
      "text/plain": [
       "45"
      ]
     },
     "execution_count": 94,
     "metadata": {},
     "output_type": "execute_result"
    }
   ],
   "source": [
    "np.sum(arr2)"
   ]
  },
  {
   "cell_type": "markdown",
   "id": "525352db-d1ed-46b7-aa6c-de05c72beb22",
   "metadata": {},
   "source": [
    "Use `mean` function on arr2"
   ]
  },
  {
   "cell_type": "code",
   "execution_count": 95,
   "id": "47f39033-0f56-46a0-aeb1-c945a01dd545",
   "metadata": {},
   "outputs": [
    {
     "data": {
      "text/plain": [
       "4.5"
      ]
     },
     "execution_count": 95,
     "metadata": {},
     "output_type": "execute_result"
    }
   ],
   "source": [
    "np.mean(arr2)"
   ]
  },
  {
   "cell_type": "markdown",
   "id": "bbd54442-fcb0-47d2-ace5-5c0d54578485",
   "metadata": {},
   "source": [
    "Use `max` function on arr2"
   ]
  },
  {
   "cell_type": "code",
   "execution_count": 96,
   "id": "a7902819-ad2c-49a3-9e34-1f2f4490b39e",
   "metadata": {},
   "outputs": [
    {
     "data": {
      "text/plain": [
       "9"
      ]
     },
     "execution_count": 96,
     "metadata": {},
     "output_type": "execute_result"
    }
   ],
   "source": [
    "np.max(arr2)"
   ]
  },
  {
   "cell_type": "markdown",
   "id": "1f743c69-8d2f-46da-ab3b-ac5260b79fb9",
   "metadata": {},
   "source": [
    "Do minimum, variance, and standard deviation that should give you 0, 8.25 , 2.8722813232690143."
   ]
  },
  {
   "cell_type": "code",
   "execution_count": 97,
   "id": "081b925a-3611-4a53-b51e-58d9029d901b",
   "metadata": {},
   "outputs": [
    {
     "data": {
      "text/plain": [
       "0"
      ]
     },
     "execution_count": 97,
     "metadata": {},
     "output_type": "execute_result"
    }
   ],
   "source": [
    "np.min(arr2)"
   ]
  },
  {
   "cell_type": "code",
   "execution_count": 98,
   "id": "ec0a266c",
   "metadata": {},
   "outputs": [
    {
     "data": {
      "text/plain": [
       "8.25"
      ]
     },
     "execution_count": 98,
     "metadata": {},
     "output_type": "execute_result"
    }
   ],
   "source": [
    "np.var(arr2)"
   ]
  },
  {
   "cell_type": "code",
   "execution_count": 99,
   "id": "a32d61da",
   "metadata": {},
   "outputs": [
    {
     "data": {
      "text/plain": [
       "2.8722813232690143"
      ]
     },
     "execution_count": 99,
     "metadata": {},
     "output_type": "execute_result"
    }
   ],
   "source": [
    "np.std(arr2)"
   ]
  },
  {
   "cell_type": "markdown",
   "id": "15e15668-8fc6-4022-a3c2-96d45eb387c8",
   "metadata": {},
   "source": [
    "### Axis Logic\n",
    "When working with 2-dimensional arrays (matrices) we have to consider rows and columns. This becomes very important when we get to the section on pandas. In array terms, axis 0 (zero) is the vertical axis (rows), and axis 1 is the horizonal axis (columns). These values (0,1) correspond to the order in which <tt>arr.shape</tt> values are returned.\n",
    "\n",
    "Let's see how this affects our summary statistic calculations from above."
   ]
  },
  {
   "cell_type": "markdown",
   "id": "7302999b-497c-479f-aadf-f19205681308",
   "metadata": {},
   "source": [
    "Create this array and name it `arr_2d`\n",
    "<br>1,  2,  3,  4\n",
    "       <br>5,  6,  7,  8\n",
    "       <br>9, 10, 11, 12"
   ]
  },
  {
   "cell_type": "code",
   "execution_count": 103,
   "id": "ec331758-e3f2-477f-8fc3-2460c455e874",
   "metadata": {},
   "outputs": [
    {
     "name": "stdout",
     "output_type": "stream",
     "text": [
      "[[ 1  2  3  4]\n",
      " [ 5  6  7  8]\n",
      " [ 9 10 11 12]]\n"
     ]
    }
   ],
   "source": [
    "arr_2d = np.array([[1, 2, 3, 4], \n",
    "                   [5, 6, 7, 8], \n",
    "                   [9, 10, 11, 12]])\n",
    "\n",
    "print(arr_2d)"
   ]
  },
  {
   "cell_type": "markdown",
   "id": "1449e2ba-be88-4bd0-a636-3d9f74027f9d",
   "metadata": {},
   "source": [
    "What does this code do? `arr_2d.sum(axis=0)`"
   ]
  },
  {
   "cell_type": "code",
   "execution_count": 105,
   "id": "66880eca-6bb3-4a96-b3df-38f07d84eeb9",
   "metadata": {},
   "outputs": [
    {
     "data": {
      "text/plain": [
       "array([15, 18, 21, 24])"
      ]
     },
     "execution_count": 105,
     "metadata": {},
     "output_type": "execute_result"
    }
   ],
   "source": [
    "arr_2d.sum(axis=0)"
   ]
  },
  {
   "cell_type": "markdown",
   "id": "cf62d0b9-b67a-4dd7-a69b-dfb2a68d9586",
   "metadata": {},
   "source": [
    "By passing in <tt>axis=0</tt>, we're returning an array of sums along the vertical axis, essentially <tt>[(1+5+9), (2+6+10), (3+7+11), (4+8+12)]</tt>\n",
    "\n",
    "<figure>\n",
    "   <img src=\"./images/axis_logic.PNG\"  alt='missing' width=\"300\"  >\n",
    "<figure/>"
   ]
  },
  {
   "cell_type": "markdown",
   "id": "16afb884-5f69-46d7-8883-bf369786f847",
   "metadata": {},
   "source": [
    "What is the size of this arrays? use `shape` function"
   ]
  },
  {
   "cell_type": "code",
   "execution_count": 106,
   "id": "f3431d6c-9489-41fc-9156-138fe27f48c0",
   "metadata": {},
   "outputs": [
    {
     "data": {
      "text/plain": [
       "(3, 4)"
      ]
     },
     "execution_count": 106,
     "metadata": {},
     "output_type": "execute_result"
    }
   ],
   "source": [
    "arr_2d.shape"
   ]
  },
  {
   "cell_type": "markdown",
   "id": "a302e7fa-1b13-4081-81bd-8184167df2ba",
   "metadata": {},
   "source": [
    "This tells us that <tt>arr_2d</tt> has 3 rows and 4 columns.\n",
    "\n",
    "In <tt>arr_2d.sum(axis=0)</tt> above, the first element in each row was summed, then the second element, and so forth.\n",
    "\n",
    "So what should `arr_2d.sum(axis=1)` return? # THINK ABOUT WHAT THIS WILL RETURN BEFORE RUNNING THE CELL!"
   ]
  },
  {
   "cell_type": "code",
   "execution_count": 107,
   "id": "3186e18d-c8b2-4f6e-a17e-e24af5b00263",
   "metadata": {},
   "outputs": [
    {
     "data": {
      "text/plain": [
       "array([10, 26, 42])"
      ]
     },
     "execution_count": 107,
     "metadata": {},
     "output_type": "execute_result"
    }
   ],
   "source": [
    "arr_2d.sum(axis=1)"
   ]
  },
  {
   "cell_type": "markdown",
   "id": "c116aeb1-ece4-4fbd-bea6-aef46ef937c0",
   "metadata": {},
   "source": [
    "#### Useful References\n",
    "- NumPy Documentation including a basic introduction: [NumPy.org](https://NumPy.org/doc/stable/)\n",
    "- A challenging feature topic: [NumPy Broadcasting](https://NumPy.org/doc/stable/user/basics.broadcasting.html)"
   ]
  }
 ],
 "metadata": {
  "kernelspec": {
   "display_name": "Python 3 (ipykernel)",
   "language": "python",
   "name": "python3"
  },
  "language_info": {
   "codemirror_mode": {
    "name": "ipython",
    "version": 3
   },
   "file_extension": ".py",
   "mimetype": "text/x-python",
   "name": "python",
   "nbconvert_exporter": "python",
   "pygments_lexer": "ipython3",
   "version": "3.11.5"
  }
 },
 "nbformat": 4,
 "nbformat_minor": 5
}
