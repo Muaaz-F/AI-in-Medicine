{
 "cells": [
  {
   "cell_type": "markdown",
   "metadata": {},
   "source": [
    "**Description**\n",
    "\n",
    "The below is an exact implementation of the ANN for Classifying MNIST as the code that's provided. The goal is to train the model, then evaluate it by calculating the number of misclassifications (misses) on the test dataset. The code imports only necessary libraries, loads the data using DataLoader, defines the architecture for the ANN in a class, creates an ANN object, sets up the evaluation metrics, trains the model, tests it on the entire test dataset at once, and finally computes and prints the number of misses."
   ]
  },
  {
   "cell_type": "code",
   "execution_count": 1,
   "metadata": {},
   "outputs": [
    {
     "name": "stdout",
     "output_type": "stream",
     "text": [
      "243\n"
     ]
    }
   ],
   "source": [
    "import numpy as np                                                                                                          # 1\n",
    "import torch                                                                                                                # 2\n",
    "import torch.nn as nn                                                                                                       # 3\n",
    "import torch.nn.functional as F                                                                                             # 4\n",
    "from torch.utils.data import DataLoader                                                                                     # 5\n",
    "from torchvision import datasets, transforms                                                                                # 6\n",
    "\n",
    "train_data = datasets.MNIST(root='../05-Convolutional Neural Networks/Data', \n",
    "                            train=True, download=True, transform=transforms.ToTensor())                                     # 7\n",
    "test_data = datasets.MNIST(root='../05-Convolutional Neural Networks/Data', \n",
    "                           train=False, download=True, transform=transforms.ToTensor())                                     # 8\n",
    "\n",
    "train_loader = DataLoader(train_data, batch_size=100, shuffle=True)                                                         # 9\n",
    "\n",
    "class MultilayerPerceptron(nn.Module):                                                                                      # 10\n",
    "    def __init__(self, in_sz=784, out_sz=10, layers=[120,84]):                                                              # 11\n",
    "        super().__init__()                                                                                                  # 12\n",
    "        self.fc1 = nn.Linear(in_sz,layers[0])                                                                               # 13\n",
    "        self.fc2 = nn.Linear(layers[0],layers[1])                                                                           # 14\n",
    "        self.fc3 = nn.Linear(layers[1],out_sz)                                                                              # 15\n",
    "    \n",
    "    def forward(self,X):                                                                                                    # 16\n",
    "        X = F.relu(self.fc1(X))                                                                                             # 17\n",
    "        X = F.relu(self.fc2(X))                                                                                             # 18\n",
    "        X = self.fc3(X)                                                                                                     # 19\n",
    "        return F.log_softmax(X, dim=1)                                                                                      # 20\n",
    "    \n",
    "\n",
    "model = MultilayerPerceptron()                                                                                              # 21\n",
    "\n",
    "criterion = nn.CrossEntropyLoss()                                                                                           # 22\n",
    "optimizer = torch.optim.Adam(model.parameters(), lr=0.001)                                                                  # 23\n",
    "\n",
    "\n",
    "for i in range(10):                                                                                                         # 24\n",
    "    for b, (X_train, y_train) in enumerate(train_loader):                                                                   # 25\n",
    "        b+=1                                                                                                                # 26\n",
    "        \n",
    "        y_pred = model(X_train.view(100, -1))                                                                               # 27\n",
    "        loss = criterion(y_pred, y_train)                                                                                   # 28\n",
    "        \n",
    "        optimizer.zero_grad()                                                                                               # 29\n",
    "        loss.backward()                                                                                                     # 30\n",
    "        optimizer.step()\n",
    "        \n",
    "test_load_all = DataLoader(test_data, batch_size=10000, shuffle=False)                                                      # 31\n",
    "\n",
    "with torch.no_grad():                                                                                                       # 32\n",
    "    for X_test, y_test in test_load_all:                                                                                    # 33\n",
    "        y_val = model(X_test.view(len(X_test), -1))                                                                         # 34\n",
    "        predicted = torch.max(y_val,1)[1]                                                                                   # 35\n",
    "\n",
    "\n",
    "misses = np.where(predicted != y_test)[0]                                                                                   # 36\n",
    "print(len(misses))                                                                                                          # 37"
   ]
  }
 ],
 "metadata": {
  "kernelspec": {
   "display_name": "Python 3 (ipykernel)",
   "language": "python",
   "name": "python3"
  },
  "language_info": {
   "codemirror_mode": {
    "name": "ipython",
    "version": 3
   },
   "file_extension": ".py",
   "mimetype": "text/x-python",
   "name": "python",
   "nbconvert_exporter": "python",
   "pygments_lexer": "ipython3",
   "version": "3.11.5"
  }
 },
 "nbformat": 4,
 "nbformat_minor": 4
}
