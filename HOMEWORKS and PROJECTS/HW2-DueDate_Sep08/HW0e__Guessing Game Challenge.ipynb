{
 "cells": [
  {
   "cell_type": "markdown",
   "metadata": {},
   "source": [
    "# Guessing Game Challenge\n",
    "\n",
    "Let's use `while` loops to create a guessing game.\n",
    "\n",
    "The Challenge:\n",
    "\n",
    "Write a program that picks a random integer from 1 to 100, and has players guess the number. The rules are:\n",
    "\n",
    "1. If a player's guess is less than 1 or greater than 100, say \"OUT OF BOUNDS\"\n",
    "2. On a player's first turn, if their guess is\n",
    " * within 10 of the number, return \"WARM!\"\n",
    " * further than 10 away from the number, return \"COLD!\"\n",
    "3. On all subsequent turns, if a guess is \n",
    " * closer to the number than the previous guess return \"WARMER!\"\n",
    " * farther from the number than the previous guess, return \"COLDER!\"\n",
    "4. When the player's guess equals the number, tell them they've guessed correctly *and* how many guesses it took!\n",
    "\n",
    "You can try this from scratch, or follow the steps outlined below. A separate Solution notebook has been provided. Good luck!\n"
   ]
  },
  {
   "cell_type": "markdown",
   "metadata": {},
   "source": [
    "#### First, pick a random integer from 1 to 100 using the random module and assign it to a variable\n",
    "\n",
    "Note: `random.randint(a,b)` returns a random integer in range `[a, b]`, including both end points."
   ]
  },
  {
   "cell_type": "code",
   "execution_count": 10,
   "metadata": {},
   "outputs": [],
   "source": [
    "import random"
   ]
  },
  {
   "cell_type": "code",
   "execution_count": 11,
   "metadata": {},
   "outputs": [
    {
     "name": "stdout",
     "output_type": "stream",
     "text": [
      "67\n"
     ]
    }
   ],
   "source": [
    "a = random.randint(1,100)\n",
    "print(a)"
   ]
  },
  {
   "cell_type": "markdown",
   "metadata": {},
   "source": [
    "#### Next, print an introduction to the game and explain the rules"
   ]
  },
  {
   "cell_type": "code",
   "execution_count": 12,
   "metadata": {},
   "outputs": [
    {
     "name": "stdout",
     "output_type": "stream",
     "text": [
      "Welcome to the Guessing Game!\n",
      "I'm thinking of a number between 1 and 100.\n",
      "Try to guess the number. I'll let you know if you are warm or cold.\n",
      "If you guess correctly, I'll tell you how many guesses it took!\n"
     ]
    }
   ],
   "source": [
    "print(\"Welcome to the Guessing Game!\")\n",
    "print(\"I'm thinking of a number between 1 and 100.\")\n",
    "print(\"Try to guess the number. I'll let you know if you are warm or cold.\")\n",
    "print(\"If you guess correctly, I'll tell you how many guesses it took!\")"
   ]
  },
  {
   "cell_type": "markdown",
   "metadata": {},
   "source": [
    "#### Create a list to store guesses\n",
    "\n",
    "Hint: zero is a good placeholder value. It's useful because it evaluates to \"False\""
   ]
  },
  {
   "cell_type": "code",
   "execution_count": 13,
   "metadata": {},
   "outputs": [],
   "source": [
    "guesses = []"
   ]
  },
  {
   "cell_type": "markdown",
   "metadata": {},
   "source": [
    "#### Write a `while` loop that asks for a valid guess. Test it a few times to make sure it works."
   ]
  },
  {
   "cell_type": "code",
   "execution_count": 6,
   "metadata": {},
   "outputs": [
    {
     "name": "stdout",
     "output_type": "stream",
     "text": [
      "Enter your guess (1-100): 0\n",
      "OUT OF BOUNDS. Please enter a number between 1 and 100.\n",
      "Enter your guess (1-100): 101\n",
      "OUT OF BOUNDS. Please enter a number between 1 and 100.\n",
      "Enter your guess (1-100): 999\n",
      "OUT OF BOUNDS. Please enter a number between 1 and 100.\n",
      "Enter your guess (1-100): 55\n",
      "Valid guess: 55\n"
     ]
    }
   ],
   "source": [
    "while True:\n",
    "    try:\n",
    "\n",
    "        guess = int(input(\"Enter your guess (1-100): \"))\n",
    "        \n",
    "        if 1 <= guess <= 100:\n",
    "            print(f\"Valid guess: {guess}\")\n",
    "            break  \n",
    "        else:\n",
    "            print(\"OUT OF BOUNDS. Please enter a number between 1 and 100.\")\n",
    "    \n",
    "    except ValueError:\n",
    "        print(\"Invalid input. Please enter an integer.\")\n"
   ]
  },
  {
   "cell_type": "markdown",
   "metadata": {},
   "source": [
    "#### Write a `while` loop that compares the player's guess to our number. If the player guesses correctly, break from the loop. Otherwise, tell the player if they're warmer or colder, and continue asking for guesses.\n",
    "\n",
    "Some hints:\n",
    "* it may help to sketch out all possible combinations on paper first!\n",
    "* you can use the `abs()` function to find the positive difference between two numbers\n",
    "* if you append all new guesses to the list, then the previous guess is given as `guesses[-2]`"
   ]
  },
  {
   "cell_type": "code",
   "execution_count": 20,
   "metadata": {},
   "outputs": [
    {
     "name": "stdout",
     "output_type": "stream",
     "text": [
      "Enter your guess (1-100): 67\n",
      "Congratulations! You've guessed the number 67 correctly!\n",
      "It took you 1 guesses.\n"
     ]
    }
   ],
   "source": [
    "while True:\n",
    "    try:\n",
    "        guess = int(input(\"Enter your guess (1-100): \"))\n",
    "        \n",
    "        if guess < 1 or guess > 100:\n",
    "            print(\"OUT OF BOUNDS. Please enter a number between 1 and 100.\")\n",
    "            continue  \n",
    "        \n",
    "        guesses.append(guess)\n",
    "        \n",
    "        if guess == a:\n",
    "            print(f\"Congratulations! You've guessed the number {a} correctly!\")\n",
    "            print(f\"It took you {len(guesses)} guesses.\")\n",
    "            guesses.clear()\n",
    "            break \n",
    "        \n",
    "        if len(guesses) == 1:\n",
    "            if abs(guess - a) <= 10:\n",
    "                print(\"WARM!\")\n",
    "            else:\n",
    "                print(\"COLD!\")\n",
    "        else:\n",
    "            previous_guess = guesses[-2]\n",
    "            if abs(guess - a) < abs(previous_guess - a):\n",
    "                print(\"WARMER!\")\n",
    "            else:\n",
    "                print(\"COLDER!\")\n",
    "    \n",
    "    except ValueError:\n",
    "        print(\"Invalid input. Please enter an integer.\")\n"
   ]
  },
  {
   "cell_type": "markdown",
   "metadata": {},
   "source": [
    "That's it! You've just programmed your first game!\n",
    "\n",
    "In the next section we'll learn how to turn some of these repetitive actions into *functions* that can be called whenever we need them."
   ]
  },
  {
   "cell_type": "markdown",
   "metadata": {},
   "source": [
    "### Good Job!"
   ]
  }
 ],
 "metadata": {
  "kernelspec": {
   "display_name": "Python 3 (ipykernel)",
   "language": "python",
   "name": "python3"
  },
  "language_info": {
   "codemirror_mode": {
    "name": "ipython",
    "version": 3
   },
   "file_extension": ".py",
   "mimetype": "text/x-python",
   "name": "python",
   "nbconvert_exporter": "python",
   "pygments_lexer": "ipython3",
   "version": "3.11.5"
  }
 },
 "nbformat": 4,
 "nbformat_minor": 4
}
