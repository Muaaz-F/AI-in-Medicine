{
 "cells": [
  {
   "cell_type": "markdown",
   "metadata": {},
   "source": [
    "# Milestone Project 1\n",
    "## Congratulations on making it to your first milestone!\n",
    "You've already learned a ton and are ready to work on a real project.\n",
    "\n",
    "Your assignment: Create a Tic Tac Toe game. You are free to use any IDE you like.\n",
    "\n",
    "Here are the requirements:\n",
    "\n",
    "* 2 players should be able to play the game (both sitting at the same computer)\n",
    "* The board should be printed out every time a player makes a move\n",
    "* You should be able to accept input of the player position and then place a symbol on the board\n",
    "\n",
    "Feel free to use Google to help you figure anything out (but don't just Google \"Tic Tac Toe in Python\" otherwise you won't learn anything!) Keep in mind that this project can take anywhere between several hours to several days.\n",
    "\n",
    "There are 3 Jupyter Notebooks related to this assignment:\n",
    "\n",
    "* This Assignment Notebook\n",
    "* A \"Walkthrough Steps Workbook\" Notebook\n",
    "* A \"Complete Walkthrough Solution\" Notebook\n",
    "\n",
    "I encourage you to just try to start the project on your own without referencing any of the notebooks. If you get stuck, check out the next lecture which is a text lecture with helpful hints and steps. If you're still stuck after that, then check out the Walkthrough Steps Workbook, which breaks up the project in steps for you to solve. Still stuck? Then check out the Complete Walkthrough Solution video for more help on approaching the project!"
   ]
  },
  {
   "cell_type": "markdown",
   "metadata": {},
   "source": [
    "There are parts of this that will be a struggle...and that is good! I have complete faith that if you have made it this far through the course you have all the tools and knowledge to tackle this project. Remember, it's totally open book, so take your time, do a little research, and remember:\n",
    "\n",
    "## HAVE FUN!"
   ]
  },
  {
   "cell_type": "code",
   "execution_count": 1,
   "metadata": {},
   "outputs": [],
   "source": [
    "player_1 = 1\n",
    "player_2 = 2\n",
    "empty = 0\n",
    "\n",
    "size = 3"
   ]
  },
  {
   "cell_type": "code",
   "execution_count": 2,
   "metadata": {},
   "outputs": [],
   "source": [
    "def board(size):\n",
    "    \n",
    "    return [[0] * size for _ in range(size)]"
   ]
  },
  {
   "cell_type": "code",
   "execution_count": 3,
   "metadata": {},
   "outputs": [
    {
     "data": {
      "text/plain": [
       "[[0, 0, 0], [0, 0, 0], [0, 0, 0]]"
      ]
     },
     "execution_count": 3,
     "metadata": {},
     "output_type": "execute_result"
    }
   ],
   "source": [
    "board(size)"
   ]
  },
  {
   "cell_type": "code",
   "execution_count": 4,
   "metadata": {},
   "outputs": [],
   "source": [
    "def place_marker(board, player, coordinates):\n",
    "    x, y = coordinates\n",
    "\n",
    "    if board[x][y] == empty:  \n",
    "        board[x][y] = player\n",
    "        return True  \n",
    "    else:\n",
    "        return False "
   ]
  },
  {
   "cell_type": "code",
   "execution_count": 5,
   "metadata": {},
   "outputs": [],
   "source": [
    "def draw_board_labels(board):\n",
    "    size = len(board)\n",
    "    column_names = list(map(str, range(1, size + 1)))\n",
    "    row_names = list(\"ABCDEFGHIJKLMNOPQRSTUVWXYZ\")\n",
    "\n",
    "    print(\" \", end=\" \")\n",
    "    for j in range(size):\n",
    "        print(f\"  {column_names[j]} \", end=\"\")\n",
    "    print()\n",
    "\n",
    "    for i in range(size):\n",
    "        print(row_names[i], end=\" \")\n",
    "        for j in range(size):\n",
    "            if board[i][j] == player_1:\n",
    "                print(\"| X \", end=\"\")\n",
    "            elif board[i][j] == player_2:\n",
    "                print(\"| O \", end=\"\")\n",
    "            else:\n",
    "                print(\"|   \", end=\"\")\n",
    "        print(\"\\n\" + \"  \" + \" ---\" * size)"
   ]
  },
  {
   "cell_type": "code",
   "execution_count": 6,
   "metadata": {},
   "outputs": [],
   "source": [
    "game_board = board(size)"
   ]
  },
  {
   "cell_type": "code",
   "execution_count": 7,
   "metadata": {},
   "outputs": [
    {
     "name": "stdout",
     "output_type": "stream",
     "text": [
      "    1   2   3 \n",
      "A |   |   |   \n",
      "   --- --- ---\n",
      "B |   |   |   \n",
      "   --- --- ---\n",
      "C |   |   |   \n",
      "   --- --- ---\n"
     ]
    }
   ],
   "source": [
    "draw_board_labels(game_board)\n"
   ]
  },
  {
   "cell_type": "code",
   "execution_count": 8,
   "metadata": {},
   "outputs": [],
   "source": [
    "def game_status(matrix):\n",
    "    n = len(matrix)\n",
    "    \n",
    "    for i in range(n):\n",
    "        if all(matrix[i][j] == player_1 for j in range(n)):\n",
    "            return player_1  # Player 1 won\n",
    "        elif all(matrix[i][j] == player_2 for j in range(n)):\n",
    "            return player_2  # Player 2 won\n",
    "\n",
    "        if all(matrix[j][i] == player_1 for j in range(n)):\n",
    "            return player_1  # Player 1 won\n",
    "        elif all(matrix[j][i] == player_2 for j in range(n)):\n",
    "            return player_2  # Player 2 won\n",
    "\n",
    "    if all(matrix[i][i] == player_1 for i in range(n)):\n",
    "        return player_1  # Player 1 won\n",
    "    elif all(matrix[i][i] == player_2 for i in range(n)):\n",
    "        return player_2  # Player 2 won\n",
    "\n",
    "    if all(matrix[i][n - 1 - i] == player_1 for i in range(n)):\n",
    "        return player_1  # Player 1 won\n",
    "    elif all(matrix[i][n - 1 - i] == player_2 for i in range(n)):\n",
    "        return player_2  # Player 2 won\n",
    "\n",
    "    for row in matrix:\n",
    "        if empty in row:\n",
    "            return -1  # Game is incomplete\n",
    "\n",
    "    return 0  # Game draw"
   ]
  },
  {
   "cell_type": "code",
   "execution_count": 9,
   "metadata": {},
   "outputs": [],
   "source": [
    "def modify_board(board, player, location):\n",
    "\n",
    "    size = len(board)\n",
    "    row_names = list(\"ABCDEFGHIJKLMNOPQRSTUVWXYZ\")\n",
    "    row_map = dict(zip(row_names, range(size)))\n",
    "\n",
    "    column_names = list(map(str, range(1, size + 1))) + list(\"ABCDEFGHIJKLMNOPQRSTUVWXYZ\")\n",
    "    column_map = dict(zip(column_names, range(size)))\n",
    "\n",
    "    row_label, col_label = location[0], location[1:]\n",
    "    row_index, col_index = row_map[row_label], column_map[col_label]\n",
    "\n",
    "    success = place_marker(board, player, (row_index, col_index))\n",
    "\n",
    "    draw_board_labels(board)\n",
    "\n",
    "    return success"
   ]
  },
  {
   "cell_type": "code",
   "execution_count": 10,
   "metadata": {},
   "outputs": [],
   "source": [
    "def player_move(board, player):\n",
    "    size = len(board)\n",
    "    row_names = list(\"ABCDEFGHIJKLMNOPQRSTUVWXYZ\")\n",
    "    row_map = dict(zip(row_names, range(size)))\n",
    "\n",
    "    column_names = list(map(str, range(1, size + 1))) + list(\"ABCDEFGHIJKLMNOPQRSTUVWXYZ\")\n",
    "    column_map = dict(zip(column_names, range(size)))\n",
    "\n",
    "    while True:\n",
    "        try:\n",
    "            location = input(f\"Player {player}, enter your move: \").upper()\n",
    "\n",
    "            if (\n",
    "                len(location) >= 2\n",
    "                and location[0] in row_names\n",
    "                and location[1:].isdigit()\n",
    "            ):\n",
    "                row_label, col_label = location[0], location[1:]\n",
    "\n",
    "                if (\n",
    "                    row_label in row_map\n",
    "                    and col_label in column_map\n",
    "                    and board[row_map[row_label]][column_map[col_label]] == empty\n",
    "                ):\n",
    "                    modify_board(board, player, location)\n",
    "                    break\n",
    "                else:\n",
    "                    print(\"Invalid move. Please enter a valid move.\")\n",
    "            else:\n",
    "                print(\"Invalid input format. Please enter a valid move.\")\n",
    "        except KeyboardInterrupt:\n",
    "            print(\"\\nGame interrupted.\")\n",
    "            exit(0)"
   ]
  },
  {
   "cell_type": "code",
   "execution_count": 11,
   "metadata": {},
   "outputs": [],
   "source": [
    "def ttc_game_2player(size):\n",
    "    start_game = input(\"Do you want to start a Tic-Tac-Toe game? (Y/N): \").upper()\n",
    "\n",
    "    if start_game != \"Y\":\n",
    "        print(\"Game aborted.\")\n",
    "        return\n",
    "\n",
    "    game_board = board(size)\n",
    "    current_player = player_1\n",
    "    draw_board_labels(game_board)\n",
    "\n",
    "    while True:\n",
    "\n",
    "        player_move(game_board, current_player)\n",
    "\n",
    "        status = game_status(game_board)\n",
    "        if status != -1:\n",
    "            # draw_board_labels(game_board)\n",
    "\n",
    "            if status == 0:\n",
    "                print(\"It's a draw!\")\n",
    "            else:\n",
    "                print(f\"Player {status} wins!\")\n",
    "\n",
    "            break\n",
    "\n",
    "        current_player = player_2 if current_player == player_1 else player_1"
   ]
  },
  {
   "cell_type": "code",
   "execution_count": 12,
   "metadata": {},
   "outputs": [
    {
     "name": "stdout",
     "output_type": "stream",
     "text": [
      "Do you want to start a Tic-Tac-Toe game? (Y/N): y\n",
      "    1   2   3 \n",
      "A |   |   |   \n",
      "   --- --- ---\n",
      "B |   |   |   \n",
      "   --- --- ---\n",
      "C |   |   |   \n",
      "   --- --- ---\n",
      "Player 1, enter your move: a1\n",
      "    1   2   3 \n",
      "A | X |   |   \n",
      "   --- --- ---\n",
      "B |   |   |   \n",
      "   --- --- ---\n",
      "C |   |   |   \n",
      "   --- --- ---\n",
      "Player 2, enter your move: b2\n",
      "    1   2   3 \n",
      "A | X |   |   \n",
      "   --- --- ---\n",
      "B |   | O |   \n",
      "   --- --- ---\n",
      "C |   |   |   \n",
      "   --- --- ---\n",
      "Player 1, enter your move: a2\n",
      "    1   2   3 \n",
      "A | X | X |   \n",
      "   --- --- ---\n",
      "B |   | O |   \n",
      "   --- --- ---\n",
      "C |   |   |   \n",
      "   --- --- ---\n",
      "Player 2, enter your move: a3\n",
      "    1   2   3 \n",
      "A | X | X | O \n",
      "   --- --- ---\n",
      "B |   | O |   \n",
      "   --- --- ---\n",
      "C |   |   |   \n",
      "   --- --- ---\n",
      "Player 1, enter your move: c1\n",
      "    1   2   3 \n",
      "A | X | X | O \n",
      "   --- --- ---\n",
      "B |   | O |   \n",
      "   --- --- ---\n",
      "C | X |   |   \n",
      "   --- --- ---\n",
      "Player 2, enter your move: b2\n",
      "Invalid move. Please enter a valid move.\n",
      "Player 2, enter your move: b1\n",
      "    1   2   3 \n",
      "A | X | X | O \n",
      "   --- --- ---\n",
      "B | O | O |   \n",
      "   --- --- ---\n",
      "C | X |   |   \n",
      "   --- --- ---\n",
      "Player 1, enter your move: b3\n",
      "    1   2   3 \n",
      "A | X | X | O \n",
      "   --- --- ---\n",
      "B | O | O | X \n",
      "   --- --- ---\n",
      "C | X |   |   \n",
      "   --- --- ---\n",
      "Player 2, enter your move: c2\n",
      "    1   2   3 \n",
      "A | X | X | O \n",
      "   --- --- ---\n",
      "B | O | O | X \n",
      "   --- --- ---\n",
      "C | X | O |   \n",
      "   --- --- ---\n",
      "Player 1, enter your move: c3\n",
      "    1   2   3 \n",
      "A | X | X | O \n",
      "   --- --- ---\n",
      "B | O | O | X \n",
      "   --- --- ---\n",
      "C | X | O | X \n",
      "   --- --- ---\n",
      "It's a draw!\n"
     ]
    }
   ],
   "source": [
    "ttc_game_2player(size)"
   ]
  },
  {
   "cell_type": "code",
   "execution_count": null,
   "metadata": {},
   "outputs": [],
   "source": []
  },
  {
   "cell_type": "code",
   "execution_count": null,
   "metadata": {},
   "outputs": [],
   "source": []
  }
 ],
 "metadata": {
  "kernelspec": {
   "display_name": "Python 3 (ipykernel)",
   "language": "python",
   "name": "python3"
  },
  "language_info": {
   "codemirror_mode": {
    "name": "ipython",
    "version": 3
   },
   "file_extension": ".py",
   "mimetype": "text/x-python",
   "name": "python",
   "nbconvert_exporter": "python",
   "pygments_lexer": "ipython3",
   "version": "3.11.5"
  }
 },
 "nbformat": 4,
 "nbformat_minor": 4
}
