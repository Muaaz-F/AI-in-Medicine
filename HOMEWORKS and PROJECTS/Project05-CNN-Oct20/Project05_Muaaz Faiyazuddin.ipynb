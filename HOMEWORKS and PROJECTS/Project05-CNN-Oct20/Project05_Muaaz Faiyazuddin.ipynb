{
 "cells": [
  {
   "cell_type": "markdown",
   "metadata": {},
   "source": [
    "## MNIST Code with CNN\n",
    "Now that we've seen the results of an artificial neural network model on the <a href='https://en.wikipedia.org/wiki/MNIST_database'>MNIST dataset</a>, let's work the same data with a <a href='https://en.wikipedia.org/wiki/Convolutional_neural_network'>Convolutional Neural Network</a> (CNN).\n",
    " You'll want to be comfortable with:\n",
    "* convolutional layers\n",
    "* filters/kernels\n",
    "* pooling\n",
    "* depth, stride and zero-padding\n",
    "\n",
    "***Please go this website: https://setosa.io/ev/ordinary-least-squares-regression/***\n",
    "\n",
    "Note that in this exercise there is no need to flatten the MNIST data, as a CNN expects 2-dimensional data."
   ]
  },
  {
   "cell_type": "code",
   "execution_count": 111,
   "metadata": {},
   "outputs": [],
   "source": [
    "import numpy as np\n",
    "import pandas as pd\n",
    "from sklearn.metrics import confusion_matrix\n",
    "import matplotlib.pyplot as plt\n",
    "%matplotlib inline"
   ]
  },
  {
   "cell_type": "code",
   "execution_count": 112,
   "metadata": {},
   "outputs": [],
   "source": [
    "import torch\n",
    "import torch.nn as nn\n",
    "import torch.nn.functional as F\n",
    "from torch.utils.data import DataLoader\n",
    "from torchvision import datasets, transforms\n",
    "from torchvision.utils import make_grid"
   ]
  },
  {
   "cell_type": "markdown",
   "metadata": {},
   "source": [
    "#### Load the MNIST dataset\n",
    "PyTorch makes the MNIST train and test datasets available through <a href='https://pytorch.org/docs/stable/torchvision/index.html'><tt><strong>torchvision</strong></tt></a>. The first time they're called, the datasets will be downloaded onto your computer to the path specified. From that point, torchvision will always look for a local copy before attempting another download.\n",
    "\n",
    "You are already familiar with transformations, batch sizes and <a href='https://pytorch.org/docs/stable/data.html#torch.utils.data.DataLoader'><tt><strong>DataLoader</strong></tt></a>."
   ]
  },
  {
   "cell_type": "code",
   "execution_count": 113,
   "metadata": {},
   "outputs": [],
   "source": [
    "# Load MNIST dataset\n",
    "(train_images, train_labels), (test_images, test_labels) = mnist.load_data()\n"
   ]
  },
  {
   "cell_type": "code",
   "execution_count": 114,
   "metadata": {},
   "outputs": [],
   "source": [
    "# Normalize the images to [0, 1] (equivalent to ToTensor in PyTorch)\n",
    "train_images = train_images.astype('float32') / 255.0\n",
    "test_images = test_images.astype('float32') / 255.0\n",
    "\n",
    "# Add channel dimension to match (N, H, W, 1) format\n",
    "train_images = tf.expand_dims(train_images, axis=-1)\n",
    "test_images = tf.expand_dims(test_images, axis=-1)\n",
    "\n",
    "# Functionally equivalent to PyTorch's datasets.MNIST with ToTensor()\n",
    "train_data = (train_images, train_labels)\n",
    "test_data = (test_images, test_labels)"
   ]
  },
  {
   "cell_type": "code",
   "execution_count": 115,
   "metadata": {},
   "outputs": [
    {
     "data": {
      "text/plain": [
       "<function tuple.index(value, start=0, stop=9223372036854775807, /)>"
      ]
     },
     "execution_count": 115,
     "metadata": {},
     "output_type": "execute_result"
    }
   ],
   "source": [
    "train_data.index"
   ]
  },
  {
   "cell_type": "code",
   "execution_count": 116,
   "metadata": {},
   "outputs": [
    {
     "name": "stdout",
     "output_type": "stream",
     "text": [
      "(60000, 28, 28, 1)\n",
      "<dtype: 'float32'>\n"
     ]
    }
   ],
   "source": [
    "print(train_images.shape)\n",
    "print(train_images.dtype)"
   ]
  },
  {
   "cell_type": "code",
   "execution_count": 117,
   "metadata": {},
   "outputs": [
    {
     "data": {
      "text/plain": [
       "<function tuple.index(value, start=0, stop=9223372036854775807, /)>"
      ]
     },
     "execution_count": 117,
     "metadata": {},
     "output_type": "execute_result"
    }
   ],
   "source": [
    "test_data.index"
   ]
  },
  {
   "cell_type": "code",
   "execution_count": 118,
   "metadata": {},
   "outputs": [
    {
     "name": "stdout",
     "output_type": "stream",
     "text": [
      "(10000, 28, 28, 1)\n",
      "<dtype: 'float32'>\n"
     ]
    }
   ],
   "source": [
    "print(test_images.shape)\n",
    "print(test_images.dtype)"
   ]
  },
  {
   "cell_type": "markdown",
   "metadata": {},
   "source": [
    "### Create loaders\n",
    "When working with images, we want relatively small batches; a batch size of 4 is not uncommon."
   ]
  },
  {
   "cell_type": "code",
   "execution_count": 119,
   "metadata": {},
   "outputs": [],
   "source": [
    "train_loader = tf.data.Dataset.from_tensor_slices((train_images, train_labels)).shuffle(60000).batch(10)\n",
    "test_loader = tf.data.Dataset.from_tensor_slices((test_images, test_labels)).batch(10)"
   ]
  },
  {
   "cell_type": "markdown",
   "metadata": {},
   "source": [
    "## Define a convolutional model\n",
    "In the previous section we used only fully connected layers, with an input layer of 784 (our flattened 28x28 images), hidden layers of 120 and 84 neurons, and an output size representing 10 possible digits.\n",
    "\n",
    "This time we'll employ two convolutional layers and two pooling layers before feeding data through fully connected hidden layers to our output. The model follows CONV/RELU/POOL/CONV/RELU/POOL/FC/RELU/FC."
   ]
  },
  {
   "cell_type": "markdown",
   "metadata": {},
   "source": [
    "<div class=\"alert alert-info\"><strong>Let's walk through the steps we're about to take.</strong><br>\n",
    "\n",
    "1. Extend the base Module class:\n",
    "   \n",
    "<tt><font color=black>class ConvolutionalNetwork(nn.Module):<br>\n",
    "&nbsp;&nbsp;&nbsp;&nbsp;def \\_\\_init\\_\\_(self):<br>\n",
    "&nbsp;&nbsp;&nbsp;&nbsp;&nbsp;&nbsp;&nbsp;&nbsp;super().\\_\\_init\\_\\_()</font></tt><br>\n",
    "\n",
    "2. Set up the convolutional layers with <a href='https://pytorch.org/docs/stable/nn.html#conv2d'><tt><strong>torch.nn.Conv2d()</strong></tt></a><br><br>The first layer has one input channel (the grayscale color channel). We'll assign 6 output channels for feature extraction. We'll set our kernel size to 3 to make a 3x3 filter, and set the step size to 1.<br>\n",
    "<tt><font color=black>&nbsp;&nbsp;&nbsp;&nbsp;self.conv1 = nn.Conv2d(1, 6, 3, 1)</font></tt><br>\n",
    "The second layer will take our 6 input channels and deliver 16 output channels.<br>\n",
    "<tt><font color=black>&nbsp;&nbsp;&nbsp;&nbsp;self.conv2 = nn.Conv2d(6, 16, 3, 1)</font></tt><br><br>\n",
    "\n",
    "3. Set up the fully connected layers with <a href='https://pytorch.org/docs/stable/nn.html#linear'><tt><strong>torch.nn.Linear()</strong></tt></a>.<br><br>The input size of (5x5x16) is determined by the effect of our kernels on the input image size. A 3x3 filter applied to a 28x28 image leaves a 1-pixel edge on all four sides. In one layer the size changes from 28x28 to 26x26. We could address this with zero-padding, but since an MNIST image is mostly black at the edges, we should be safe ignoring these pixels. We'll apply the kernel twice, and apply pooling layers twice, so our resulting output will be \n",
    "$\\;(((28-2)/2)-2)/2 = 5.5\\;$ which rounds down to 5 pixels per side.<br>\n",
    "<tt><font color=black>&nbsp;&nbsp;&nbsp;&nbsp;self.fc1 = nn.Linear(5\\*5\\*16, 120)</font></tt><br>\n",
    "<tt><font color=black>&nbsp;&nbsp;&nbsp;&nbsp;self.fc2 = nn.Linear(120, 84)</font></tt><br>\n",
    "<tt><font color=black>&nbsp;&nbsp;&nbsp;&nbsp;self.fc3 = nn.Linear(84, 10)</font></tt><br>\n",
    "See below for a more detailed look at this step.<br><br>\n",
    "\n",
    "4. Define the forward method.<br><br>Activations can be applied to the convolutions in one line using <a href='https://pytorch.org/docs/stable/nn.html#id27'><tt><strong>F.relu()</strong></tt></a> and pooling is done using <a href='https://pytorch.org/docs/stable/nn.html#maxpool2d'><tt><strong>F.max_pool2d()</strong></tt></a><br>\n",
    "<tt><font color=black>def forward(self, X):<br>\n",
    "&nbsp;&nbsp;&nbsp;&nbsp;X = F.relu(self.conv1(X))<br>\n",
    "&nbsp;&nbsp;&nbsp;&nbsp;X = F.max_pool2d(X, 2, 2)<br>\n",
    "&nbsp;&nbsp;&nbsp;&nbsp;X = F.relu(self.conv2(X))<br>\n",
    "&nbsp;&nbsp;&nbsp;&nbsp;X = F.max_pool2d(X, 2, 2)<br>\n",
    "</font></tt>Flatten the data for the fully connected layers:<br><tt><font color=black>\n",
    "&nbsp;&nbsp;&nbsp;&nbsp;X = X.view(-1, 5\\*5\\*16)<br>\n",
    "&nbsp;&nbsp;&nbsp;&nbsp;X = F.relu(self.fc1(X))<br>\n",
    "&nbsp;&nbsp;&nbsp;&nbsp;X = self.fc2(X)<br>\n",
    "&nbsp;&nbsp;&nbsp;&nbsp;return F.log_softmax(X, dim=1)</font></tt>\n",
    "</div>"
   ]
  },
  {
   "cell_type": "markdown",
   "metadata": {},
   "source": [
    "<div class=\"alert alert-danger\"><strong>Breaking down the convolutional layers</strong> (this code is for illustration purposes only.)</div>"
   ]
  },
  {
   "cell_type": "code",
   "execution_count": 125,
   "metadata": {},
   "outputs": [],
   "source": [
    "# Define layers\n",
    "conv1 = layers.Conv2D(6, (3, 3), strides=(1, 1), activation='relu')  # Equivalent to nn.Conv2d(1, 6, 3, 1)\n",
    "conv2 = layers.Conv2D(16, (3, 3), strides=(1, 1), activation='relu')  # Equivalent to nn.Conv2d(6, 16, 3, 1)\n",
    "max_pool = layers.MaxPooling2D(pool_size=(2, 2), strides=(2, 2))  # Equivalent to F.max_pool2d"
   ]
  },
  {
   "cell_type": "code",
   "execution_count": 126,
   "metadata": {},
   "outputs": [
    {
     "data": {
      "text/plain": [
       "TensorShape([1, 28, 28, 1])"
      ]
     },
     "execution_count": 126,
     "metadata": {},
     "output_type": "execute_result"
    }
   ],
   "source": [
    "# Grab the first MNIST record\n",
    "X_train = train_images[0:1]\n",
    "X_train.shape  "
   ]
  },
  {
   "cell_type": "code",
   "execution_count": 127,
   "metadata": {},
   "outputs": [
    {
     "data": {
      "text/plain": [
       "TensorShape([1, 26, 26, 6])"
      ]
     },
     "execution_count": 127,
     "metadata": {},
     "output_type": "execute_result"
    }
   ],
   "source": [
    "# Perform the first convolution/activation\n",
    "x = conv1(X_train) \n",
    "x.shape  "
   ]
  },
  {
   "cell_type": "code",
   "execution_count": 128,
   "metadata": {},
   "outputs": [
    {
     "data": {
      "text/plain": [
       "TensorShape([1, 13, 13, 6])"
      ]
     },
     "execution_count": 128,
     "metadata": {},
     "output_type": "execute_result"
    }
   ],
   "source": [
    "# Run the first pooling layer\n",
    "x = max_pool(x)\n",
    "x.shape"
   ]
  },
  {
   "cell_type": "code",
   "execution_count": 129,
   "metadata": {},
   "outputs": [
    {
     "data": {
      "text/plain": [
       "TensorShape([1, 11, 11, 16])"
      ]
     },
     "execution_count": 129,
     "metadata": {},
     "output_type": "execute_result"
    }
   ],
   "source": [
    "# Perform the second convolution/activation\n",
    "x = conv2(x)\n",
    "x.shape"
   ]
  },
  {
   "cell_type": "code",
   "execution_count": 130,
   "metadata": {},
   "outputs": [
    {
     "data": {
      "text/plain": [
       "TensorShape([1, 5, 5, 16])"
      ]
     },
     "execution_count": 130,
     "metadata": {},
     "output_type": "execute_result"
    }
   ],
   "source": [
    "# Run the second pooling layer\n",
    "x = max_pool(x)\n",
    "x.shape"
   ]
  },
  {
   "cell_type": "code",
   "execution_count": 131,
   "metadata": {},
   "outputs": [
    {
     "data": {
      "text/plain": [
       "TensorShape([1, 400])"
      ]
     },
     "execution_count": 131,
     "metadata": {},
     "output_type": "execute_result"
    }
   ],
   "source": [
    "# Flatten the data\n",
    "x = tf.reshape(x, (-1, 5 * 5 * 16)) \n",
    "x.shape"
   ]
  },
  {
   "cell_type": "markdown",
   "metadata": {},
   "source": [
    "<div class=\"alert alert-danger\"><strong>This is how the convolution output is passed into the fully connected layers.</strong></div>\n",
    "\n",
    "Now let's run the code."
   ]
  },
  {
   "cell_type": "code",
   "execution_count": 134,
   "metadata": {},
   "outputs": [],
   "source": [
    "class ConvolutionalNetwork(tf.keras.Model):\n",
    "    def __init__(self):\n",
    "        super(ConvolutionalNetwork, self).__init__()\n",
    "        self.conv1 = layers.Conv2D(6, (3, 3), strides=(1, 1), activation='relu')\n",
    "        self.conv2 = layers.Conv2D(16, (3, 3), strides=(1, 1), activation='relu')\n",
    "        self.flatten = layers.Flatten()  # Automatically flatten the output\n",
    "        self.fc1 = layers.Dense(120, activation='relu')\n",
    "        self.fc2 = layers.Dense(84, activation='relu')\n",
    "        self.fc3 = layers.Dense(10)  # No activation here for use with sparse_categorical_crossentropy\n",
    "\n",
    "    def call(self, X):\n",
    "        X = self.conv1(X)\n",
    "        X = layers.MaxPooling2D(pool_size=(2, 2))(X)\n",
    "        X = self.conv2(X)\n",
    "        X = layers.MaxPooling2D(pool_size=(2, 2))(X)\n",
    "        X = self.flatten(X)  # Automatically flatten the output\n",
    "        X = self.fc1(X)\n",
    "        X = self.fc2(X)\n",
    "        return tf.nn.log_softmax(self.fc3(X), axis=1)  # Apply log softmax to the output\n"
   ]
  },
  {
   "cell_type": "code",
   "execution_count": 135,
   "metadata": {},
   "outputs": [
    {
     "name": "stdout",
     "output_type": "stream",
     "text": [
      "Model: \"convolutional_network_5\"\n",
      "_________________________________________________________________\n",
      " Layer (type)                Output Shape              Param #   \n",
      "=================================================================\n",
      " conv2d_16 (Conv2D)          multiple                  60        \n",
      "                                                                 \n",
      " conv2d_17 (Conv2D)          multiple                  880       \n",
      "                                                                 \n",
      " flatten_1 (Flatten)         multiple                  0         \n",
      "                                                                 \n",
      " dense_15 (Dense)            multiple                  48120     \n",
      "                                                                 \n",
      " dense_16 (Dense)            multiple                  10164     \n",
      "                                                                 \n",
      " dense_17 (Dense)            multiple                  850       \n",
      "                                                                 \n",
      "=================================================================\n",
      "Total params: 60074 (234.66 KB)\n",
      "Trainable params: 60074 (234.66 KB)\n",
      "Non-trainable params: 0 (0.00 Byte)\n",
      "_________________________________________________________________\n"
     ]
    }
   ],
   "source": [
    "# Set random seed for reproducibility\n",
    "tf.random.set_seed(42)\n",
    "model = ConvolutionalNetwork()\n",
    "model.build((None, 28, 28, 1))  # Build the model with input shape\n",
    "model.summary()"
   ]
  },
  {
   "cell_type": "markdown",
   "metadata": {},
   "source": [
    "Including the bias terms for each layer, the total number of parameters being trained is:<br>\n",
    "\n",
    "$\\quad\\begin{split}(1\\times6\\times3\\times3)+6+(6\\times16\\times3\\times3)+16+(400\\times120)+120+(120\\times84)+84+(84\\times10)+10 &=\\\\\n",
    "54+6+864+16+48000+120+10080+84+840+10 &= 60,074\\end{split}$<br>"
   ]
  },
  {
   "cell_type": "code",
   "execution_count": 136,
   "metadata": {},
   "outputs": [],
   "source": [
    "def count_parameters(model):\n",
    "    params = model.count_params()  # Count total parameters\n",
    "    for layer in model.layers:\n",
    "        if hasattr(layer, 'count_params'):\n",
    "            print(f'{layer.count_params():>6}')  # Print parameters for each layer\n",
    "    print(f'______\\n{params:>6}')  # Print total parameters"
   ]
  },
  {
   "cell_type": "code",
   "execution_count": 137,
   "metadata": {},
   "outputs": [
    {
     "name": "stdout",
     "output_type": "stream",
     "text": [
      "    60\n",
      "   880\n",
      "     0\n",
      " 48120\n",
      " 10164\n",
      "   850\n",
      "______\n",
      " 60074\n"
     ]
    }
   ],
   "source": [
    "count_parameters(model)"
   ]
  },
  {
   "cell_type": "markdown",
   "metadata": {},
   "source": [
    "## Define loss function & optimizer"
   ]
  },
  {
   "cell_type": "code",
   "execution_count": 138,
   "metadata": {},
   "outputs": [],
   "source": [
    "# Define loss function and optimizer\n",
    "criterion = tf.keras.losses.SparseCategoricalCrossentropy(from_logits=True)\n",
    "optimizer = tf.keras.optimizers.Adam(learning_rate=0.001)"
   ]
  },
  {
   "cell_type": "markdown",
   "metadata": {},
   "source": [
    "## Train the model\n",
    "This time we'll feed the data directly into the model without flattening it first."
   ]
  },
  {
   "cell_type": "code",
   "execution_count": 139,
   "metadata": {},
   "outputs": [],
   "source": [
    "import time"
   ]
  },
  {
   "cell_type": "code",
   "execution_count": 140,
   "metadata": {},
   "outputs": [
    {
     "name": "stdout",
     "output_type": "stream",
     "text": [
      "epoch:  0  batch:  600 [  6000/60000]  loss: 0.37061399  accuracy:  84.717%\n",
      "epoch:  0  batch: 1200 [ 12000/60000]  loss: 0.11857698  accuracy:  89.808%\n",
      "epoch:  0  batch: 1800 [ 18000/60000]  loss: 0.04116761  accuracy:  91.772%\n",
      "epoch:  0  batch: 2400 [ 24000/60000]  loss: 0.00663823  accuracy:  92.892%\n",
      "epoch:  0  batch: 3000 [ 30000/60000]  loss: 0.01811898  accuracy:  93.643%\n",
      "epoch:  0  batch: 3600 [ 36000/60000]  loss: 0.02519009  accuracy:  94.225%\n",
      "epoch:  0  batch: 4200 [ 42000/60000]  loss: 0.03924058  accuracy:  94.600%\n",
      "epoch:  0  batch: 4800 [ 48000/60000]  loss: 0.00347457  accuracy:  94.985%\n",
      "epoch:  0  batch: 5400 [ 54000/60000]  loss: 0.00146807  accuracy:  95.287%\n",
      "epoch:  0  batch: 6000 [ 60000/60000]  loss: 0.08211902  accuracy:  95.533%\n",
      "epoch:  1  batch:  600 [  6000/60000]  loss: 0.03107759  accuracy:  98.250%\n",
      "epoch:  1  batch: 1200 [ 12000/60000]  loss: 0.20072266  accuracy:  98.233%\n",
      "epoch:  1  batch: 1800 [ 18000/60000]  loss: 0.01821438  accuracy:  98.167%\n",
      "epoch:  1  batch: 2400 [ 24000/60000]  loss: 0.00010295  accuracy:  98.213%\n",
      "epoch:  1  batch: 3000 [ 30000/60000]  loss: 0.39485303  accuracy:  98.220%\n",
      "epoch:  1  batch: 3600 [ 36000/60000]  loss: 0.01695819  accuracy:  98.236%\n",
      "epoch:  1  batch: 4200 [ 42000/60000]  loss: 0.00037565  accuracy:  98.281%\n",
      "epoch:  1  batch: 4800 [ 48000/60000]  loss: 0.19115698  accuracy:  98.308%\n",
      "epoch:  1  batch: 5400 [ 54000/60000]  loss: 0.00575848  accuracy:  98.320%\n",
      "epoch:  1  batch: 6000 [ 60000/60000]  loss: 0.00128977  accuracy:  98.342%\n",
      "epoch:  2  batch:  600 [  6000/60000]  loss: 0.00506475  accuracy:  99.150%\n",
      "epoch:  2  batch: 1200 [ 12000/60000]  loss: 0.27272150  accuracy:  99.017%\n",
      "epoch:  2  batch: 1800 [ 18000/60000]  loss: 0.00095188  accuracy:  98.922%\n",
      "epoch:  2  batch: 2400 [ 24000/60000]  loss: 0.00375355  accuracy:  98.838%\n",
      "epoch:  2  batch: 3000 [ 30000/60000]  loss: 0.00578924  accuracy:  98.807%\n",
      "epoch:  2  batch: 3600 [ 36000/60000]  loss: 0.00085048  accuracy:  98.833%\n",
      "epoch:  2  batch: 4200 [ 42000/60000]  loss: 0.18614925  accuracy:  98.831%\n",
      "epoch:  2  batch: 4800 [ 48000/60000]  loss: 0.10314429  accuracy:  98.827%\n",
      "epoch:  2  batch: 5400 [ 54000/60000]  loss: 0.01692170  accuracy:  98.796%\n",
      "epoch:  2  batch: 6000 [ 60000/60000]  loss: 0.00028318  accuracy:  98.773%\n",
      "epoch:  3  batch:  600 [  6000/60000]  loss: 0.00072887  accuracy:  99.250%\n",
      "epoch:  3  batch: 1200 [ 12000/60000]  loss: 0.10443527  accuracy:  99.092%\n",
      "epoch:  3  batch: 1800 [ 18000/60000]  loss: 0.00002845  accuracy:  99.206%\n",
      "epoch:  3  batch: 2400 [ 24000/60000]  loss: 0.02177523  accuracy:  99.196%\n",
      "epoch:  3  batch: 3000 [ 30000/60000]  loss: 0.02625923  accuracy:  99.190%\n",
      "epoch:  3  batch: 3600 [ 36000/60000]  loss: 0.03239389  accuracy:  99.153%\n",
      "epoch:  3  batch: 4200 [ 42000/60000]  loss: 0.16556928  accuracy:  99.138%\n",
      "epoch:  3  batch: 4800 [ 48000/60000]  loss: 0.00209590  accuracy:  99.110%\n",
      "epoch:  3  batch: 5400 [ 54000/60000]  loss: 0.00145117  accuracy:  99.117%\n",
      "epoch:  3  batch: 6000 [ 60000/60000]  loss: 0.00009222  accuracy:  99.105%\n",
      "epoch:  4  batch:  600 [  6000/60000]  loss: 0.00000057  accuracy:  99.567%\n",
      "epoch:  4  batch: 1200 [ 12000/60000]  loss: 0.00013516  accuracy:  99.533%\n",
      "epoch:  4  batch: 1800 [ 18000/60000]  loss: 0.00093831  accuracy:  99.533%\n",
      "epoch:  4  batch: 2400 [ 24000/60000]  loss: 0.14966096  accuracy:  99.354%\n",
      "epoch:  4  batch: 3000 [ 30000/60000]  loss: 0.48674685  accuracy:  99.303%\n",
      "epoch:  4  batch: 3600 [ 36000/60000]  loss: 0.00089045  accuracy:  99.297%\n",
      "epoch:  4  batch: 4200 [ 42000/60000]  loss: 0.00041677  accuracy:  99.314%\n",
      "epoch:  4  batch: 4800 [ 48000/60000]  loss: 0.00062820  accuracy:  99.298%\n",
      "epoch:  4  batch: 5400 [ 54000/60000]  loss: 0.00026755  accuracy:  99.276%\n",
      "epoch:  4  batch: 6000 [ 60000/60000]  loss: 0.01010753  accuracy:  99.283%\n",
      "\n",
      "Duration: 5851 seconds\n"
     ]
    }
   ],
   "source": [
    "\n",
    "# Training the model\n",
    "start_time = time.time()\n",
    "\n",
    "epochs = 5\n",
    "train_losses = []\n",
    "test_losses = []\n",
    "train_correct = []\n",
    "test_correct = []\n",
    "\n",
    "for i in range(epochs):\n",
    "    trn_corr = 0\n",
    "    tst_corr = 0\n",
    "\n",
    "    # Run the training batches\n",
    "    for b, (X_train, y_train) in enumerate(train_loader):\n",
    "        b += 1\n",
    "\n",
    "        # Apply the model\n",
    "        with tf.GradientTape() as tape:\n",
    "            y_pred = model(X_train)  # we don't flatten X_train here\n",
    "            loss = criterion(y_train, y_pred)\n",
    "\n",
    "        # Tally the number of correct predictions\n",
    "        predicted = tf.argmax(y_pred, axis=1)\n",
    "        batch_corr = tf.reduce_sum(tf.cast(predicted == tf.cast(y_train, tf.int64), tf.float32))\n",
    "        trn_corr += batch_corr\n",
    "\n",
    "        # Update parameters\n",
    "        grads = tape.gradient(loss, model.trainable_variables)\n",
    "        optimizer.apply_gradients(zip(grads, model.trainable_variables))\n",
    "\n",
    "        # Print interim results\n",
    "        if b % 600 == 0:\n",
    "            print(f'epoch: {i:2}  batch: {b:4} [{10 * b:6}/60000]  loss: {loss.numpy():10.8f}  \\\n",
    "accuracy: {trn_corr.numpy() * 100 / (10 * b):7.3f}%')\n",
    "\n",
    "    train_losses.append(loss.numpy())\n",
    "    train_correct.append(trn_corr.numpy())\n",
    "\n",
    "    # Run the testing batches\n",
    "    for b, (X_test, y_test) in enumerate(test_loader):\n",
    "        with tf.GradientTape() as tape:\n",
    "\n",
    "            # Apply the model\n",
    "            y_val = model(X_test)\n",
    "\n",
    "        # Tally the number of correct predictions\n",
    "        predicted = tf.argmax(y_val, axis=1)\n",
    "        tst_corr += tf.reduce_sum(tf.cast(predicted == tf.cast(y_test, tf.int64), tf.float32))\n",
    "\n",
    "    loss = criterion(y_test, y_val)\n",
    "    test_losses.append(loss.numpy())\n",
    "    test_correct.append(tst_corr.numpy())\n",
    "\n",
    "print(f'\\nDuration: {time.time() - start_time:.0f} seconds')  # print the time elapsed\n"
   ]
  },
  {
   "cell_type": "markdown",
   "metadata": {},
   "source": [
    "## Plot the loss and accuracy comparisons"
   ]
  },
  {
   "cell_type": "code",
   "execution_count": 141,
   "metadata": {},
   "outputs": [
    {
     "data": {
      "image/png": "[encoded data removed]",
      "text/plain": [
       "<Figure size 640x480 with 1 Axes>"
      ]
     },
     "metadata": {},
     "output_type": "display_data"
    }
   ],
   "source": [
    "plt.plot(train_losses, label='training loss')\n",
    "plt.plot(test_losses, label='validation loss')\n",
    "plt.title('Loss at the end of each epoch')\n",
    "plt.legend();"
   ]
  },
  {
   "cell_type": "code",
   "execution_count": 142,
   "metadata": {},
   "outputs": [
    {
     "data": {
      "text/plain": [
       "[0.013533311, 0.00849444, 0.023007335, 0.0001483752, 0.050862867]"
      ]
     },
     "execution_count": 142,
     "metadata": {},
     "output_type": "execute_result"
    }
   ],
   "source": [
    "test_losses"
   ]
  },
  {
   "cell_type": "markdown",
   "metadata": {},
   "source": [
    "While there may be some overfitting of the training data, there is far less than we saw with the ANN model."
   ]
  },
  {
   "cell_type": "code",
   "execution_count": 143,
   "metadata": {},
   "outputs": [
    {
     "data": {
      "image/png": "[encoded data removed]",
      "text/plain": [
       "<Figure size 640x480 with 1 Axes>"
      ]
     },
     "metadata": {},
     "output_type": "display_data"
    }
   ],
   "source": [
    "plt.plot([t/600 for t in train_correct], label='training accuracy')\n",
    "plt.plot([t/100 for t in test_correct], label='validation accuracy')\n",
    "plt.title('Accuracy at the end of each epoch')\n",
    "plt.legend();"
   ]
  },
  {
   "cell_type": "markdown",
   "metadata": {},
   "source": [
    "## Evaluate Test Data"
   ]
  },
  {
   "cell_type": "code",
   "execution_count": 145,
   "metadata": {},
   "outputs": [],
   "source": [
    "# Extract the data all at once, not in batches"
   ]
  },
  {
   "cell_type": "code",
   "execution_count": 144,
   "metadata": {},
   "outputs": [],
   "source": [
    "test_load_all = tf.data.Dataset.from_tensor_slices((test_images, test_labels)).batch(10000)"
   ]
  },
  {
   "cell_type": "code",
   "execution_count": 146,
   "metadata": {
    "scrolled": true
   },
   "outputs": [
    {
     "name": "stdout",
     "output_type": "stream",
     "text": [
      "Test accuracy: 9881/10000 =  98.810%\n"
     ]
    }
   ],
   "source": [
    "correct = 0\n",
    "total_samples = 0  # Initialize total sample count\n",
    "\n",
    "# Iterate over the test dataset\n",
    "for X_test, y_test in test_load_all:\n",
    "    # Get model predictions\n",
    "    y_val = model(X_test)  # Predictions from the model\n",
    "\n",
    "    # Get the predicted classes\n",
    "    predicted = tf.argmax(y_val, axis=1)\n",
    "\n",
    "    # Convert y_test to the same type as predicted\n",
    "    y_test = tf.cast(y_test, tf.int64)  # Ensure types match\n",
    "\n",
    "    # Count correct predictions\n",
    "    correct += tf.reduce_sum(tf.cast(predicted == y_test, tf.int32))\n",
    "\n",
    "    # Increment total sample count\n",
    "    total_samples += y_test.shape[0]  # Increment by batch size\n",
    "\n",
    "# Calculate and print accuracy\n",
    "test_accuracy = correct.numpy() * 100 / total_samples\n",
    "print(f'Test accuracy: {correct.numpy()}/{total_samples} = {test_accuracy:7.3f}%')\n"
   ]
  },
  {
   "cell_type": "markdown",
   "metadata": {},
   "source": [
    "Recall that our [784,120,84,10] ANN returned an accuracy of 97.25% after 10 epochs. And it used 105,214 parameters to our current 60,074."
   ]
  },
  {
   "cell_type": "markdown",
   "metadata": {},
   "source": [
    "## Display the confusion matrix"
   ]
  },
  {
   "cell_type": "code",
   "execution_count": 147,
   "metadata": {},
   "outputs": [
    {
     "name": "stdout",
     "output_type": "stream",
     "text": [
      "[[   0    1    2    3    4    5    6    7    8    9]]\n",
      "\n",
      "[[ 974    2    3    0    0    2    5    0    2    0]\n",
      " [   0 1124    0    0    1    0    0    0    0    0]\n",
      " [   2    1 1017    1    3    0    0    6    3    1]\n",
      " [   0    0    3 1006    0    6    0    1    1    3]\n",
      " [   0    1    0    0  971    0    1    0    0    8]\n",
      " [   0    0    0    2    0  880    2    0    1    4]\n",
      " [   0    3    0    0    4    2  943    0    0    0]\n",
      " [   1    1    7    1    2    0    0 1020    5    5]\n",
      " [   3    3    2    0    0    2    7    1  962    4]\n",
      " [   0    0    0    0    1    0    0    0    0  984]]\n"
     ]
    }
   ],
   "source": [
    "# Print a row of values for reference\n",
    "np.set_printoptions(formatter=dict(int=lambda x: f'{x:4}'))\n",
    "print(np.arange(10).reshape(1, 10))\n",
    "print()\n",
    "\n",
    "# Assuming `predicted` and `y_test` are tensors containing the predicted and true labels\n",
    "# Convert predicted and y_test to numpy arrays\n",
    "predicted_np = predicted.numpy()  # Convert predicted tensor to numpy\n",
    "y_test_np = y_test.numpy()        # Convert true labels tensor to numpy\n",
    "\n",
    "# Print the confusion matrix using sklearn\n",
    "conf_matrix = confusion_matrix(predicted_np, y_test_np)\n",
    "print(conf_matrix)"
   ]
  },
  {
   "cell_type": "markdown",
   "metadata": {},
   "source": [
    "## Examine the misses\n",
    "We can track the index positions of \"missed\" predictions, and extract the corresponding image and label. We'll do this in batches to save screen space."
   ]
  },
  {
   "cell_type": "code",
   "execution_count": 148,
   "metadata": {},
   "outputs": [
    {
     "data": {
      "text/plain": [
       "119"
      ]
     },
     "execution_count": 148,
     "metadata": {},
     "output_type": "execute_result"
    }
   ],
   "source": [
    "# `predicted` and `y_test` are tensors containing the predicted and true labels\n",
    "misses = []\n",
    "\n",
    "# Converting `predicted` and `y_test` to NumPy arrays if they are still tensors\n",
    "predicted_np = predicted.numpy() if isinstance(predicted, tf.Tensor) else predicted\n",
    "y_test_np = y_test.numpy() if isinstance(y_test, tf.Tensor) else y_test\n",
    "\n",
    "# Iterating over the predictions and true labels\n",
    "for i in range(len(predicted_np)):\n",
    "    if predicted_np[i] != y_test_np[i]:\n",
    "        misses.append(i)  # Directly appending the integer index\n",
    "\n",
    "# Converting the list to a NumPy array and set the dtype to int64\n",
    "misses = np.array(misses, dtype='int64')\n",
    "\n",
    "len(misses)"
   ]
  },
  {
   "cell_type": "code",
   "execution_count": 149,
   "metadata": {},
   "outputs": [
    {
     "data": {
      "text/plain": [
       "array([ 247,  321,  359,  444,  445,  448,  582,  583,  619,  659],\n",
       "      dtype=int64)"
      ]
     },
     "execution_count": 149,
     "metadata": {},
     "output_type": "execute_result"
    }
   ],
   "source": [
    "# Display the first 10 index positions\n",
    "misses[:10]"
   ]
  },
  {
   "cell_type": "code",
   "execution_count": 47,
   "metadata": {},
   "outputs": [],
   "source": [
    "# Set up an iterator to feed batched rows\n",
    "r = 12   # row size\n",
    "row = iter(np.array_split(misses,len(misses)//r+1))"
   ]
  },
  {
   "cell_type": "code",
   "execution_count": 150,
   "metadata": {},
   "outputs": [],
   "source": [
    "# Setting up an iterator to feed batched rows\n",
    "r = 12  # row size\n",
    "row = iter(np.array_split(misses, len(misses)//r + 1))\n"
   ]
  },
  {
   "cell_type": "code",
   "execution_count": 151,
   "metadata": {},
   "outputs": [
    {
     "data": {
      "text/plain": [
       "array([ 247,  321,  359,  444,  445,  448,  582,  583,  619,  659,  844,\n",
       "        882], dtype=int64)"
      ]
     },
     "execution_count": 151,
     "metadata": {},
     "output_type": "execute_result"
    }
   ],
   "source": [
    "next(row)"
   ]
  },
  {
   "cell_type": "markdown",
   "metadata": {},
   "source": [
    "Now that everything is set up, run and re-run the cell below to view all of the missed predictions.<br>\n",
    "Use <kbd>Ctrl+Enter</kbd> to remain on the cell between runs. You'll see a <tt>StopIteration</tt> once all the misses have been seen."
   ]
  },
  {
   "cell_type": "code",
   "execution_count": 153,
   "metadata": {},
   "outputs": [
    {
     "data": {
      "image/png": "[encoded data removed]",
      "text/plain": [
       "<Figure size 1500x500 with 12 Axes>"
      ]
     },
     "metadata": {},
     "output_type": "display_data"
    }
   ],
   "source": [
    "# Specify the indices you want to visualize\n",
    "indices = next(row)\n",
    "\n",
    "# Prepare the figure\n",
    "num_images = len(indices)\n",
    "cols = 6  # Number of columns for the grid\n",
    "rows = (num_images + cols - 1) // cols  # Calculate number of rows needed\n",
    "\n",
    "fig, axs = plt.subplots(rows, cols, figsize=(15, rows * 2.5))  # Adjust the figure size as needed\n",
    "\n",
    "# Flatten the axs array for easier indexing\n",
    "axs = axs.flatten()\n",
    "\n",
    "for ax, index in zip(axs, indices):\n",
    "    ax.imshow(X_test[index].numpy(), cmap='gray')  # Change 'gray' if images are not grayscale\n",
    "    ax.axis('off')  # Turn off axis\n",
    "    ax.set_title(f'Label: {y_test[index].numpy()}\\nGuess: {predicted[index].numpy()}')  # Display label and prediction\n",
    "\n",
    "# Hide any remaining empty subplots\n",
    "for ax in axs[num_images:]:\n",
    "    ax.axis('off')\n",
    "\n",
    "plt.tight_layout()\n",
    "plt.show()\n"
   ]
  },
  {
   "cell_type": "code",
   "execution_count": 154,
   "metadata": {},
   "outputs": [
    {
     "name": "stdout",
     "output_type": "stream",
     "text": [
      "Shape of images: (1, 28, 28, 1)\n"
     ]
    }
   ],
   "source": [
    "print(\"Shape of images:\", images.shape)  # Should be something like (N, 28, 28, 1)\n"
   ]
  },
  {
   "cell_type": "markdown",
   "metadata": {},
   "source": [
    "## Run a new image through the model\n",
    "We can also pass a single image through the model to obtain a prediction.\n",
    "Pick a number from 0 to 9999, assign it to \"x\", and we'll use that value to select a number from the MNIST test set."
   ]
  },
  {
   "cell_type": "code",
   "execution_count": 155,
   "metadata": {},
   "outputs": [
    {
     "data": {
      "image/png": "[encoded data removed]",
      "text/plain": [
       "<Figure size 100x100 with 1 Axes>"
      ]
     },
     "metadata": {},
     "output_type": "display_data"
    }
   ],
   "source": [
    "x = 2019\n",
    "\n",
    "# Assuming test_data is a tuple of (images, labels)\n",
    "# Get the image tensor and squeeze to (28, 28)\n",
    "image = tf.squeeze(test_data[0][x])  # This will give you the shape (28, 28)\n",
    "\n",
    "# Plot the image\n",
    "plt.figure(figsize=(1, 1))\n",
    "plt.imshow(image.numpy(), cmap=\"gist_yarg\")  # Convert to NumPy array for plotting\n",
    "plt.axis('off')  # Hide the axis\n",
    "plt.show()"
   ]
  },
  {
   "cell_type": "code",
   "execution_count": 156,
   "metadata": {},
   "outputs": [
    {
     "name": "stdout",
     "output_type": "stream",
     "text": [
      "Predicted value: 9\n"
     ]
    }
   ],
   "source": [
    "# Assuming test_data is a tuple of (images, labels)\n",
    "image = tf.expand_dims(test_data[0][x], axis=0)  # Shape (1, 28, 28, 1)\n",
    "\n",
    "# Make a prediction with the model\n",
    "new_pred = model(image)  # Forward pass through the model\n",
    "predicted_class = tf.argmax(new_pred, axis=-1)  # Get the class with the highest score\n",
    "\n",
    "print(\"Predicted value:\", predicted_class.numpy()[0])  # Convert to NumPy for display\n"
   ]
  },
  {
   "cell_type": "markdown",
   "metadata": {},
   "source": [
    "## Great job!"
   ]
  }
 ],
 "metadata": {
  "kernelspec": {
   "display_name": "Python 3 (ipykernel)",
   "language": "python",
   "name": "python3"
  },
  "language_info": {
   "codemirror_mode": {
    "name": "ipython",
    "version": 3
   },
   "file_extension": ".py",
   "mimetype": "text/x-python",
   "name": "python",
   "nbconvert_exporter": "python",
   "pygments_lexer": "ipython3",
   "version": "3.11.5"
  }
 },
 "nbformat": 4,
 "nbformat_minor": 4
}
