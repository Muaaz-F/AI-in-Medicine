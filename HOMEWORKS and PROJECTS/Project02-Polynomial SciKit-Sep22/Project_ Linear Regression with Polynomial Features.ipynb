{
 "cells": [
  {
   "cell_type": "code",
   "execution_count": 1,
   "id": "4ff9b1fe",
   "metadata": {},
   "outputs": [],
   "source": [
    "import numpy as np\n",
    "import pandas as pd\n",
    "import matplotlib.pyplot as plt\n",
    "import seaborn as sns\n",
    "from sklearn.linear_model import LinearRegression\n",
    "from sklearn import metrics\n",
    "from sklearn.preprocessing import PolynomialFeatures\n",
    "from sklearn.model_selection import train_test_split"
   ]
  },
  {
   "cell_type": "code",
   "execution_count": 2,
   "id": "1f40b10c",
   "metadata": {
    "scrolled": true
   },
   "outputs": [
    {
     "data": {
      "text/html": [
       "<div>\n",
       "<style scoped>\n",
       "    .dataframe tbody tr th:only-of-type {\n",
       "        vertical-align: middle;\n",
       "    }\n",
       "\n",
       "    .dataframe tbody tr th {\n",
       "        vertical-align: top;\n",
       "    }\n",
       "\n",
       "    .dataframe thead th {\n",
       "        text-align: right;\n",
       "    }\n",
       "</style>\n",
       "<table border=\"1\" class=\"dataframe\">\n",
       "  <thead>\n",
       "    <tr style=\"text-align: right;\">\n",
       "      <th></th>\n",
       "      <th>mpg</th>\n",
       "      <th>cylinders</th>\n",
       "      <th>displacement</th>\n",
       "      <th>horsepower</th>\n",
       "      <th>weight</th>\n",
       "      <th>acceleration</th>\n",
       "      <th>model year</th>\n",
       "      <th>origin</th>\n",
       "      <th>car name</th>\n",
       "    </tr>\n",
       "  </thead>\n",
       "  <tbody>\n",
       "    <tr>\n",
       "      <th>0</th>\n",
       "      <td>18.0</td>\n",
       "      <td>8</td>\n",
       "      <td>307.0</td>\n",
       "      <td>130</td>\n",
       "      <td>3504</td>\n",
       "      <td>12.0</td>\n",
       "      <td>70</td>\n",
       "      <td>1</td>\n",
       "      <td>chevrolet chevelle malibu</td>\n",
       "    </tr>\n",
       "    <tr>\n",
       "      <th>1</th>\n",
       "      <td>15.0</td>\n",
       "      <td>8</td>\n",
       "      <td>350.0</td>\n",
       "      <td>165</td>\n",
       "      <td>3693</td>\n",
       "      <td>11.5</td>\n",
       "      <td>70</td>\n",
       "      <td>1</td>\n",
       "      <td>buick skylark 320</td>\n",
       "    </tr>\n",
       "    <tr>\n",
       "      <th>2</th>\n",
       "      <td>18.0</td>\n",
       "      <td>8</td>\n",
       "      <td>318.0</td>\n",
       "      <td>150</td>\n",
       "      <td>3436</td>\n",
       "      <td>11.0</td>\n",
       "      <td>70</td>\n",
       "      <td>1</td>\n",
       "      <td>plymouth satellite</td>\n",
       "    </tr>\n",
       "    <tr>\n",
       "      <th>3</th>\n",
       "      <td>16.0</td>\n",
       "      <td>8</td>\n",
       "      <td>304.0</td>\n",
       "      <td>150</td>\n",
       "      <td>3433</td>\n",
       "      <td>12.0</td>\n",
       "      <td>70</td>\n",
       "      <td>1</td>\n",
       "      <td>amc rebel sst</td>\n",
       "    </tr>\n",
       "    <tr>\n",
       "      <th>4</th>\n",
       "      <td>17.0</td>\n",
       "      <td>8</td>\n",
       "      <td>302.0</td>\n",
       "      <td>140</td>\n",
       "      <td>3449</td>\n",
       "      <td>10.5</td>\n",
       "      <td>70</td>\n",
       "      <td>1</td>\n",
       "      <td>ford torino</td>\n",
       "    </tr>\n",
       "    <tr>\n",
       "      <th>...</th>\n",
       "      <td>...</td>\n",
       "      <td>...</td>\n",
       "      <td>...</td>\n",
       "      <td>...</td>\n",
       "      <td>...</td>\n",
       "      <td>...</td>\n",
       "      <td>...</td>\n",
       "      <td>...</td>\n",
       "      <td>...</td>\n",
       "    </tr>\n",
       "    <tr>\n",
       "      <th>393</th>\n",
       "      <td>27.0</td>\n",
       "      <td>4</td>\n",
       "      <td>140.0</td>\n",
       "      <td>86</td>\n",
       "      <td>2790</td>\n",
       "      <td>15.6</td>\n",
       "      <td>82</td>\n",
       "      <td>1</td>\n",
       "      <td>ford mustang gl</td>\n",
       "    </tr>\n",
       "    <tr>\n",
       "      <th>394</th>\n",
       "      <td>44.0</td>\n",
       "      <td>4</td>\n",
       "      <td>97.0</td>\n",
       "      <td>52</td>\n",
       "      <td>2130</td>\n",
       "      <td>24.6</td>\n",
       "      <td>82</td>\n",
       "      <td>2</td>\n",
       "      <td>vw pickup</td>\n",
       "    </tr>\n",
       "    <tr>\n",
       "      <th>395</th>\n",
       "      <td>32.0</td>\n",
       "      <td>4</td>\n",
       "      <td>135.0</td>\n",
       "      <td>84</td>\n",
       "      <td>2295</td>\n",
       "      <td>11.6</td>\n",
       "      <td>82</td>\n",
       "      <td>1</td>\n",
       "      <td>dodge rampage</td>\n",
       "    </tr>\n",
       "    <tr>\n",
       "      <th>396</th>\n",
       "      <td>28.0</td>\n",
       "      <td>4</td>\n",
       "      <td>120.0</td>\n",
       "      <td>79</td>\n",
       "      <td>2625</td>\n",
       "      <td>18.6</td>\n",
       "      <td>82</td>\n",
       "      <td>1</td>\n",
       "      <td>ford ranger</td>\n",
       "    </tr>\n",
       "    <tr>\n",
       "      <th>397</th>\n",
       "      <td>31.0</td>\n",
       "      <td>4</td>\n",
       "      <td>119.0</td>\n",
       "      <td>82</td>\n",
       "      <td>2720</td>\n",
       "      <td>19.4</td>\n",
       "      <td>82</td>\n",
       "      <td>1</td>\n",
       "      <td>chevy s-10</td>\n",
       "    </tr>\n",
       "  </tbody>\n",
       "</table>\n",
       "<p>398 rows × 9 columns</p>\n",
       "</div>"
      ],
      "text/plain": [
       "      mpg  cylinders  displacement horsepower  weight  acceleration  \\\n",
       "0    18.0          8         307.0        130    3504          12.0   \n",
       "1    15.0          8         350.0        165    3693          11.5   \n",
       "2    18.0          8         318.0        150    3436          11.0   \n",
       "3    16.0          8         304.0        150    3433          12.0   \n",
       "4    17.0          8         302.0        140    3449          10.5   \n",
       "..    ...        ...           ...        ...     ...           ...   \n",
       "393  27.0          4         140.0         86    2790          15.6   \n",
       "394  44.0          4          97.0         52    2130          24.6   \n",
       "395  32.0          4         135.0         84    2295          11.6   \n",
       "396  28.0          4         120.0         79    2625          18.6   \n",
       "397  31.0          4         119.0         82    2720          19.4   \n",
       "\n",
       "     model year  origin                   car name  \n",
       "0            70       1  chevrolet chevelle malibu  \n",
       "1            70       1          buick skylark 320  \n",
       "2            70       1         plymouth satellite  \n",
       "3            70       1              amc rebel sst  \n",
       "4            70       1                ford torino  \n",
       "..          ...     ...                        ...  \n",
       "393          82       1            ford mustang gl  \n",
       "394          82       2                  vw pickup  \n",
       "395          82       1              dodge rampage  \n",
       "396          82       1                ford ranger  \n",
       "397          82       1                 chevy s-10  \n",
       "\n",
       "[398 rows x 9 columns]"
      ]
     },
     "execution_count": 2,
     "metadata": {},
     "output_type": "execute_result"
    }
   ],
   "source": [
    "auto = pd.read_csv('auto-mpg.csv')\n",
    "auto"
   ]
  },
  {
   "cell_type": "code",
   "execution_count": 3,
   "id": "6f8af451",
   "metadata": {},
   "outputs": [
    {
     "data": {
      "text/plain": [
       "mpg             float64\n",
       "cylinders         int64\n",
       "displacement    float64\n",
       "horsepower       object\n",
       "weight            int64\n",
       "acceleration    float64\n",
       "model year        int64\n",
       "origin            int64\n",
       "car name         object\n",
       "dtype: object"
      ]
     },
     "execution_count": 3,
     "metadata": {},
     "output_type": "execute_result"
    }
   ],
   "source": [
    "auto.dtypes"
   ]
  },
  {
   "cell_type": "code",
   "execution_count": 43,
   "id": "3bfa8f2c",
   "metadata": {},
   "outputs": [],
   "source": [
    "auto['horsepower'] = pd.to_numeric(auto['horsepower'], errors='coerce')\n",
    "auto = auto.dropna(subset=['horsepower'])"
   ]
  },
  {
   "cell_type": "code",
   "execution_count": 44,
   "id": "6b939d40",
   "metadata": {},
   "outputs": [
    {
     "data": {
      "text/plain": [
       "mpg           float64\n",
       "horsepower    float64\n",
       "dtype: object"
      ]
     },
     "execution_count": 44,
     "metadata": {},
     "output_type": "execute_result"
    }
   ],
   "source": [
    "auto.dtypes"
   ]
  },
  {
   "cell_type": "code",
   "execution_count": 45,
   "id": "eff2f4ac",
   "metadata": {},
   "outputs": [],
   "source": [
    "auto = auto.sort_values(by = 'horsepower', ascending = True)"
   ]
  },
  {
   "cell_type": "code",
   "execution_count": 46,
   "id": "61ec1c63",
   "metadata": {},
   "outputs": [
    {
     "data": {
      "text/html": [
       "<div>\n",
       "<style scoped>\n",
       "    .dataframe tbody tr th:only-of-type {\n",
       "        vertical-align: middle;\n",
       "    }\n",
       "\n",
       "    .dataframe tbody tr th {\n",
       "        vertical-align: top;\n",
       "    }\n",
       "\n",
       "    .dataframe thead th {\n",
       "        text-align: right;\n",
       "    }\n",
       "</style>\n",
       "<table border=\"1\" class=\"dataframe\">\n",
       "  <thead>\n",
       "    <tr style=\"text-align: right;\">\n",
       "      <th></th>\n",
       "      <th>mpg</th>\n",
       "      <th>horsepower</th>\n",
       "    </tr>\n",
       "  </thead>\n",
       "  <tbody>\n",
       "    <tr>\n",
       "      <th>19</th>\n",
       "      <td>26.0</td>\n",
       "      <td>46.0</td>\n",
       "    </tr>\n",
       "    <tr>\n",
       "      <th>102</th>\n",
       "      <td>26.0</td>\n",
       "      <td>46.0</td>\n",
       "    </tr>\n",
       "    <tr>\n",
       "      <th>244</th>\n",
       "      <td>43.1</td>\n",
       "      <td>48.0</td>\n",
       "    </tr>\n",
       "    <tr>\n",
       "      <th>326</th>\n",
       "      <td>43.4</td>\n",
       "      <td>48.0</td>\n",
       "    </tr>\n",
       "    <tr>\n",
       "      <th>325</th>\n",
       "      <td>44.3</td>\n",
       "      <td>48.0</td>\n",
       "    </tr>\n",
       "    <tr>\n",
       "      <th>...</th>\n",
       "      <td>...</td>\n",
       "      <td>...</td>\n",
       "    </tr>\n",
       "    <tr>\n",
       "      <th>6</th>\n",
       "      <td>14.0</td>\n",
       "      <td>220.0</td>\n",
       "    </tr>\n",
       "    <tr>\n",
       "      <th>13</th>\n",
       "      <td>14.0</td>\n",
       "      <td>225.0</td>\n",
       "    </tr>\n",
       "    <tr>\n",
       "      <th>8</th>\n",
       "      <td>14.0</td>\n",
       "      <td>225.0</td>\n",
       "    </tr>\n",
       "    <tr>\n",
       "      <th>95</th>\n",
       "      <td>12.0</td>\n",
       "      <td>225.0</td>\n",
       "    </tr>\n",
       "    <tr>\n",
       "      <th>116</th>\n",
       "      <td>16.0</td>\n",
       "      <td>230.0</td>\n",
       "    </tr>\n",
       "  </tbody>\n",
       "</table>\n",
       "<p>392 rows × 2 columns</p>\n",
       "</div>"
      ],
      "text/plain": [
       "      mpg  horsepower\n",
       "19   26.0        46.0\n",
       "102  26.0        46.0\n",
       "244  43.1        48.0\n",
       "326  43.4        48.0\n",
       "325  44.3        48.0\n",
       "..    ...         ...\n",
       "6    14.0       220.0\n",
       "13   14.0       225.0\n",
       "8    14.0       225.0\n",
       "95   12.0       225.0\n",
       "116  16.0       230.0\n",
       "\n",
       "[392 rows x 2 columns]"
      ]
     },
     "execution_count": 46,
     "metadata": {},
     "output_type": "execute_result"
    }
   ],
   "source": [
    "auto = auto[['mpg', 'horsepower']]\n",
    "auto"
   ]
  },
  {
   "cell_type": "code",
   "execution_count": 47,
   "id": "f1d8e037",
   "metadata": {},
   "outputs": [],
   "source": [
    "y = np.array(auto['mpg'])\n",
    "x = np.array(auto['horsepower']).reshape(-1,1)"
   ]
  },
  {
   "cell_type": "code",
   "execution_count": 48,
   "id": "8961ad42",
   "metadata": {
    "scrolled": true
   },
   "outputs": [
    {
     "data": {
      "image/png": "[encoded data removed]",
      "text/plain": [
       "<Figure size 640x480 with 1 Axes>"
      ]
     },
     "metadata": {},
     "output_type": "display_data"
    }
   ],
   "source": [
    "plt.scatter(x,y, s=10)\n",
    "plt.show()"
   ]
  },
  {
   "cell_type": "markdown",
   "id": "844f1f59",
   "metadata": {},
   "source": [
    "### Degree 2 Polynomial Model"
   ]
  },
  {
   "cell_type": "code",
   "execution_count": 49,
   "id": "e7ea3122",
   "metadata": {},
   "outputs": [],
   "source": [
    "polynomial_features2 = PolynomialFeatures(degree = 2, include_bias = False)"
   ]
  },
  {
   "cell_type": "code",
   "execution_count": 50,
   "id": "20c9ca95",
   "metadata": {},
   "outputs": [
    {
     "data": {
      "text/plain": [
       "array([[4.6000e+01, 2.1160e+03],\n",
       "       [4.6000e+01, 2.1160e+03],\n",
       "       [4.8000e+01, 2.3040e+03],\n",
       "       [4.8000e+01, 2.3040e+03],\n",
       "       [4.8000e+01, 2.3040e+03],\n",
       "       [4.9000e+01, 2.4010e+03],\n",
       "       [5.2000e+01, 2.7040e+03],\n",
       "       [5.2000e+01, 2.7040e+03],\n",
       "       [5.2000e+01, 2.7040e+03],\n",
       "       [5.2000e+01, 2.7040e+03],\n",
       "       [5.3000e+01, 2.8090e+03],\n",
       "       [5.3000e+01, 2.8090e+03],\n",
       "       [5.4000e+01, 2.9160e+03],\n",
       "       [5.8000e+01, 3.3640e+03],\n",
       "       [5.8000e+01, 3.3640e+03],\n",
       "       [6.0000e+01, 3.6000e+03],\n",
       "       [6.0000e+01, 3.6000e+03],\n",
       "       [6.0000e+01, 3.6000e+03],\n",
       "       [6.0000e+01, 3.6000e+03],\n",
       "       [6.0000e+01, 3.6000e+03],\n",
       "       [6.1000e+01, 3.7210e+03],\n",
       "       [6.2000e+01, 3.8440e+03],\n",
       "       [6.2000e+01, 3.8440e+03],\n",
       "       [6.3000e+01, 3.9690e+03],\n",
       "       [6.3000e+01, 3.9690e+03],\n",
       "       [6.3000e+01, 3.9690e+03],\n",
       "       [6.4000e+01, 4.0960e+03],\n",
       "       [6.5000e+01, 4.2250e+03],\n",
       "       [6.5000e+01, 4.2250e+03],\n",
       "       [6.5000e+01, 4.2250e+03],\n",
       "       [6.5000e+01, 4.2250e+03],\n",
       "       [6.5000e+01, 4.2250e+03],\n",
       "       [6.5000e+01, 4.2250e+03],\n",
       "       [6.5000e+01, 4.2250e+03],\n",
       "       [6.5000e+01, 4.2250e+03],\n",
       "       [6.5000e+01, 4.2250e+03],\n",
       "       [6.5000e+01, 4.2250e+03],\n",
       "       [6.6000e+01, 4.3560e+03],\n",
       "       [6.7000e+01, 4.4890e+03],\n",
       "       [6.7000e+01, 4.4890e+03],\n",
       "       [6.7000e+01, 4.4890e+03],\n",
       "       [6.7000e+01, 4.4890e+03],\n",
       "       [6.7000e+01, 4.4890e+03],\n",
       "       [6.7000e+01, 4.4890e+03],\n",
       "       [6.7000e+01, 4.4890e+03],\n",
       "       [6.7000e+01, 4.4890e+03],\n",
       "       [6.7000e+01, 4.4890e+03],\n",
       "       [6.7000e+01, 4.4890e+03],\n",
       "       [6.7000e+01, 4.4890e+03],\n",
       "       [6.7000e+01, 4.4890e+03],\n",
       "       [6.8000e+01, 4.6240e+03],\n",
       "       [6.8000e+01, 4.6240e+03],\n",
       "       [6.8000e+01, 4.6240e+03],\n",
       "       [6.8000e+01, 4.6240e+03],\n",
       "       [6.8000e+01, 4.6240e+03],\n",
       "       [6.8000e+01, 4.6240e+03],\n",
       "       [6.9000e+01, 4.7610e+03],\n",
       "       [6.9000e+01, 4.7610e+03],\n",
       "       [6.9000e+01, 4.7610e+03],\n",
       "       [7.0000e+01, 4.9000e+03],\n",
       "       [7.0000e+01, 4.9000e+03],\n",
       "       [7.0000e+01, 4.9000e+03],\n",
       "       [7.0000e+01, 4.9000e+03],\n",
       "       [7.0000e+01, 4.9000e+03],\n",
       "       [7.0000e+01, 4.9000e+03],\n",
       "       [7.0000e+01, 4.9000e+03],\n",
       "       [7.0000e+01, 4.9000e+03],\n",
       "       [7.0000e+01, 4.9000e+03],\n",
       "       [7.0000e+01, 4.9000e+03],\n",
       "       [7.0000e+01, 4.9000e+03],\n",
       "       [7.0000e+01, 4.9000e+03],\n",
       "       [7.1000e+01, 5.0410e+03],\n",
       "       [7.1000e+01, 5.0410e+03],\n",
       "       [7.1000e+01, 5.0410e+03],\n",
       "       [7.1000e+01, 5.0410e+03],\n",
       "       [7.1000e+01, 5.0410e+03],\n",
       "       [7.2000e+01, 5.1840e+03],\n",
       "       [7.2000e+01, 5.1840e+03],\n",
       "       [7.2000e+01, 5.1840e+03],\n",
       "       [7.2000e+01, 5.1840e+03],\n",
       "       [7.2000e+01, 5.1840e+03],\n",
       "       [7.2000e+01, 5.1840e+03],\n",
       "       [7.4000e+01, 5.4760e+03],\n",
       "       [7.4000e+01, 5.4760e+03],\n",
       "       [7.4000e+01, 5.4760e+03],\n",
       "       [7.5000e+01, 5.6250e+03],\n",
       "       [7.5000e+01, 5.6250e+03],\n",
       "       [7.5000e+01, 5.6250e+03],\n",
       "       [7.5000e+01, 5.6250e+03],\n",
       "       [7.5000e+01, 5.6250e+03],\n",
       "       [7.5000e+01, 5.6250e+03],\n",
       "       [7.5000e+01, 5.6250e+03],\n",
       "       [7.5000e+01, 5.6250e+03],\n",
       "       [7.5000e+01, 5.6250e+03],\n",
       "       [7.5000e+01, 5.6250e+03],\n",
       "       [7.5000e+01, 5.6250e+03],\n",
       "       [7.5000e+01, 5.6250e+03],\n",
       "       [7.5000e+01, 5.6250e+03],\n",
       "       [7.5000e+01, 5.6250e+03],\n",
       "       [7.6000e+01, 5.7760e+03],\n",
       "       [7.6000e+01, 5.7760e+03],\n",
       "       [7.6000e+01, 5.7760e+03],\n",
       "       [7.6000e+01, 5.7760e+03],\n",
       "       [7.7000e+01, 5.9290e+03],\n",
       "       [7.8000e+01, 6.0840e+03],\n",
       "       [7.8000e+01, 6.0840e+03],\n",
       "       [7.8000e+01, 6.0840e+03],\n",
       "       [7.8000e+01, 6.0840e+03],\n",
       "       [7.8000e+01, 6.0840e+03],\n",
       "       [7.8000e+01, 6.0840e+03],\n",
       "       [7.9000e+01, 6.2410e+03],\n",
       "       [7.9000e+01, 6.2410e+03],\n",
       "       [8.0000e+01, 6.4000e+03],\n",
       "       [8.0000e+01, 6.4000e+03],\n",
       "       [8.0000e+01, 6.4000e+03],\n",
       "       [8.0000e+01, 6.4000e+03],\n",
       "       [8.0000e+01, 6.4000e+03],\n",
       "       [8.0000e+01, 6.4000e+03],\n",
       "       [8.0000e+01, 6.4000e+03],\n",
       "       [8.1000e+01, 6.5610e+03],\n",
       "       [8.1000e+01, 6.5610e+03],\n",
       "       [8.2000e+01, 6.7240e+03],\n",
       "       [8.3000e+01, 6.8890e+03],\n",
       "       [8.3000e+01, 6.8890e+03],\n",
       "       [8.3000e+01, 6.8890e+03],\n",
       "       [8.3000e+01, 6.8890e+03],\n",
       "       [8.4000e+01, 7.0560e+03],\n",
       "       [8.4000e+01, 7.0560e+03],\n",
       "       [8.4000e+01, 7.0560e+03],\n",
       "       [8.4000e+01, 7.0560e+03],\n",
       "       [8.4000e+01, 7.0560e+03],\n",
       "       [8.4000e+01, 7.0560e+03],\n",
       "       [8.5000e+01, 7.2250e+03],\n",
       "       [8.5000e+01, 7.2250e+03],\n",
       "       [8.5000e+01, 7.2250e+03],\n",
       "       [8.5000e+01, 7.2250e+03],\n",
       "       [8.5000e+01, 7.2250e+03],\n",
       "       [8.5000e+01, 7.2250e+03],\n",
       "       [8.5000e+01, 7.2250e+03],\n",
       "       [8.5000e+01, 7.2250e+03],\n",
       "       [8.5000e+01, 7.2250e+03],\n",
       "       [8.6000e+01, 7.3960e+03],\n",
       "       [8.6000e+01, 7.3960e+03],\n",
       "       [8.6000e+01, 7.3960e+03],\n",
       "       [8.6000e+01, 7.3960e+03],\n",
       "       [8.6000e+01, 7.3960e+03],\n",
       "       [8.7000e+01, 7.5690e+03],\n",
       "       [8.7000e+01, 7.5690e+03],\n",
       "       [8.8000e+01, 7.7440e+03],\n",
       "       [8.8000e+01, 7.7440e+03],\n",
       "       [8.8000e+01, 7.7440e+03],\n",
       "       [8.8000e+01, 7.7440e+03],\n",
       "       [8.8000e+01, 7.7440e+03],\n",
       "       [8.8000e+01, 7.7440e+03],\n",
       "       [8.8000e+01, 7.7440e+03],\n",
       "       [8.8000e+01, 7.7440e+03],\n",
       "       [8.8000e+01, 7.7440e+03],\n",
       "       [8.8000e+01, 7.7440e+03],\n",
       "       [8.8000e+01, 7.7440e+03],\n",
       "       [8.8000e+01, 7.7440e+03],\n",
       "       [8.8000e+01, 7.7440e+03],\n",
       "       [8.8000e+01, 7.7440e+03],\n",
       "       [8.8000e+01, 7.7440e+03],\n",
       "       [8.8000e+01, 7.7440e+03],\n",
       "       [8.8000e+01, 7.7440e+03],\n",
       "       [8.8000e+01, 7.7440e+03],\n",
       "       [8.8000e+01, 7.7440e+03],\n",
       "       [8.9000e+01, 7.9210e+03],\n",
       "       [9.0000e+01, 8.1000e+03],\n",
       "       [9.0000e+01, 8.1000e+03],\n",
       "       [9.0000e+01, 8.1000e+03],\n",
       "       [9.0000e+01, 8.1000e+03],\n",
       "       [9.0000e+01, 8.1000e+03],\n",
       "       [9.0000e+01, 8.1000e+03],\n",
       "       [9.0000e+01, 8.1000e+03],\n",
       "       [9.0000e+01, 8.1000e+03],\n",
       "       [9.0000e+01, 8.1000e+03],\n",
       "       [9.0000e+01, 8.1000e+03],\n",
       "       [9.0000e+01, 8.1000e+03],\n",
       "       [9.0000e+01, 8.1000e+03],\n",
       "       [9.0000e+01, 8.1000e+03],\n",
       "       [9.0000e+01, 8.1000e+03],\n",
       "       [9.0000e+01, 8.1000e+03],\n",
       "       [9.0000e+01, 8.1000e+03],\n",
       "       [9.0000e+01, 8.1000e+03],\n",
       "       [9.0000e+01, 8.1000e+03],\n",
       "       [9.0000e+01, 8.1000e+03],\n",
       "       [9.0000e+01, 8.1000e+03],\n",
       "       [9.1000e+01, 8.2810e+03],\n",
       "       [9.2000e+01, 8.4640e+03],\n",
       "       [9.2000e+01, 8.4640e+03],\n",
       "       [9.2000e+01, 8.4640e+03],\n",
       "       [9.2000e+01, 8.4640e+03],\n",
       "       [9.2000e+01, 8.4640e+03],\n",
       "       [9.2000e+01, 8.4640e+03],\n",
       "       [9.3000e+01, 8.6490e+03],\n",
       "       [9.4000e+01, 8.8360e+03],\n",
       "       [9.5000e+01, 9.0250e+03],\n",
       "       [9.5000e+01, 9.0250e+03],\n",
       "       [9.5000e+01, 9.0250e+03],\n",
       "       [9.5000e+01, 9.0250e+03],\n",
       "       [9.5000e+01, 9.0250e+03],\n",
       "       [9.5000e+01, 9.0250e+03],\n",
       "       [9.5000e+01, 9.0250e+03],\n",
       "       [9.5000e+01, 9.0250e+03],\n",
       "       [9.5000e+01, 9.0250e+03],\n",
       "       [9.5000e+01, 9.0250e+03],\n",
       "       [9.5000e+01, 9.0250e+03],\n",
       "       [9.5000e+01, 9.0250e+03],\n",
       "       [9.5000e+01, 9.0250e+03],\n",
       "       [9.5000e+01, 9.0250e+03],\n",
       "       [9.6000e+01, 9.2160e+03],\n",
       "       [9.6000e+01, 9.2160e+03],\n",
       "       [9.6000e+01, 9.2160e+03],\n",
       "       [9.7000e+01, 9.4090e+03],\n",
       "       [9.7000e+01, 9.4090e+03],\n",
       "       [9.7000e+01, 9.4090e+03],\n",
       "       [9.7000e+01, 9.4090e+03],\n",
       "       [9.7000e+01, 9.4090e+03],\n",
       "       [9.7000e+01, 9.4090e+03],\n",
       "       [9.7000e+01, 9.4090e+03],\n",
       "       [9.7000e+01, 9.4090e+03],\n",
       "       [9.7000e+01, 9.4090e+03],\n",
       "       [9.8000e+01, 9.6040e+03],\n",
       "       [9.8000e+01, 9.6040e+03],\n",
       "       [1.0000e+02, 1.0000e+04],\n",
       "       [1.0000e+02, 1.0000e+04],\n",
       "       [1.0000e+02, 1.0000e+04],\n",
       "       [1.0000e+02, 1.0000e+04],\n",
       "       [1.0000e+02, 1.0000e+04],\n",
       "       [1.0000e+02, 1.0000e+04],\n",
       "       [1.0000e+02, 1.0000e+04],\n",
       "       [1.0000e+02, 1.0000e+04],\n",
       "       [1.0000e+02, 1.0000e+04],\n",
       "       [1.0000e+02, 1.0000e+04],\n",
       "       [1.0000e+02, 1.0000e+04],\n",
       "       [1.0000e+02, 1.0000e+04],\n",
       "       [1.0000e+02, 1.0000e+04],\n",
       "       [1.0000e+02, 1.0000e+04],\n",
       "       [1.0000e+02, 1.0000e+04],\n",
       "       [1.0000e+02, 1.0000e+04],\n",
       "       [1.0000e+02, 1.0000e+04],\n",
       "       [1.0200e+02, 1.0404e+04],\n",
       "       [1.0300e+02, 1.0609e+04],\n",
       "       [1.0500e+02, 1.1025e+04],\n",
       "       [1.0500e+02, 1.1025e+04],\n",
       "       [1.0500e+02, 1.1025e+04],\n",
       "       [1.0500e+02, 1.1025e+04],\n",
       "       [1.0500e+02, 1.1025e+04],\n",
       "       [1.0500e+02, 1.1025e+04],\n",
       "       [1.0500e+02, 1.1025e+04],\n",
       "       [1.0500e+02, 1.1025e+04],\n",
       "       [1.0500e+02, 1.1025e+04],\n",
       "       [1.0500e+02, 1.1025e+04],\n",
       "       [1.0500e+02, 1.1025e+04],\n",
       "       [1.0500e+02, 1.1025e+04],\n",
       "       [1.0700e+02, 1.1449e+04],\n",
       "       [1.0800e+02, 1.1664e+04],\n",
       "       [1.1000e+02, 1.2100e+04],\n",
       "       [1.1000e+02, 1.2100e+04],\n",
       "       [1.1000e+02, 1.2100e+04],\n",
       "       [1.1000e+02, 1.2100e+04],\n",
       "       [1.1000e+02, 1.2100e+04],\n",
       "       [1.1000e+02, 1.2100e+04],\n",
       "       [1.1000e+02, 1.2100e+04],\n",
       "       [1.1000e+02, 1.2100e+04],\n",
       "       [1.1000e+02, 1.2100e+04],\n",
       "       [1.1000e+02, 1.2100e+04],\n",
       "       [1.1000e+02, 1.2100e+04],\n",
       "       [1.1000e+02, 1.2100e+04],\n",
       "       [1.1000e+02, 1.2100e+04],\n",
       "       [1.1000e+02, 1.2100e+04],\n",
       "       [1.1000e+02, 1.2100e+04],\n",
       "       [1.1000e+02, 1.2100e+04],\n",
       "       [1.1000e+02, 1.2100e+04],\n",
       "       [1.1000e+02, 1.2100e+04],\n",
       "       [1.1200e+02, 1.2544e+04],\n",
       "       [1.1200e+02, 1.2544e+04],\n",
       "       [1.1200e+02, 1.2544e+04],\n",
       "       [1.1300e+02, 1.2769e+04],\n",
       "       [1.1500e+02, 1.3225e+04],\n",
       "       [1.1500e+02, 1.3225e+04],\n",
       "       [1.1500e+02, 1.3225e+04],\n",
       "       [1.1500e+02, 1.3225e+04],\n",
       "       [1.1500e+02, 1.3225e+04],\n",
       "       [1.1600e+02, 1.3456e+04],\n",
       "       [1.2000e+02, 1.4400e+04],\n",
       "       [1.2000e+02, 1.4400e+04],\n",
       "       [1.2000e+02, 1.4400e+04],\n",
       "       [1.2000e+02, 1.4400e+04],\n",
       "       [1.2200e+02, 1.4884e+04],\n",
       "       [1.2500e+02, 1.5625e+04],\n",
       "       [1.2500e+02, 1.5625e+04],\n",
       "       [1.2500e+02, 1.5625e+04],\n",
       "       [1.2900e+02, 1.6641e+04],\n",
       "       [1.2900e+02, 1.6641e+04],\n",
       "       [1.3000e+02, 1.6900e+04],\n",
       "       [1.3000e+02, 1.6900e+04],\n",
       "       [1.3000e+02, 1.6900e+04],\n",
       "       [1.3000e+02, 1.6900e+04],\n",
       "       [1.3000e+02, 1.6900e+04],\n",
       "       [1.3200e+02, 1.7424e+04],\n",
       "       [1.3300e+02, 1.7689e+04],\n",
       "       [1.3500e+02, 1.8225e+04],\n",
       "       [1.3700e+02, 1.8769e+04],\n",
       "       [1.3800e+02, 1.9044e+04],\n",
       "       [1.3900e+02, 1.9321e+04],\n",
       "       [1.3900e+02, 1.9321e+04],\n",
       "       [1.4000e+02, 1.9600e+04],\n",
       "       [1.4000e+02, 1.9600e+04],\n",
       "       [1.4000e+02, 1.9600e+04],\n",
       "       [1.4000e+02, 1.9600e+04],\n",
       "       [1.4000e+02, 1.9600e+04],\n",
       "       [1.4000e+02, 1.9600e+04],\n",
       "       [1.4000e+02, 1.9600e+04],\n",
       "       [1.4200e+02, 2.0164e+04],\n",
       "       [1.4500e+02, 2.1025e+04],\n",
       "       [1.4500e+02, 2.1025e+04],\n",
       "       [1.4500e+02, 2.1025e+04],\n",
       "       [1.4500e+02, 2.1025e+04],\n",
       "       [1.4500e+02, 2.1025e+04],\n",
       "       [1.4500e+02, 2.1025e+04],\n",
       "       [1.4500e+02, 2.1025e+04],\n",
       "       [1.4800e+02, 2.1904e+04],\n",
       "       [1.4900e+02, 2.2201e+04],\n",
       "       [1.5000e+02, 2.2500e+04],\n",
       "       [1.5000e+02, 2.2500e+04],\n",
       "       [1.5000e+02, 2.2500e+04],\n",
       "       [1.5000e+02, 2.2500e+04],\n",
       "       [1.5000e+02, 2.2500e+04],\n",
       "       [1.5000e+02, 2.2500e+04],\n",
       "       [1.5000e+02, 2.2500e+04],\n",
       "       [1.5000e+02, 2.2500e+04],\n",
       "       [1.5000e+02, 2.2500e+04],\n",
       "       [1.5000e+02, 2.2500e+04],\n",
       "       [1.5000e+02, 2.2500e+04],\n",
       "       [1.5000e+02, 2.2500e+04],\n",
       "       [1.5000e+02, 2.2500e+04],\n",
       "       [1.5000e+02, 2.2500e+04],\n",
       "       [1.5000e+02, 2.2500e+04],\n",
       "       [1.5000e+02, 2.2500e+04],\n",
       "       [1.5000e+02, 2.2500e+04],\n",
       "       [1.5000e+02, 2.2500e+04],\n",
       "       [1.5000e+02, 2.2500e+04],\n",
       "       [1.5000e+02, 2.2500e+04],\n",
       "       [1.5000e+02, 2.2500e+04],\n",
       "       [1.5000e+02, 2.2500e+04],\n",
       "       [1.5200e+02, 2.3104e+04],\n",
       "       [1.5300e+02, 2.3409e+04],\n",
       "       [1.5300e+02, 2.3409e+04],\n",
       "       [1.5500e+02, 2.4025e+04],\n",
       "       [1.5500e+02, 2.4025e+04],\n",
       "       [1.5800e+02, 2.4964e+04],\n",
       "       [1.6000e+02, 2.5600e+04],\n",
       "       [1.6000e+02, 2.5600e+04],\n",
       "       [1.6500e+02, 2.7225e+04],\n",
       "       [1.6500e+02, 2.7225e+04],\n",
       "       [1.6500e+02, 2.7225e+04],\n",
       "       [1.6500e+02, 2.7225e+04],\n",
       "       [1.6700e+02, 2.7889e+04],\n",
       "       [1.7000e+02, 2.8900e+04],\n",
       "       [1.7000e+02, 2.8900e+04],\n",
       "       [1.7000e+02, 2.8900e+04],\n",
       "       [1.7000e+02, 2.8900e+04],\n",
       "       [1.7000e+02, 2.8900e+04],\n",
       "       [1.7500e+02, 3.0625e+04],\n",
       "       [1.7500e+02, 3.0625e+04],\n",
       "       [1.7500e+02, 3.0625e+04],\n",
       "       [1.7500e+02, 3.0625e+04],\n",
       "       [1.7500e+02, 3.0625e+04],\n",
       "       [1.8000e+02, 3.2400e+04],\n",
       "       [1.8000e+02, 3.2400e+04],\n",
       "       [1.8000e+02, 3.2400e+04],\n",
       "       [1.8000e+02, 3.2400e+04],\n",
       "       [1.8000e+02, 3.2400e+04],\n",
       "       [1.9000e+02, 3.6100e+04],\n",
       "       [1.9000e+02, 3.6100e+04],\n",
       "       [1.9000e+02, 3.6100e+04],\n",
       "       [1.9300e+02, 3.7249e+04],\n",
       "       [1.9800e+02, 3.9204e+04],\n",
       "       [1.9800e+02, 3.9204e+04],\n",
       "       [2.0000e+02, 4.0000e+04],\n",
       "       [2.0800e+02, 4.3264e+04],\n",
       "       [2.1000e+02, 4.4100e+04],\n",
       "       [2.1500e+02, 4.6225e+04],\n",
       "       [2.1500e+02, 4.6225e+04],\n",
       "       [2.1500e+02, 4.6225e+04],\n",
       "       [2.2000e+02, 4.8400e+04],\n",
       "       [2.2500e+02, 5.0625e+04],\n",
       "       [2.2500e+02, 5.0625e+04],\n",
       "       [2.2500e+02, 5.0625e+04],\n",
       "       [2.3000e+02, 5.2900e+04]])"
      ]
     },
     "execution_count": 50,
     "metadata": {},
     "output_type": "execute_result"
    }
   ],
   "source": [
    "polynomial_features2.fit_transform(x)"
   ]
  },
  {
   "cell_type": "code",
   "execution_count": 51,
   "id": "ab6b14b7",
   "metadata": {},
   "outputs": [],
   "source": [
    "x_poly2 = polynomial_features2.fit_transform(x)"
   ]
  },
  {
   "cell_type": "code",
   "execution_count": 82,
   "id": "95192527",
   "metadata": {},
   "outputs": [
    {
     "data": {
      "text/html": [
       "<style>#sk-container-id-3 {color: black;}#sk-container-id-3 pre{padding: 0;}#sk-container-id-3 div.sk-toggleable {background-color: white;}#sk-container-id-3 label.sk-toggleable__label {cursor: pointer;display: block;width: 100%;margin-bottom: 0;padding: 0.3em;box-sizing: border-box;text-align: center;}#sk-container-id-3 label.sk-toggleable__label-arrow:before {content: \"▸\";float: left;margin-right: 0.25em;color: #696969;}#sk-container-id-3 label.sk-toggleable__label-arrow:hover:before {color: black;}#sk-container-id-3 div.sk-estimator:hover label.sk-toggleable__label-arrow:before {color: black;}#sk-container-id-3 div.sk-toggleable__content {max-height: 0;max-width: 0;overflow: hidden;text-align: left;background-color: #f0f8ff;}#sk-container-id-3 div.sk-toggleable__content pre {margin: 0.2em;color: black;border-radius: 0.25em;background-color: #f0f8ff;}#sk-container-id-3 input.sk-toggleable__control:checked~div.sk-toggleable__content {max-height: 200px;max-width: 100%;overflow: auto;}#sk-container-id-3 input.sk-toggleable__control:checked~label.sk-toggleable__label-arrow:before {content: \"▾\";}#sk-container-id-3 div.sk-estimator input.sk-toggleable__control:checked~label.sk-toggleable__label {background-color: #d4ebff;}#sk-container-id-3 div.sk-label input.sk-toggleable__control:checked~label.sk-toggleable__label {background-color: #d4ebff;}#sk-container-id-3 input.sk-hidden--visually {border: 0;clip: rect(1px 1px 1px 1px);clip: rect(1px, 1px, 1px, 1px);height: 1px;margin: -1px;overflow: hidden;padding: 0;position: absolute;width: 1px;}#sk-container-id-3 div.sk-estimator {font-family: monospace;background-color: #f0f8ff;border: 1px dotted black;border-radius: 0.25em;box-sizing: border-box;margin-bottom: 0.5em;}#sk-container-id-3 div.sk-estimator:hover {background-color: #d4ebff;}#sk-container-id-3 div.sk-parallel-item::after {content: \"\";width: 100%;border-bottom: 1px solid gray;flex-grow: 1;}#sk-container-id-3 div.sk-label:hover label.sk-toggleable__label {background-color: #d4ebff;}#sk-container-id-3 div.sk-serial::before {content: \"\";position: absolute;border-left: 1px solid gray;box-sizing: border-box;top: 0;bottom: 0;left: 50%;z-index: 0;}#sk-container-id-3 div.sk-serial {display: flex;flex-direction: column;align-items: center;background-color: white;padding-right: 0.2em;padding-left: 0.2em;position: relative;}#sk-container-id-3 div.sk-item {position: relative;z-index: 1;}#sk-container-id-3 div.sk-parallel {display: flex;align-items: stretch;justify-content: center;background-color: white;position: relative;}#sk-container-id-3 div.sk-item::before, #sk-container-id-3 div.sk-parallel-item::before {content: \"\";position: absolute;border-left: 1px solid gray;box-sizing: border-box;top: 0;bottom: 0;left: 50%;z-index: -1;}#sk-container-id-3 div.sk-parallel-item {display: flex;flex-direction: column;z-index: 1;position: relative;background-color: white;}#sk-container-id-3 div.sk-parallel-item:first-child::after {align-self: flex-end;width: 50%;}#sk-container-id-3 div.sk-parallel-item:last-child::after {align-self: flex-start;width: 50%;}#sk-container-id-3 div.sk-parallel-item:only-child::after {width: 0;}#sk-container-id-3 div.sk-dashed-wrapped {border: 1px dashed gray;margin: 0 0.4em 0.5em 0.4em;box-sizing: border-box;padding-bottom: 0.4em;background-color: white;}#sk-container-id-3 div.sk-label label {font-family: monospace;font-weight: bold;display: inline-block;line-height: 1.2em;}#sk-container-id-3 div.sk-label-container {text-align: center;}#sk-container-id-3 div.sk-container {/* jupyter's `normalize.less` sets `[hidden] { display: none; }` but bootstrap.min.css set `[hidden] { display: none !important; }` so we also need the `!important` here to be able to override the default hidden behavior on the sphinx rendered scikit-learn.org. See: https://github.com/scikit-learn/scikit-learn/issues/21755 */display: inline-block !important;position: relative;}#sk-container-id-3 div.sk-text-repr-fallback {display: none;}</style><div id=\"sk-container-id-3\" class=\"sk-top-container\"><div class=\"sk-text-repr-fallback\"><pre>LinearRegression()</pre><b>In a Jupyter environment, please rerun this cell to show the HTML representation or trust the notebook. <br />On GitHub, the HTML representation is unable to render, please try loading this page with nbviewer.org.</b></div><div class=\"sk-container\" hidden><div class=\"sk-item\"><div class=\"sk-estimator sk-toggleable\"><input class=\"sk-toggleable__control sk-hidden--visually\" id=\"sk-estimator-id-3\" type=\"checkbox\" checked><label for=\"sk-estimator-id-3\" class=\"sk-toggleable__label sk-toggleable__label-arrow\">LinearRegression</label><div class=\"sk-toggleable__content\"><pre>LinearRegression()</pre></div></div></div></div></div>"
      ],
      "text/plain": [
       "LinearRegression()"
      ]
     },
     "execution_count": 82,
     "metadata": {},
     "output_type": "execute_result"
    }
   ],
   "source": [
    "polymodel2 = LinearRegression()\n",
    "polymodel2.fit(x_poly2, y)"
   ]
  },
  {
   "cell_type": "code",
   "execution_count": 53,
   "id": "eb31db49",
   "metadata": {},
   "outputs": [
    {
     "data": {
      "text/plain": [
       "56.90009970211294"
      ]
     },
     "execution_count": 53,
     "metadata": {},
     "output_type": "execute_result"
    }
   ],
   "source": [
    "polymodel2.intercept_"
   ]
  },
  {
   "cell_type": "code",
   "execution_count": 54,
   "id": "0e799b15",
   "metadata": {},
   "outputs": [
    {
     "data": {
      "text/plain": [
       "array([-0.46618963,  0.00123054])"
      ]
     },
     "execution_count": 54,
     "metadata": {},
     "output_type": "execute_result"
    }
   ],
   "source": [
    "polymodel2.coef_"
   ]
  },
  {
   "cell_type": "code",
   "execution_count": 55,
   "id": "c3b04621",
   "metadata": {},
   "outputs": [],
   "source": [
    "y_poly_pred2 = polymodel2.predict(x_poly2)"
   ]
  },
  {
   "cell_type": "code",
   "execution_count": 56,
   "id": "9fc4e4ac",
   "metadata": {
    "scrolled": true
   },
   "outputs": [
    {
     "data": {
      "image/png": "[encoded data removed]",
      "text/plain": [
       "<Figure size 640x480 with 1 Axes>"
      ]
     },
     "metadata": {},
     "output_type": "display_data"
    }
   ],
   "source": [
    "plt.scatter(x,y, s=10)\n",
    "plt.plot(x, y_poly_pred2, color = 'm')\n",
    "plt.show()"
   ]
  },
  {
   "cell_type": "markdown",
   "id": "f76f820d",
   "metadata": {},
   "source": [
    "### Degree 3 Polynomial Model"
   ]
  },
  {
   "cell_type": "code",
   "execution_count": 57,
   "id": "42eb7890",
   "metadata": {},
   "outputs": [
    {
     "data": {
      "text/plain": [
       "array([[4.6000000e+01, 2.1160000e+03, 9.7336000e+04],\n",
       "       [4.6000000e+01, 2.1160000e+03, 9.7336000e+04],\n",
       "       [4.8000000e+01, 2.3040000e+03, 1.1059200e+05],\n",
       "       ...,\n",
       "       [2.2500000e+02, 5.0625000e+04, 1.1390625e+07],\n",
       "       [2.2500000e+02, 5.0625000e+04, 1.1390625e+07],\n",
       "       [2.3000000e+02, 5.2900000e+04, 1.2167000e+07]])"
      ]
     },
     "execution_count": 57,
     "metadata": {},
     "output_type": "execute_result"
    }
   ],
   "source": [
    "polynomial_features3 = PolynomialFeatures(degree = 3, include_bias = False)\n",
    "x_poly3 = polynomial_features3.fit_transform(x)\n",
    "x_poly3"
   ]
  },
  {
   "cell_type": "code",
   "execution_count": 58,
   "id": "33562e4e",
   "metadata": {},
   "outputs": [],
   "source": [
    "polymodel3 = LinearRegression()\n",
    "polymodel3.fit(x_poly3, y)\n",
    "y_poly_pred3 = polymodel3.predict(x_poly3)"
   ]
  },
  {
   "cell_type": "code",
   "execution_count": 59,
   "id": "a864a8b9",
   "metadata": {},
   "outputs": [
    {
     "data": {
      "image/png": "[encoded data removed]",
      "text/plain": [
       "<Figure size 640x480 with 1 Axes>"
      ]
     },
     "metadata": {},
     "output_type": "display_data"
    }
   ],
   "source": [
    "plt.scatter(x,y, s=10)\n",
    "plt.plot(x, y_poly_pred3, color = 'm')\n",
    "plt.show()"
   ]
  },
  {
   "cell_type": "markdown",
   "id": "61455918",
   "metadata": {},
   "source": [
    "### Degree 4 Polynomial Model"
   ]
  },
  {
   "cell_type": "code",
   "execution_count": 60,
   "id": "1a5d1548",
   "metadata": {},
   "outputs": [
    {
     "data": {
      "text/plain": [
       "array([[4.60000000e+01, 2.11600000e+03, 9.73360000e+04, 4.47745600e+06],\n",
       "       [4.60000000e+01, 2.11600000e+03, 9.73360000e+04, 4.47745600e+06],\n",
       "       [4.80000000e+01, 2.30400000e+03, 1.10592000e+05, 5.30841600e+06],\n",
       "       ...,\n",
       "       [2.25000000e+02, 5.06250000e+04, 1.13906250e+07, 2.56289062e+09],\n",
       "       [2.25000000e+02, 5.06250000e+04, 1.13906250e+07, 2.56289062e+09],\n",
       "       [2.30000000e+02, 5.29000000e+04, 1.21670000e+07, 2.79841000e+09]])"
      ]
     },
     "execution_count": 60,
     "metadata": {},
     "output_type": "execute_result"
    }
   ],
   "source": [
    "polynomial_features4 = PolynomialFeatures(degree = 4, include_bias = False)\n",
    "x_poly4 = polynomial_features4.fit_transform(x)\n",
    "x_poly4"
   ]
  },
  {
   "cell_type": "code",
   "execution_count": 61,
   "id": "05f025b5",
   "metadata": {},
   "outputs": [],
   "source": [
    "polymodel4 = LinearRegression()\n",
    "polymodel4.fit(x_poly4, y)\n",
    "y_poly_pred4 = polymodel4.predict(x_poly4)"
   ]
  },
  {
   "cell_type": "code",
   "execution_count": 62,
   "id": "1bfd5e34",
   "metadata": {},
   "outputs": [
    {
     "data": {
      "image/png": "[encoded data removed]",
      "text/plain": [
       "<Figure size 640x480 with 1 Axes>"
      ]
     },
     "metadata": {},
     "output_type": "display_data"
    }
   ],
   "source": [
    "plt.scatter(x,y, s=10)\n",
    "plt.plot(x, y_poly_pred4, color = 'm')\n",
    "plt.show()"
   ]
  },
  {
   "cell_type": "markdown",
   "id": "48611f71",
   "metadata": {},
   "source": [
    "### Degree 10 Polynomial Model"
   ]
  },
  {
   "cell_type": "code",
   "execution_count": 63,
   "id": "07001a6b",
   "metadata": {},
   "outputs": [
    {
     "data": {
      "text/plain": [
       "array([[4.60000000e+01, 2.11600000e+03, 9.73360000e+04, ...,\n",
       "        2.00476122e+13, 9.22190163e+14, 4.24207475e+16],\n",
       "       [4.60000000e+01, 2.11600000e+03, 9.73360000e+04, ...,\n",
       "        2.00476122e+13, 9.22190163e+14, 4.24207475e+16],\n",
       "       [4.80000000e+01, 2.30400000e+03, 1.10592000e+05, ...,\n",
       "        2.81792804e+13, 1.35260546e+15, 6.49250621e+16],\n",
       "       ...,\n",
       "       [2.25000000e+02, 5.06250000e+04, 1.13906250e+07, ...,\n",
       "        6.56840836e+18, 1.47789188e+21, 3.32525673e+23],\n",
       "       [2.25000000e+02, 5.06250000e+04, 1.13906250e+07, ...,\n",
       "        6.56840836e+18, 1.47789188e+21, 3.32525673e+23],\n",
       "       [2.30000000e+02, 5.29000000e+04, 1.21670000e+07, ...,\n",
       "        7.83109853e+18, 1.80115266e+21, 4.14265112e+23]])"
      ]
     },
     "execution_count": 63,
     "metadata": {},
     "output_type": "execute_result"
    }
   ],
   "source": [
    "polynomial_features10 = PolynomialFeatures(degree = 10, include_bias = False)\n",
    "x_poly10 = polynomial_features10.fit_transform(x)\n",
    "x_poly10"
   ]
  },
  {
   "cell_type": "code",
   "execution_count": 64,
   "id": "35d5bf7c",
   "metadata": {},
   "outputs": [],
   "source": [
    "polymodel10 = LinearRegression()\n",
    "polymodel10.fit(x_poly10, y)\n",
    "y_poly_pred10 = polymodel10.predict(x_poly10)"
   ]
  },
  {
   "cell_type": "code",
   "execution_count": 65,
   "id": "9d7fbcac",
   "metadata": {
    "scrolled": true
   },
   "outputs": [
    {
     "data": {
      "image/png": "[encoded data removed]",
      "text/plain": [
       "<Figure size 640x480 with 1 Axes>"
      ]
     },
     "metadata": {},
     "output_type": "display_data"
    }
   ],
   "source": [
    "plt.scatter(x,y, s=10)\n",
    "plt.plot(x, y_poly_pred10, color = 'm')\n",
    "plt.show()"
   ]
  },
  {
   "cell_type": "markdown",
   "id": "1589f9d9",
   "metadata": {},
   "source": [
    "### Building Model"
   ]
  },
  {
   "cell_type": "code",
   "execution_count": 66,
   "id": "db0702ea",
   "metadata": {},
   "outputs": [],
   "source": [
    "x_train, x_test, y_train, y_test = train_test_split(x, y, test_size=0.2, random_state=10)"
   ]
  },
  {
   "cell_type": "markdown",
   "id": "2e291887",
   "metadata": {},
   "source": [
    "#### Degree 2"
   ]
  },
  {
   "cell_type": "code",
   "execution_count": 67,
   "id": "5665ad8c",
   "metadata": {},
   "outputs": [],
   "source": [
    "x_poly_train2 = polynomial_features2.fit_transform(x_train)\n",
    "x_poly_test2 =  polynomial_features2.fit_transform(x_test)"
   ]
  },
  {
   "cell_type": "code",
   "execution_count": 68,
   "id": "b1ac93f1",
   "metadata": {},
   "outputs": [],
   "source": [
    "polymodel2 = LinearRegression()\n",
    "polymodel2.fit(x_poly_train2, y_train)\n",
    "y_poly_pred2 = polymodel2.predict(x_poly_test2)"
   ]
  },
  {
   "cell_type": "code",
   "execution_count": 69,
   "id": "2f1f2416",
   "metadata": {},
   "outputs": [],
   "source": [
    "from sklearn.metrics import mean_squared_error, r2_score"
   ]
  },
  {
   "cell_type": "code",
   "execution_count": 70,
   "id": "20f762da",
   "metadata": {},
   "outputs": [],
   "source": [
    "MSE = mean_squared_error(y_test, y_poly_pred2)\n",
    "R2 = r2_score(y_test, y_poly_pred2)"
   ]
  },
  {
   "cell_type": "code",
   "execution_count": 71,
   "id": "5722fcca",
   "metadata": {},
   "outputs": [
    {
     "name": "stdout",
     "output_type": "stream",
     "text": [
      "MSE:  24.973787348905052\n",
      "R^2 Score:  0.5760706964831854\n"
     ]
    }
   ],
   "source": [
    "print(\"MSE: \", MSE)\n",
    "print(\"R^2 Score: \", R2)"
   ]
  },
  {
   "cell_type": "markdown",
   "id": "3bc84951",
   "metadata": {},
   "source": [
    "#### Degree 3"
   ]
  },
  {
   "cell_type": "code",
   "execution_count": 72,
   "id": "246b0ba2",
   "metadata": {},
   "outputs": [],
   "source": [
    "x_poly_train3 = polynomial_features3.fit_transform(x_train)\n",
    "x_poly_test3 =  polynomial_features3.fit_transform(x_test)"
   ]
  },
  {
   "cell_type": "code",
   "execution_count": 73,
   "id": "2be4cc71",
   "metadata": {},
   "outputs": [],
   "source": [
    "polymodel3 = LinearRegression()\n",
    "polymodel3.fit(x_poly_train3, y_train)\n",
    "y_poly_pred3 = polymodel3.predict(x_poly_test3)"
   ]
  },
  {
   "cell_type": "code",
   "execution_count": 74,
   "id": "e51bec13",
   "metadata": {},
   "outputs": [
    {
     "name": "stdout",
     "output_type": "stream",
     "text": [
      "MSE:  26.380144354939873\n",
      "R^2 Score:  0.552197827793508\n"
     ]
    }
   ],
   "source": [
    "MSE = mean_squared_error(y_test, y_poly_pred3)\n",
    "R2 = r2_score(y_test, y_poly_pred3)\n",
    "\n",
    "print(\"MSE: \", MSE)\n",
    "print(\"R^2 Score: \", R2)"
   ]
  },
  {
   "cell_type": "markdown",
   "id": "fae1e651",
   "metadata": {},
   "source": [
    "#### Degree 4"
   ]
  },
  {
   "cell_type": "code",
   "execution_count": 75,
   "id": "82023420",
   "metadata": {},
   "outputs": [],
   "source": [
    "x_poly_train4 = polynomial_features4.fit_transform(x_train)\n",
    "x_poly_test4 =  polynomial_features4.fit_transform(x_test)"
   ]
  },
  {
   "cell_type": "code",
   "execution_count": 76,
   "id": "9c5a61c1",
   "metadata": {},
   "outputs": [],
   "source": [
    "polymodel4 = LinearRegression()\n",
    "polymodel4.fit(x_poly_train4, y_train)\n",
    "y_poly_pred4 = polymodel4.predict(x_poly_test4)"
   ]
  },
  {
   "cell_type": "code",
   "execution_count": 77,
   "id": "5f3676aa",
   "metadata": {},
   "outputs": [
    {
     "name": "stdout",
     "output_type": "stream",
     "text": [
      "MSE:  26.29535087544766\n",
      "R^2 Score:  0.5536371946064667\n"
     ]
    }
   ],
   "source": [
    "MSE = mean_squared_error(y_test, y_poly_pred4)\n",
    "R2 = r2_score(y_test, y_poly_pred4)\n",
    "\n",
    "print(\"MSE: \", MSE)\n",
    "print(\"R^2 Score: \", R2)"
   ]
  },
  {
   "cell_type": "markdown",
   "id": "744b8790",
   "metadata": {},
   "source": [
    "#### Degree 10"
   ]
  },
  {
   "cell_type": "code",
   "execution_count": 78,
   "id": "24f32729",
   "metadata": {},
   "outputs": [],
   "source": [
    "x_poly_train10 = polynomial_features10.fit_transform(x_train)\n",
    "x_poly_test10 =  polynomial_features10.fit_transform(x_test)"
   ]
  },
  {
   "cell_type": "code",
   "execution_count": 79,
   "id": "9b7d6d71",
   "metadata": {},
   "outputs": [],
   "source": [
    "polymodel10 = LinearRegression()\n",
    "polymodel10.fit(x_poly_train10, y_train)\n",
    "y_poly_pred10 = polymodel10.predict(x_poly_test10)"
   ]
  },
  {
   "cell_type": "code",
   "execution_count": 80,
   "id": "64fb7f76",
   "metadata": {},
   "outputs": [
    {
     "name": "stdout",
     "output_type": "stream",
     "text": [
      "MSE:  26.176559244565293\n",
      "R^2 Score:  0.5556536790363222\n"
     ]
    }
   ],
   "source": [
    "MSE = mean_squared_error(y_test, y_poly_pred10)\n",
    "R2 = r2_score(y_test, y_poly_pred10)\n",
    "\n",
    "print(\"MSE: \", MSE)\n",
    "print(\"R^2 Score: \", R2)"
   ]
  },
  {
   "cell_type": "markdown",
   "id": "8e272797",
   "metadata": {},
   "source": [
    "________________________________________________________________________________________________________________________________"
   ]
  }
 ],
 "metadata": {
  "kernelspec": {
   "display_name": "Python 3 (ipykernel)",
   "language": "python",
   "name": "python3"
  },
  "language_info": {
   "codemirror_mode": {
    "name": "ipython",
    "version": 3
   },
   "file_extension": ".py",
   "mimetype": "text/x-python",
   "name": "python",
   "nbconvert_exporter": "python",
   "pygments_lexer": "ipython3",
   "version": "3.11.5"
  }
 },
 "nbformat": 4,
 "nbformat_minor": 5
}
