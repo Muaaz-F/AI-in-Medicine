{
 "cells": [
  {
   "cell_type": "markdown",
   "id": "opponent-tuning",
   "metadata": {},
   "source": [
    "## DICOM in Python\n",
    "In this notebook you will learn how to handle DICOM files in python.<br />\n",
    "To fulfill this task we use a subset of CT images from the Cancer Imaging Archive TCIA (1, 2)<br />(https://www.kaggle.com/kmader/siim-medical-images) containing single CT slices.<br />\n",
    "We already provide a sample file in this folder\n",
    "\n",
    "If you want to download the data, log in to kaggle, navigate to this page: https://www.kaggle.com/kmader/siim-medical-images?select=dicom_dir and click on download\n"
   ]
  },
  {
   "cell_type": "markdown",
   "id": "fifty-simple",
   "metadata": {},
   "source": [
    "#### Imports\n",
    "* pathlib for easy path handling\n",
    "* pydicom to handle dicom files\n",
    "* matplotlib for visualization\n",
    "* numpy to create the 3D container"
   ]
  },
  {
   "cell_type": "code",
   "execution_count": 2,
   "id": "stylish-journey",
   "metadata": {},
   "outputs": [],
   "source": [
    "from pathlib import Path\n",
    "\n",
    "import pydicom \n",
    "import matplotlib.pyplot as plt\n",
    "import numpy as np"
   ]
  },
  {
   "cell_type": "markdown",
   "id": "secret-michael",
   "metadata": {},
   "source": [
    "At first we try to read a single dcm file <br />\n",
    "To this end we use the **read_file(path)** function provided by pydicom"
   ]
  },
  {
   "cell_type": "code",
   "execution_count": 3,
   "id": "aerial-spelling",
   "metadata": {},
   "outputs": [],
   "source": [
    "sample_dcm = \"ID_0000_AGE_0060_CONTRAST_1_CT.dcm\"\n",
    "dicom_file = pydicom.read_file(sample_dcm)  # read single dicom file"
   ]
  },
  {
   "cell_type": "markdown",
   "id": "simple-duncan",
   "metadata": {},
   "source": [
    "Let's take a look what this file contains. <br />\n",
    "You can *print* the dicom file to get a bulk of information, containing e.g the company which built the scanner (SIEMENS in this case), the shape of the image (*Rows, Columns*, 512x512 in this case), table height all information about the patient (of course the personal information is anonymized here), and of large importance, the **image orientation**\n",
    "\n",
    "Feel free to scroll through the available information"
   ]
  },
  {
   "cell_type": "code",
   "execution_count": null,
   "id": "final-syntax",
   "metadata": {},
   "outputs": [],
   "source": [
    "print(dicom_file)"
   ]
  },
  {
   "cell_type": "markdown",
   "id": "modified-weight",
   "metadata": {},
   "source": [
    "Accessing DICOM **header** information:\n",
    "You can access the dicom tags by using the hexadecimal encoded identifiers at the start of each line.\n",
    "As an example, if you want to get the shape of the image you can use those two identifiers\n",
    "\n",
    "* (0028, 0010) Rows\n",
    "* (0028, 0011) Columns\n",
    "* (0018, 0015) Body Part Examined\n",
    "\n",
    "The 0x in front of the identifier tells the python interpreter that it should interpret this value as hexadecimal"
   ]
  },
  {
   "cell_type": "code",
   "execution_count": null,
   "id": "affecting-lodge",
   "metadata": {},
   "outputs": [],
   "source": [
    "print(dicom_file[0x0028, 0x0010])\n",
    "print(dicom_file[0x0028, 0x0011])\n",
    "print(dicom_file[0x0018, 0x0015])"
   ]
  },
  {
   "cell_type": "markdown",
   "id": "korean-keeping",
   "metadata": {},
   "source": [
    "There is an alternative, more direct way to access the values of the DICOM header tags using the tag descriptions\n",
    "    <br /> Please note the lettering: 'Body Part Examined' becomes 'BodyPartExamined' (so-called Pascal Case):"
   ]
  },
  {
   "cell_type": "code",
   "execution_count": null,
   "id": "worth-greenhouse",
   "metadata": {},
   "outputs": [],
   "source": [
    "print('Rows: ', dicom_file.Rows)\n",
    "print('Columns: ', dicom_file.Columns)\n",
    "print('Body Part Examined: ', dicom_file.BodyPartExamined)"
   ]
  },
  {
   "cell_type": "markdown",
   "id": "adjustable-praise",
   "metadata": {},
   "source": [
    "Accessing DICOM **body** information (the actual image):\n",
    "\n",
    "The **pixel_array** contains the actual image data:"
   ]
  },
  {
   "cell_type": "code",
   "execution_count": null,
   "id": "atmospheric-marijuana",
   "metadata": {
    "scrolled": true
   },
   "outputs": [],
   "source": [
    "ct = dicom_file.pixel_array # load the image pixel data as a numpy array\n",
    "plt.figure()\n",
    "plt.imshow(ct, cmap=\"gray\")"
   ]
  },
  {
   "cell_type": "markdown",
   "id": "stuck-forward",
   "metadata": {},
   "source": [
    "We can perform a quick sanity check and make sure that the image shape corresponds to the Rows and Columns we saw earlier in the header information (512x512)"
   ]
  },
  {
   "cell_type": "code",
   "execution_count": null,
   "id": "fitted-monitoring",
   "metadata": {},
   "outputs": [],
   "source": [
    "print(ct.shape)"
   ]
  },
  {
   "cell_type": "markdown",
   "id": "urban-clinic",
   "metadata": {},
   "source": [
    "## 3D Data\n",
    "In this section we will take a look at a full head MRI scan, so that you learn how to handle 3D Data stored as multiple 2D DICOM files.\n",
    "\n",
    "The data is taken from here (https://zenodo.org/record/16956#.YFMM5PtKiV5) (3) and again provided in this directory\n",
    "<br />\n",
    "You can download it directly from the link by clicking the download button next to the preview button.<br />\n",
    "Again we unzip the directory after obtaining it.\n",
    "\n",
    "Typically there is one file for each slice, thus we need to read all files and append the slices to a list\n"
   ]
  },
  {
   "cell_type": "code",
   "execution_count": 12,
   "id": "golden-provision",
   "metadata": {},
   "outputs": [],
   "source": [
    "path_to_head_mri = Path(\"SE000001\")"
   ]
  },
  {
   "cell_type": "markdown",
   "id": "liberal-heating",
   "metadata": {},
   "source": [
    "We can use the glob function to return all items in a directory which correspond to the provided pattern. <br />\n",
    "As in this case, the directory only contains the DICOM files, we can return all files in it (\"*\")"
   ]
  },
  {
   "cell_type": "code",
   "execution_count": 13,
   "id": "chronic-profession",
   "metadata": {},
   "outputs": [],
   "source": [
    "all_files = list(path_to_head_mri.glob(\"*\"))  # as glob returns a generator, we convert it to a list"
   ]
  },
  {
   "cell_type": "code",
   "execution_count": null,
   "id": "partial-trading",
   "metadata": {},
   "outputs": [],
   "source": [
    "all_files  # make sure that all files are present in the list"
   ]
  },
  {
   "cell_type": "markdown",
   "id": "verbal-scroll",
   "metadata": {},
   "source": [
    "Now we will read these files by using the read_file method and append them to a list"
   ]
  },
  {
   "cell_type": "code",
   "execution_count": null,
   "id": "respected-nicholas",
   "metadata": {},
   "outputs": [],
   "source": [
    "mri_data = []\n",
    "\n",
    "for path in all_files:\n",
    "    data = pydicom.read_file(path) # read the single DICOM files\n",
    "    mri_data.append(data)\n",
    "print(len(mri_data))"
   ]
  },
  {
   "cell_type": "code",
   "execution_count": null,
   "id": "09205194",
   "metadata": {},
   "outputs": [],
   "source": [
    "type(mri_data)"
   ]
  },
  {
   "cell_type": "markdown",
   "id": "better-stockholm",
   "metadata": {},
   "source": [
    "As you can see from the printed paths above, it is possible that the DICOM files are not ordered according to their actual image position! <br />\n",
    "This can be verified by inspecting the SliceLocation"
   ]
  },
  {
   "cell_type": "code",
   "execution_count": null,
   "id": "talented-coordination",
   "metadata": {},
   "outputs": [],
   "source": [
    "### unordered slices ###\n",
    "for slice in mri_data[:5]: # just show the first 5 slices\n",
    "    print(slice.SliceLocation) # this is the location of the within the scanner coordinate system"
   ]
  },
  {
   "cell_type": "markdown",
   "id": "cee5206a",
   "metadata": {},
   "source": [
    "It crucial to order them, as otherwise your complete scan would be shuffeled and useless\n",
    "\n",
    "We can use the \"SliceLocation\" attribute passed to the *sorted* function to identify the 2D slice position and thus order the slices"
   ]
  },
  {
   "cell_type": "code",
   "execution_count": 38,
   "id": "equivalent-tobago",
   "metadata": {},
   "outputs": [],
   "source": [
    "# This sorts the slices according to their location\n",
    "mri_data_ordered = sorted(mri_data, key=lambda slice: slice.SliceLocation) "
   ]
  },
  {
   "cell_type": "code",
   "execution_count": null,
   "id": "76c0e3ce-6417-46ea-9ad3-01699b02f28d",
   "metadata": {},
   "outputs": [],
   "source": [
    "### Ordered slices ###\n",
    "for slice in mri_data_ordered[:5]:\n",
    "    print(slice.SliceLocation)"
   ]
  },
  {
   "cell_type": "markdown",
   "id": "bright-wheat",
   "metadata": {},
   "source": [
    "Now we extract the actual data (pixel_arrays) from the DICOM files and store them in a list"
   ]
  },
  {
   "cell_type": "code",
   "execution_count": 66,
   "id": "cardiovascular-edward",
   "metadata": {},
   "outputs": [],
   "source": [
    "full_volume = []\n",
    "for slice in mri_data_ordered:\n",
    "    full_volume.append(slice.pixel_array) # fill the 3D array in a slice-per-slice manner"
   ]
  },
  {
   "cell_type": "code",
   "execution_count": null,
   "id": "af00ea97-606a-482f-a785-4bfc4dc4da37",
   "metadata": {},
   "outputs": [],
   "source": [
    "full_volume[1,:]"
   ]
  },
  {
   "cell_type": "markdown",
   "id": "38ca376f-0075-4992-951c-7d49dfe65885",
   "metadata": {},
   "source": [
    "Can we use `shape` function to get the size of `full_volume`? try below"
   ]
  },
  {
   "cell_type": "code",
   "execution_count": null,
   "id": "be218d5f-dd15-4e9c-8df5-6d282e62b0be",
   "metadata": {},
   "outputs": [],
   "source": []
  },
  {
   "cell_type": "code",
   "execution_count": null,
   "id": "77a512dd-24ce-444a-a08a-fd01be1a0137",
   "metadata": {},
   "outputs": [],
   "source": [
    "print(type(full_volume))"
   ]
  },
  {
   "cell_type": "code",
   "execution_count": null,
   "id": "4ead73f1-d21d-4aa0-8c2e-0e9752c6f0e1",
   "metadata": {},
   "outputs": [],
   "source": [
    "full_volume = np.array(full_volume)\n",
    "print(full_volume.shape)\n",
    "print(full_volume.dtype)"
   ]
  },
  {
   "cell_type": "markdown",
   "id": "desirable-nepal",
   "metadata": {},
   "source": [
    "And now we can take a look at some slices of the ordered 3D volume:"
   ]
  },
  {
   "cell_type": "code",
   "execution_count": null,
   "id": "recent-prison",
   "metadata": {},
   "outputs": [],
   "source": [
    "fig, axis = plt.subplots(3, 3, figsize=(10, 10))\n",
    "\n",
    "slice_counter = 0\n",
    "for i in range(3):\n",
    "    for j in range(3):\n",
    "        axis[i][j].imshow(full_volume[slice_counter], cmap=\"gray\")\n",
    "        slice_counter+=1"
   ]
  },
  {
   "cell_type": "markdown",
   "id": "21efe300-31a5-4819-baf1-0fff219609f7",
   "metadata": {},
   "source": [
    "Can you show all 27? (5 by 6 subplot) - also just show only images without any axis ticks and numbers next to axes. Additionally, the pannels must be as big as possible.\n",
    "\n",
    "***Hint: You need to use `IF` Statement***"
   ]
  },
  {
   "cell_type": "code",
   "execution_count": null,
   "id": "ccf94a20-4d5e-4472-98a4-e03e52e512bf",
   "metadata": {},
   "outputs": [],
   "source": []
  },
  {
   "cell_type": "markdown",
   "id": "neural-origin",
   "metadata": {},
   "source": [
    "We now have a way to handle 2D and 3D data stored in the DICOM format\n",
    "\n",
    "But (as you will have noticed), manual file reading and ordering seems kind of tedious, it would be great if there was a tool which handles this for us.\n",
    "\n",
    "There is, and its name is SimpleITK https://pypi.org/project/SimpleITK/\n",
    "\n",
    "SimpleITK provides functionality to automatically detect and read all dicom files without you managing the file reading or slice ordering\n",
    "\n",
    "The overall routine is always identical\n",
    "\n",
    "1. Get Series Ids of all files in the directory. This is important as there also might be multiple scans in the same directory and we do not want to mix them. *ImageSeriesReader.GetGDCMSeriesIDs(path)* handles this and returns all Ids it can find\n",
    "2. Then we return all file names in the directory which have our desired Id *ImageSeriesReader.GetGDCMSeriesFileNames(path, ID)* provides this functionality\n",
    "3. We then define the image reader called *ImageSeriesReader()* and feed it the file names using *SetFileNames(file_names)*\n",
    "4. Finally we execute the reader in order to get our desired data by calling *Execute()*\n",
    "\n",
    "Let's go:<br />\n",
    "At first we import the necessary libraries:"
   ]
  },
  {
   "cell_type": "markdown",
   "id": "junior-going",
   "metadata": {},
   "source": [
    "#### Imports\n",
    "* SimpleITK to read 3D volumes in dcm format"
   ]
  },
  {
   "cell_type": "code",
   "execution_count": 74,
   "id": "inappropriate-diving",
   "metadata": {},
   "outputs": [],
   "source": [
    "import SimpleITK as sitk"
   ]
  },
  {
   "cell_type": "code",
   "execution_count": null,
   "id": "binary-optimum",
   "metadata": {},
   "outputs": [],
   "source": [
    "series_ids = sitk.ImageSeriesReader.GetGDCMSeriesIDs(str(path_to_head_mri))\n",
    "print(series_ids)"
   ]
  },
  {
   "cell_type": "code",
   "execution_count": null,
   "id": "distinguished-carnival",
   "metadata": {},
   "outputs": [],
   "source": [
    "series_file_names = sitk.ImageSeriesReader.GetGDCMSeriesFileNames(str(path_to_head_mri), series_ids[0])\n",
    "series_file_names  # Notice how the files are already ordered"
   ]
  },
  {
   "cell_type": "code",
   "execution_count": 78,
   "id": "modified-corner",
   "metadata": {},
   "outputs": [],
   "source": [
    "series_reader = sitk.ImageSeriesReader()\n",
    "series_reader.SetFileNames(series_file_names)"
   ]
  },
  {
   "cell_type": "code",
   "execution_count": 79,
   "id": "widespread-corporation",
   "metadata": {},
   "outputs": [],
   "source": [
    "image_data = series_reader.Execute()"
   ]
  },
  {
   "cell_type": "code",
   "execution_count": null,
   "id": "pointed-seeker",
   "metadata": {},
   "outputs": [],
   "source": [
    "print(image_data.GetSize()) # show the size of the 3D image array"
   ]
  },
  {
   "cell_type": "markdown",
   "id": "studied-dietary",
   "metadata": {},
   "source": [
    "### This is all you have to do, to get your full volumetric data\n",
    "As you can see, the shape is (256, 256, 27), whereas above the shape was (27, 256, 256). \n",
    "This is just due to a different order of image dimensions. <br />\n",
    "\n",
    "The final step we have to perform is the conversion of the sitk image object to a numpy array. This can be done by calling *GetArrayFromImage(image_data)*"
   ]
  },
  {
   "cell_type": "code",
   "execution_count": null,
   "id": "electoral-norway",
   "metadata": {},
   "outputs": [],
   "source": [
    "head_mri = sitk.GetArrayFromImage(image_data)\n",
    "print(type(head_mri))\n",
    "print(head_mri.shape)"
   ]
  },
  {
   "cell_type": "markdown",
   "id": "capable-heather",
   "metadata": {},
   "source": [
    "As you can see, it also directly moved the slice channel to the front - Great!\n",
    "Now we can take a look at our images and as you can see the result is identical to the one above!"
   ]
  },
  {
   "cell_type": "code",
   "execution_count": null,
   "id": "compact-april",
   "metadata": {},
   "outputs": [],
   "source": [
    "fig, axis = plt.subplots(3, 3, figsize=(10, 10))\n",
    "\n",
    "slice_counter = 0\n",
    "for i in range(3):\n",
    "    for j in range(3):\n",
    "        axis[i][j].imshow(head_mri[slice_counter], cmap=\"gray\")\n",
    "        slice_counter+=1"
   ]
  },
  {
   "cell_type": "markdown",
   "id": "polished-ending",
   "metadata": {},
   "source": [
    "You now have all the tools to work with files stored in the DICOM format"
   ]
  },
  {
   "cell_type": "markdown",
   "id": "e7c4199e-2fc5-4841-b511-53331ff5adf2",
   "metadata": {},
   "source": [
    "------"
   ]
  }
 ],
 "metadata": {
  "kernelspec": {
   "display_name": "Python 3 (ipykernel)",
   "language": "python",
   "name": "python3"
  },
  "language_info": {
   "codemirror_mode": {
    "name": "ipython",
    "version": 3
   },
   "file_extension": ".py",
   "mimetype": "text/x-python",
   "name": "python",
   "nbconvert_exporter": "python",
   "pygments_lexer": "ipython3",
   "version": "3.8.0"
  }
 },
 "nbformat": 4,
 "nbformat_minor": 5
}
