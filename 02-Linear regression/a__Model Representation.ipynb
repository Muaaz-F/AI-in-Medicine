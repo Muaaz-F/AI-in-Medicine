{
 "cells": [
  {
   "cell_type": "markdown",
   "id": "34cb4ed5",
   "metadata": {},
   "source": [
    "# Model Representation"
   ]
  },
  {
   "cell_type": "markdown",
   "id": "52149f69-590e-4b6b-baf3-536a00872830",
   "metadata": {},
   "source": [
    "### Summary of Notation\n",
    "| $a$ | scalar, non bold                                                      ||\n",
    "<br>| $\\mathbf{a}$ | vector, bold                                                      ||\n",
    "<br>| **Regression** |         |    |     |\n",
    "<br>|  $\\mathbf{x}$ | Training Example feature values (in this lab - Size (1000 sqft))  | `x_train` |   \n",
    "<br>|  $\\mathbf{y}$  | Training Example  targets (in this lab Price (1000s of dollars)).  | `y_train` \n",
    "<br>|  $x^{(i)}$, $y^{(i)}$ | $i_{th}$Training Example | `x_i`, `y_i`|\n",
    "<br>| m | Number of training examples | `m`|\n",
    "<br>|  $w$  |  parameter: weight,                                 | `w`    |\n",
    "<br>|  $b$           |  parameter: bias                                           | `b`    |     \n",
    "<br>| $f_{w,b}(x^{(i)})$ | The result of the model evaluation at $x^{(i)}$ parameterized by $w,b$: $f_{w,b}(x^{(i)}) = wx^{(i)}+b$  | `f_wb` | \n"
   ]
  },
  {
   "cell_type": "markdown",
   "id": "b8d45936-45e9-4303-904f-97a39aba7284",
   "metadata": {},
   "source": [
    "__________"
   ]
  },
  {
   "cell_type": "markdown",
   "id": "e17caa14-fb8b-4035-b80c-a114a8f3ceb2",
   "metadata": {},
   "source": [
    "We are importing numpy and matplotlib to use in this example. We are also using the style that we like for plotting. Please take a look at \"deeplearning.mplstyle\" file and open it. We are setting linewidth, axes configurations, grid style, Xtick and Ytick specifications, and font configurations. "
   ]
  },
  {
   "cell_type": "markdown",
   "id": "bacb7726-61c0-4d78-b36b-096faf6e939e",
   "metadata": {},
   "source": [
    "https://setosa.io/ev/ordinary-least-squares-regression/"
   ]
  },
  {
   "cell_type": "code",
   "execution_count": 1,
   "id": "33c1047d",
   "metadata": {},
   "outputs": [],
   "source": [
    "import numpy as np\n",
    "import matplotlib.pyplot as plt\n",
    "plt.style.use('./deeplearning.mplstyle')"
   ]
  },
  {
   "cell_type": "markdown",
   "id": "a7316fc9",
   "metadata": {},
   "source": [
    "# Problem Statement\n",
    "\n",
    "You will use the motivating example of housing price prediction. This lab will use a simple data set with only two data points - a house with 1000 square feet(sqft) sold for \\\\$300,000 and a house with 2000 square feet sold for \\\\$500,000. These two points will constitute our *data or training set*. In this lab, the units of size are 1000 sqft and the units of price are 1000s of dollars.\n",
    "\n",
    "| Size (1000 sqft)     | Price (1000s of dollars) |\n",
    "| -------------------| ------------------------ |\n",
    "| 1.0               | 300                      |\n",
    "| 2.0               | 500                      |\n",
    "\n",
    "You would like to fit a linear regression model (shown above as the blue straight line) through these two points, so you can then predict price for other houses - say, a house with 1200 sqft.\n"
   ]
  },
  {
   "cell_type": "markdown",
   "id": "e853a532",
   "metadata": {},
   "source": [
    "Please run the following code cell to create your `x_train` and `y_train` variables. The data is stored in one-dimensional NumPy arrays.\n",
    "<br> `x_train` is the input variable (size in 1000 square feet)\n",
    "<br> `y_train` is the target (price in 1000s of dollars)"
   ]
  },
  {
   "cell_type": "code",
   "execution_count": 2,
   "id": "214876a8",
   "metadata": {},
   "outputs": [
    {
     "name": "stdout",
     "output_type": "stream",
     "text": [
      "x_train = [1. 2.]\n",
      "y_train = [300. 500.]\n"
     ]
    }
   ],
   "source": [
    "x_train = np.array([1.0, 2.0])\n",
    "y_train = np.array([300.0, 500.0])\n",
    "print(f\"x_train = {x_train}\")\n",
    "print(f\"y_train = {y_train}\")"
   ]
  },
  {
   "cell_type": "markdown",
   "id": "a5cc04de",
   "metadata": {},
   "source": [
    ">**Note**: We will frequently utilize the python 'f-string' output formatting described here (https://docs.python.org/3/tutorial/inputoutput.html) when printing. The content between the curly braces is evaluated when producing the output. It is quite simple and you just run the code without `f` and see what happens. "
   ]
  },
  {
   "cell_type": "markdown",
   "id": "16299765",
   "metadata": {},
   "source": [
    "`m` is the number of training examples. Numpy arrays have a `.shape` parameter which you are already familiar with. `x_train.shape` returns a python tuple with an entry for each dimension. `x_train.shape[0]` is the length of the array and number of examples as shown below."
   ]
  },
  {
   "cell_type": "code",
   "execution_count": 3,
   "id": "42e132cd",
   "metadata": {},
   "outputs": [
    {
     "name": "stdout",
     "output_type": "stream",
     "text": [
      "x_train.shape: (2,)\n",
      "Number of training examples is: 2\n"
     ]
    }
   ],
   "source": [
    "print(f\"x_train.shape: {x_train.shape}\")\n",
    "m = x_train.shape[0]\n",
    "print(f\"Number of training examples is: {m}\")"
   ]
  },
  {
   "cell_type": "markdown",
   "id": "543870d3",
   "metadata": {},
   "source": [
    "One can also use the Python `len()` function as shown below. `m` is the number of training examples"
   ]
  },
  {
   "cell_type": "code",
   "execution_count": 4,
   "id": "2467d1dc",
   "metadata": {},
   "outputs": [
    {
     "name": "stdout",
     "output_type": "stream",
     "text": [
      "Number of training examples is: 2\n"
     ]
    }
   ],
   "source": [
    "m = len(x_train)\n",
    "print(f\"Number of training examples is: {m}\")"
   ]
  },
  {
   "cell_type": "markdown",
   "id": "b2a5d09b-99ac-4659-8501-af733fe1b5f4",
   "metadata": {},
   "source": [
    "Use `len` function to return the number of character in a string. First, define a string using this format => `your_name = \"XXXX\"` <=, and then use `len(your_name)` to get the number of characters. Write the code below. Note that `len` is a python function and not `numpy`."
   ]
  },
  {
   "cell_type": "code",
   "execution_count": 5,
   "id": "d24109e6-278d-48b5-ac0b-c4f3c7a29aa2",
   "metadata": {},
   "outputs": [
    {
     "data": {
      "text/plain": [
       "4"
      ]
     },
     "execution_count": 5,
     "metadata": {},
     "output_type": "execute_result"
    }
   ],
   "source": [
    "your_name = 'XXXX'\n",
    "len(your_name)"
   ]
  },
  {
   "cell_type": "markdown",
   "id": "9b99bf16",
   "metadata": {
    "jp-MarkdownHeadingCollapsed": true
   },
   "source": [
    "You will use (x$^{(i)}$, y$^{(i)}$) to denote the $i^{th}$ training example. Since Python is zero indexed, (x$^{(0)}$, y$^{(0)}$) is (1.0, 300.0) and (x$^{(1)}$, y$^{(1)}$) is (2.0, 500.0). \n",
    "\n",
    "To access a value in a Numpy array, one indexes the array with the desired offset. For example the syntax to access location zero of `x_train` is `x_train[0]`.\n",
    "Run the next code block below to get the $i^{th}$ training example."
   ]
  },
  {
   "cell_type": "code",
   "execution_count": 7,
   "id": "df84edd1",
   "metadata": {},
   "outputs": [
    {
     "name": "stdout",
     "output_type": "stream",
     "text": [
      "(x^(0), y^(0)) = (1.0, 300.0)\n"
     ]
    }
   ],
   "source": [
    "i = 0\n",
    "print(f\"(x^({i}), y^({i})) = ({x_train[i]}, {y_train[i]})\")"
   ]
  },
  {
   "cell_type": "markdown",
   "id": "265a9c0e-9fa8-4ce9-87a5-c9b6ca6aa909",
   "metadata": {},
   "source": [
    "Change `i` to 1 to see (x^(1), y^(1)). Run the code below."
   ]
  },
  {
   "cell_type": "code",
   "execution_count": 8,
   "id": "857b3cbe-e00c-4aa5-aaf1-3b70d81618f7",
   "metadata": {},
   "outputs": [
    {
     "name": "stdout",
     "output_type": "stream",
     "text": [
      "(x^(1), y^(1)) = (2.0, 500.0)\n"
     ]
    }
   ],
   "source": [
    "i = 1\n",
    "print(f\"(x^({i}), y^({i})) = ({x_train[i]}, {y_train[i]})\")"
   ]
  },
  {
   "cell_type": "markdown",
   "id": "9a261f3d",
   "metadata": {},
   "source": [
    "#### Plotting the data\n",
    "You can plot these two points using the `scatter()` function in the `matplotlib` library, as shown in the cell below. The function arguments `marker` and `c` show the points as red crosses (the default is blue dots). You can use other functions in the `matplotlib` library to set the title and labels to display"
   ]
  },
  {
   "cell_type": "code",
   "execution_count": 9,
   "id": "295e1f14",
   "metadata": {},
   "outputs": [
    {
     "data": {
      "image/png": "[encoded data removed]",
      "text/plain": [
       "<Figure size 640x480 with 1 Axes>"
      ]
     },
     "metadata": {},
     "output_type": "display_data"
    }
   ],
   "source": [
    "# Plot the data points\n",
    "plt.scatter(x_train, y_train, marker='x', c='r')\n",
    "# Set the title\n",
    "plt.title(\"Housing Prices\")\n",
    "# Set the y-axis label\n",
    "plt.ylabel('Price (in 1000s of dollars)')\n",
    "# Set the x-axis label\n",
    "plt.xlabel('Size (1000 sqft)')\n",
    "plt.show()"
   ]
  },
  {
   "cell_type": "markdown",
   "id": "5426e508-fbce-4b8f-bc97-d2b0c1086dbc",
   "metadata": {},
   "source": [
    "#### Model function"
   ]
  },
  {
   "cell_type": "markdown",
   "id": "e62e67f2-954c-4729-aee9-2cb7d1202b60",
   "metadata": {},
   "source": [
    "<img align=\"left\" src=\"./images/C1_W1_L3_S1_model.png\"     style=\" width:380px; padding: 10px; \" >"
   ]
  },
  {
   "cell_type": "markdown",
   "id": "61b5831e",
   "metadata": {},
   "source": [
    "The model function for linear regression (which is a function that maps from `x` to `y` is represented as \n",
    "\n",
    "$$ f_{w,b}(x^{(i)}) = wx^{(i)} + b \\tag{1}$$\n",
    "\n",
    "The formula above is how you can represent straight lines - different values of $w$ and $b$ give you different straight lines on the plot. "
   ]
  },
  {
   "cell_type": "markdown",
   "id": "4eb811f7-db51-4a91-8264-f1c3350623b1",
   "metadata": {},
   "source": [
    "Let's try to get a better intuition for this through the code blocks below. Let's start with $w = 100$ and $b = 100$. Use `f-string` that you learned earlier to show it like this \n",
    "<br>`w: 100`\n",
    "<br>`b: 100`"
   ]
  },
  {
   "cell_type": "code",
   "execution_count": 10,
   "id": "a2542e51-007d-453f-9e4e-56b2bb07a099",
   "metadata": {},
   "outputs": [
    {
     "name": "stdout",
     "output_type": "stream",
     "text": [
      "w: 100\n",
      "b: 100\n"
     ]
    }
   ],
   "source": [
    "w = 100\n",
    "b = 100\n",
    "print(f\"w: {w}\")\n",
    "print(f\"b: {b}\")"
   ]
  },
  {
   "cell_type": "markdown",
   "id": "a57444f1-b38c-482e-a936-051b8722744d",
   "metadata": {},
   "source": [
    "Now, let's compute the value of $f_{w,b}(x^{(i)})$ for your two data points. You can explicitly write this out for each data point as \n",
    "<br> for $x^{(0)}$, `f_wb = w * x[0] + b`\n",
    "<br> for $x^{(1)}$, `f_wb = w * x[1] + b`\n",
    "<br> Please go ahead and do the calculation and create `f_wb_manual` yourself below"
   ]
  },
  {
   "cell_type": "code",
   "execution_count": null,
   "id": "5729d95d",
   "metadata": {},
   "outputs": [],
   "source": []
  },
  {
   "cell_type": "code",
   "execution_count": 13,
   "id": "980b7441-5c00-489f-88a1-1f40f77c09dc",
   "metadata": {},
   "outputs": [],
   "source": [
    "f_wb_manual = [w * x_train[0] + b, w * x_train[1] + b]"
   ]
  },
  {
   "cell_type": "code",
   "execution_count": 14,
   "id": "9557e6ed",
   "metadata": {},
   "outputs": [
    {
     "data": {
      "text/plain": [
       "[200.0, 300.0]"
      ]
     },
     "execution_count": 14,
     "metadata": {},
     "output_type": "execute_result"
    }
   ],
   "source": [
    "f_wb_manual"
   ]
  },
  {
   "cell_type": "markdown",
   "id": "fed7f146",
   "metadata": {},
   "source": [
    "For a large number of data points, this can get unwieldy and repetitive. So instead, you can calculate the function output in a `for` loop as shown in the `compute_model_output` function below.\n",
    "> **Note**: The argument description `(ndarray (m,))` describes a Numpy n-dimensional array of shape (m,). `(scalar)` describes an argument without dimensions, just a magnitude.  \n",
    "> **Note**: `np.zero(n)` will return a one-dimensional numpy array with $n$ entries   \n"
   ]
  },
  {
   "cell_type": "code",
   "execution_count": 15,
   "id": "afca0db9",
   "metadata": {},
   "outputs": [],
   "source": [
    "def compute_model_output(x, w, b):\n",
    "    \"\"\"\n",
    "    Computes the prediction of a linear model\n",
    "    Args:\n",
    "      x (ndarray (m,)): Data, m examples \n",
    "      w,b (scalar)    : model parameters  \n",
    "    Returns\n",
    "      y (ndarray (m,)): target values\n",
    "    \"\"\"\n",
    "    m = x.shape[0]\n",
    "    f_wb = np.zeros(m)\n",
    "    for i in range(m):\n",
    "        f_wb[i] = w * x[i] + b\n",
    "        \n",
    "    return f_wb"
   ]
  },
  {
   "cell_type": "markdown",
   "id": "39f1ccfa-7a58-4b79-9f8f-cf5775cb059f",
   "metadata": {},
   "source": [
    "Now please type in `XX=compute_model_output(` in a Code cell and hit SHIFT+TAB. What do you see?"
   ]
  },
  {
   "cell_type": "code",
   "execution_count": 16,
   "id": "c99d8472-2ae8-46ba-b21a-f35c844a27e6",
   "metadata": {},
   "outputs": [],
   "source": [
    "XX = compute_model_output(x_train, w, b)"
   ]
  },
  {
   "cell_type": "code",
   "execution_count": 17,
   "id": "90079384",
   "metadata": {},
   "outputs": [
    {
     "data": {
      "text/plain": [
       "array([200., 300.])"
      ]
     },
     "execution_count": 17,
     "metadata": {},
     "output_type": "execute_result"
    }
   ],
   "source": [
    "XX"
   ]
  },
  {
   "cell_type": "markdown",
   "id": "b59006c2",
   "metadata": {},
   "source": [
    "Now let's call the `compute_model_output` function and plot the output.."
   ]
  },
  {
   "cell_type": "code",
   "execution_count": 23,
   "id": "7ba5a0cb",
   "metadata": {},
   "outputs": [
    {
     "data": {
      "image/png": "[encoded data removed]",
      "text/plain": [
       "<Figure size 640x480 with 1 Axes>"
      ]
     },
     "metadata": {},
     "output_type": "display_data"
    }
   ],
   "source": [
    "tmp_f_wb = compute_model_output(x_train, w, b,)\n",
    "\n",
    "# Plot our model prediction\n",
    "plt.plot(x_train, tmp_f_wb, c='b',label='Our Prediction')\n",
    "\n",
    "# Plot the data points\n",
    "plt.scatter(x_train, y_train, marker='x', c='r',label='Actual Values')\n",
    "\n",
    "# Set the title\n",
    "plt.title(\"Housing Prices\")\n",
    "# Set the y-axis label\n",
    "plt.ylabel('Price (in 1000s of dollars)')\n",
    "# Set the x-axis label\n",
    "plt.xlabel('Size (1000 sqft)')\n",
    "plt.legend()\n",
    "plt.show()"
   ]
  },
  {
   "cell_type": "markdown",
   "id": "22e04c56-e174-46da-9e9b-a260402ef8e1",
   "metadata": {},
   "source": [
    "Now, I want you to experiment with different values of $w$ and $b$ and search for the best `w` and `b` that fits  `Actual Values`\n",
    "Please report the numbers for $w = XX$ and $b = XX$ here."
   ]
  },
  {
   "cell_type": "code",
   "execution_count": 34,
   "id": "c8e2dcc9",
   "metadata": {},
   "outputs": [
    {
     "data": {
      "image/png": "[encoded data removed]",
      "text/plain": [
       "<Figure size 640x480 with 1 Axes>"
      ]
     },
     "metadata": {},
     "output_type": "display_data"
    }
   ],
   "source": [
    "model2 = compute_model_output(x_train, w=100, b=300)\n",
    "model2\n",
    "\n",
    "# Plot our model prediction\n",
    "plt.plot(x_train, model2, c='b',label='Our Prediction')\n",
    "\n",
    "# Plot the data points\n",
    "plt.scatter(x_train, y_train, marker='x', c='r',label='Actual Values')\n",
    "\n",
    "# Set the title\n",
    "plt.title(\"Housing Prices\")\n",
    "# Set the y-axis label\n",
    "plt.ylabel('Price (in 1000s of dollars)')\n",
    "# Set the x-axis label\n",
    "plt.xlabel('Size (1000 sqft)')\n",
    "plt.legend()\n",
    "plt.show()"
   ]
  },
  {
   "cell_type": "code",
   "execution_count": 33,
   "id": "02357fbb",
   "metadata": {},
   "outputs": [
    {
     "data": {
      "image/png": "[encoded data removed]",
      "text/plain": [
       "<Figure size 640x480 with 1 Axes>"
      ]
     },
     "metadata": {},
     "output_type": "display_data"
    }
   ],
   "source": [
    "model3 = compute_model_output(x_train, w=200, b=100)\n",
    "model3\n",
    "\n",
    "# Plot our model prediction\n",
    "plt.plot(x_train, model3, c='b',label='Our Prediction')\n",
    "\n",
    "# Plot the data points\n",
    "plt.scatter(x_train, y_train, marker='x', c='r',label='Actual Values')\n",
    "\n",
    "# Set the title\n",
    "plt.title(\"Housing Prices\")\n",
    "# Set the y-axis label\n",
    "plt.ylabel('Price (in 1000s of dollars)')\n",
    "# Set the x-axis label\n",
    "plt.xlabel('Size (1000 sqft)')\n",
    "plt.legend()\n",
    "plt.show()"
   ]
  },
  {
   "cell_type": "markdown",
   "id": "ddcb3f27",
   "metadata": {},
   "source": [
    "#### Prediction\n",
    "Now that we have a model, we can use it to make our original prediction. Let's predict the price of a house with 1200 sqft. Since the units of $x$ are in 1000's of sqft, $x$ is 1.2.\n"
   ]
  },
  {
   "cell_type": "markdown",
   "id": "d884e085",
   "metadata": {},
   "source": [
    "You can use your mouse to click on the triangle to the left of the green \"Hints\" below to reveal some hints for choosing b and w."
   ]
  },
  {
   "cell_type": "markdown",
   "id": "e66dfa7a",
   "metadata": {},
   "source": [
    "<details>\n",
    "<summary>\n",
    "    <font size='3', color='darkgreen'><b>Hints</b></font>\n",
    "</summary>\n",
    "    <p>\n",
    "    <ul>\n",
    "        <li>Try $w = 200$ and $b = 100$ </li>\n",
    "    </ul>\n",
    "    </p>"
   ]
  },
  {
   "cell_type": "markdown",
   "id": "b47ffd78-b79c-4f49-973d-bba953b095d6",
   "metadata": {},
   "source": [
    "Define new `w` and `b` below"
   ]
  },
  {
   "cell_type": "code",
   "execution_count": 38,
   "id": "500c2b8f-0179-444d-9975-04b10521d334",
   "metadata": {},
   "outputs": [],
   "source": [
    "w_new = 200\n",
    "b_new = 100"
   ]
  },
  {
   "cell_type": "code",
   "execution_count": 39,
   "id": "051efa2e",
   "metadata": {},
   "outputs": [
    {
     "name": "stdout",
     "output_type": "stream",
     "text": [
      "$340 thousand dollars\n"
     ]
    }
   ],
   "source": [
    "x_i = 1.2\n",
    "cost_1200sqft = w_new * x_i + b_new    \n",
    "\n",
    "print(f\"${cost_1200sqft:.0f} thousand dollars\")"
   ]
  }
 ],
 "metadata": {
  "kernelspec": {
   "display_name": "Python 3 (ipykernel)",
   "language": "python",
   "name": "python3"
  },
  "language_info": {
   "codemirror_mode": {
    "name": "ipython",
    "version": 3
   },
   "file_extension": ".py",
   "mimetype": "text/x-python",
   "name": "python",
   "nbconvert_exporter": "python",
   "pygments_lexer": "ipython3",
   "version": "3.11.5"
  },
  "toc-autonumbering": false
 },
 "nbformat": 4,
 "nbformat_minor": 5
}
